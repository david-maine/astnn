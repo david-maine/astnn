{
 "cells": [
  {
   "cell_type": "markdown",
   "metadata": {},
   "source": [
    "# LSTM with Attention model"
   ]
  },
  {
   "cell_type": "markdown",
   "metadata": {},
   "source": [
    "python std_train.py --config configs/ast_rnn_attn.ini --adversarial False --n_subtree=300 --n_renames=1000 --repeat 1"
   ]
  },
  {
   "cell_type": "raw",
   "metadata": {},
   "source": [
    "Base Accuracy:  22057/ 25120 (87.81%), reject:      0/ 25120 (0.00%)\n",
    "           correct                SOUND:  10856/ 22057 (49.22%)\n",
    "           correct        SOUND_PRECISE:  10856/ 22057 (49.22%)\n",
    "           correct              UNSOUND:  11201/ 22057 (50.78%)\n",
    "         incorrect              UNSOUND:   3063/  3063 (100.00%)\n",
    "            reject                SOUND:      0/     0 (0.00%)\n",
    "            reject        SOUND_PRECISE:      0/     0 (0.00%)\n",
    "            reject              UNSOUND:      0/     0 (0.00%)\n",
    "             total                SOUND:  10856/ 25120 (43.22%)\n",
    "             total              UNSOUND:  14264/ 25120 (56.78%)"
   ]
  },
  {
   "cell_type": "markdown",
   "metadata": {},
   "source": [
    "python std_train.py --config configs/ast_rnn_attn.ini --adversarial True --n_subtree=300 --n_renames=1000 --repeat 1"
   ]
  },
  {
   "cell_type": "raw",
   "metadata": {},
   "source": [
    "Base Accuracy:  22079/ 25120 (87.89%), reject:      0/ 25120 (0.00%)\n",
    "           correct                SOUND:  13183/ 22079 (59.71%)\n",
    "           correct        SOUND_PRECISE:  13183/ 22079 (59.71%)\n",
    "           correct              UNSOUND:   8896/ 22079 (40.29%)\n",
    "         incorrect              UNSOUND:   3041/  3041 (100.00%)\n",
    "            reject                SOUND:      0/     0 (0.00%)\n",
    "            reject        SOUND_PRECISE:      0/     0 (0.00%)\n",
    "            reject              UNSOUND:      0/     0 (0.00%)\n",
    "             total                SOUND:  13183/ 25120 (52.48%)\n",
    "             total              UNSOUND:  11937/ 25120 (47.52%)"
   ]
  },
  {
   "cell_type": "code",
   "execution_count": null,
   "metadata": {},
   "outputs": [],
   "source": []
  }
 ],
 "metadata": {
  "kernelspec": {
   "display_name": "Python 3",
   "language": "python",
   "name": "python3"
  },
  "language_info": {
   "codemirror_mode": {
    "name": "ipython",
    "version": 3
   },
   "file_extension": ".py",
   "mimetype": "text/x-python",
   "name": "python",
   "nbconvert_exporter": "python",
   "pygments_lexer": "ipython3",
   "version": "3.8.5"
  }
 },
 "nbformat": 4,
 "nbformat_minor": 4
}
