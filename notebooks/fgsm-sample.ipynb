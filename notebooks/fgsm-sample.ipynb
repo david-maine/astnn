{
 "cells": [
  {
   "cell_type": "code",
   "execution_count": 1,
   "metadata": {},
   "outputs": [],
   "source": [
    "import os\n",
    "import sys\n",
    "module_path = os.path.abspath(os.path.join('..'))\n",
    "if module_path not in sys.path:\n",
    "    sys.path.append(module_path)\n",
    "    \n",
    "import pandas as pd\n",
    "import random\n",
    "import torch\n",
    "import time\n",
    "import numpy as np\n",
    "from gensim.models.word2vec import Word2Vec\n",
    "from model import BatchProgramClassifier\n",
    "from torch.autograd import Variable\n",
    "from torch.utils.data import DataLoader\n",
    "\n",
    "import torch.nn as nn\n",
    "import torch.nn.functional as F\n",
    "import torch\n",
    "from torch.autograd import Variable\n",
    "\n",
    "import re\n",
    "\n",
    "from pycparser.c_ast import TypeDecl, ArrayDecl\n",
    "from pycparser import c_ast"
   ]
  },
  {
   "cell_type": "code",
   "execution_count": 2,
   "metadata": {},
   "outputs": [
    {
     "data": {
      "text/plain": [
       "<All keys matched successfully>"
      ]
     },
     "execution_count": 2,
     "metadata": {},
     "output_type": "execute_result"
    }
   ],
   "source": [
    "root = '/home/david/projects/university/astnn/data/'\n",
    "\n",
    "word2vec = Word2Vec.load(root+\"train/embedding/node_w2v_128\").wv\n",
    "embeddings = np.zeros((word2vec.vectors.shape[0] + 1, word2vec.vectors.shape[1]), dtype=\"float32\")\n",
    "embeddings[:word2vec.vectors.shape[0]] = word2vec.vectors\n",
    "\n",
    "HIDDEN_DIM = 100\n",
    "ENCODE_DIM = 128\n",
    "LABELS = 104\n",
    "EPOCHS = 15\n",
    "BATCH_SIZE = 1\n",
    "USE_GPU = False\n",
    "MAX_TOKENS = word2vec.vectors.shape[0]\n",
    "EMBEDDING_DIM = word2vec.vectors.shape[1]\n",
    "\n",
    "model = BatchProgramClassifier(EMBEDDING_DIM,HIDDEN_DIM,MAX_TOKENS+1,ENCODE_DIM,LABELS,BATCH_SIZE,\n",
    "                               USE_GPU, embeddings)\n",
    "model.load_state_dict(torch.load(\"/home/david/projects/university/astnn/model.pt\"))"
   ]
  },
  {
   "cell_type": "markdown",
   "metadata": {},
   "source": [
    "# Load Data"
   ]
  },
  {
   "cell_type": "code",
   "execution_count": 3,
   "metadata": {},
   "outputs": [],
   "source": [
    "word2vec = Word2Vec.load('/home/david/projects/university/astnn/data/train/embedding/node_w2v_128').wv\n",
    "vocab = word2vec.vocab\n",
    "\n",
    "ast_data = pd.read_pickle(root+'test/test_.pkl')\n",
    "block_data = pd.read_pickle(root+'test/blocks.pkl')"
   ]
  },
  {
   "cell_type": "markdown",
   "metadata": {},
   "source": [
    "# Allowed var names"
   ]
  },
  {
   "cell_type": "code",
   "execution_count": 4,
   "metadata": {},
   "outputs": [],
   "source": [
    "leaf_embed = nn.Sequential(\n",
    "    model._modules['encoder']._modules['embedding'],\n",
    "    model._modules['encoder']._modules['W_c']\n",
    ")"
   ]
  },
  {
   "cell_type": "code",
   "execution_count": 5,
   "metadata": {
    "scrolled": true
   },
   "outputs": [
    {
     "data": {
      "text/plain": [
       "False"
      ]
     },
     "execution_count": 5,
     "metadata": {},
     "output_type": "execute_result"
    }
   ],
   "source": [
    "# words we wont allow as variable names\n",
    "reserved_words = [\n",
    "    'auto',\n",
    "    'break',\n",
    "    'case',\n",
    "    'char',\n",
    "    'const',\n",
    "    'continue',\n",
    "    'default',\n",
    "    'do',\n",
    "    'int',\n",
    "    'long',\n",
    "    'register',\n",
    "    'return',\n",
    "    'short',\n",
    "    'sizeof',\n",
    "    'static',\n",
    "    'struct',\n",
    "    'switch',\n",
    "    'typedef',\n",
    "    'union',\n",
    "    'unsigned',\n",
    "    'void',\n",
    "    'volatile',\n",
    "    'while',\n",
    "    'double',\n",
    "    'else',\n",
    "    'enum',\n",
    "    'extern',\n",
    "    'float',\n",
    "    'for',\n",
    "    'goto',\n",
    "    'if',\n",
    "    'printf',\n",
    "    'scanf',\n",
    "    'cos',\n",
    "    'malloc'\n",
    "]\n",
    "\n",
    "\n",
    "def allowed_variable(var):\n",
    "    pattern = re.compile(\"([a-z]|[A-Z]|_)+([a-z]|[A-Z]|[0-9]|_)*$\")\n",
    "    if (var not in reserved_words) and pattern.match(var):\n",
    "        return True\n",
    "    else:\n",
    "        return False\n",
    "\n",
    "allowed_variable('scanf')"
   ]
  },
  {
   "cell_type": "code",
   "execution_count": 6,
   "metadata": {},
   "outputs": [],
   "source": [
    "embedding_map = {}\n",
    "\n",
    "for index in range(len(vocab)):\n",
    "    if allowed_variable(word2vec.index2word[index]):\n",
    "        embedding_map[index] = leaf_embed(torch.tensor(index)).detach().numpy()"
   ]
  },
  {
   "cell_type": "markdown",
   "metadata": {},
   "source": [
    "# Var replace functions"
   ]
  },
  {
   "cell_type": "code",
   "execution_count": 7,
   "metadata": {},
   "outputs": [],
   "source": [
    "def replace_index(node, old_i, new_i):\n",
    "    i = node[0]\n",
    "    if i == old_i:\n",
    "        result = [new_i]\n",
    "    else:\n",
    "        result = [i]\n",
    "    children = node[1:]\n",
    "    for child in children:\n",
    "        result.append(replace_index(child, old_i, new_i))\n",
    "    return result\n",
    "\n",
    "def replace_var(x, old_i, new_i):\n",
    "    mod_blocks = []\n",
    "    for block in x:\n",
    "        mod_blocks.append(replace_index(block, old_i, new_i))\n",
    "\n",
    "    return mod_blocks"
   ]
  },
  {
   "cell_type": "markdown",
   "metadata": {},
   "source": [
    "# Closest Var functions"
   ]
  },
  {
   "cell_type": "code",
   "execution_count": 35,
   "metadata": {},
   "outputs": [],
   "source": [
    "def l2_norm(a, b):\n",
    "    return np.linalg.norm(a-b)\n",
    "\n",
    "def cos_sim(a, b):\n",
    "    return np.inner(a, b) / (np.linalg.norm(a) * np.linalg.norm(b))\n",
    "\n",
    "def closest_index(embedding, embedding_map, metric):\n",
    "    closest_i = list(embedding_map.keys())[0]\n",
    "    closest_dist = metric(embedding_map[closest_i], embedding)\n",
    "    for i, e in embedding_map.items():\n",
    "        d = metric(embedding_map[i], embedding)\n",
    "        if d < closest_dist:\n",
    "            closest_dist = d\n",
    "            closest_i = i\n",
    "    return closest_i\n",
    "\n",
    "def normalize(v):\n",
    "    norm = np.linalg.norm(v)\n",
    "    if norm == 0:\n",
    "        return v\n",
    "    return v / norm"
   ]
  },
  {
   "cell_type": "markdown",
   "metadata": {},
   "source": [
    "# Grad locating functions"
   ]
  },
  {
   "cell_type": "code",
   "execution_count": 36,
   "metadata": {},
   "outputs": [],
   "source": [
    "def get_embedding(indices, node_list):\n",
    "    '''\n",
    "    get the embeddings at the index positions in postorder traversal.\n",
    "    '''\n",
    "    res = []\n",
    "    c = 0\n",
    "    for i in range(node_list.size(0)):\n",
    "        if not np.all(node_list[i].detach().numpy() == 0):\n",
    "            if c in indices:\n",
    "                res.append(node_list[i])\n",
    "            c += 1\n",
    "    return res\n",
    "\n",
    "def post_order_loc(node, var, res, counter):\n",
    "    '''\n",
    "    \n",
    "    '''\n",
    "    index = node[0]\n",
    "    children = node[1:]\n",
    "    for child in children:\n",
    "        res, counter = post_order_loc(child, var, res, counter)\n",
    "    if var == index and (not children):\n",
    "        res.append(counter) \n",
    "#         print(counter, word2vec.index2word[index])\n",
    "    counter += 1\n",
    "    return res, counter\n",
    "\n",
    "def get_grad(x, var_index, node_list):\n",
    "    grads = []\n",
    "    for i, block in enumerate(x):\n",
    "        indices, _ = post_order_loc(block, var_index, [], 0)\n",
    "        grads += get_embedding(indices, node_list.grad[:, i, :])\n",
    "        try:\n",
    "            node_embedding = get_embedding(indices, node_list[:, i, :])[0]\n",
    "        except:\n",
    "            pass\n",
    "        \n",
    "    if len(grads) < 1:\n",
    "        return None, None\n",
    "    grad = torch.stack(grads).sum(dim=0)\n",
    "    return grad, node_embedding"
   ]
  },
  {
   "cell_type": "markdown",
   "metadata": {},
   "source": [
    "# Var name finder"
   ]
  },
  {
   "cell_type": "code",
   "execution_count": 37,
   "metadata": {},
   "outputs": [],
   "source": [
    "\n",
    "class declarationFinder(c_ast.NodeVisitor):\n",
    "    def __init__(self):\n",
    "        self.names = set()\n",
    "    \n",
    "    def visit_Decl(self, node):\n",
    "        if type(node.type) in [TypeDecl, ArrayDecl] :\n",
    "            self.names.add(node.name)\n",
    "\n",
    "def get_var_names(ast):\n",
    "    declaration_finder = declarationFinder()\n",
    "    declaration_finder.visit(ast)\n",
    "    return declaration_finder.names\n",
    "    \n",
    "# get_var_names(x)"
   ]
  },
  {
   "cell_type": "markdown",
   "metadata": {},
   "source": [
    "# FGSM\n",
    "\n",
    "with vars ordered and early exit"
   ]
  },
  {
   "cell_type": "code",
   "execution_count": 38,
   "metadata": {},
   "outputs": [],
   "source": [
    "def gradient_method(x, n_list, var, epsilon, metric):\n",
    "\n",
    "    orig_index = vocab[var].index if var in vocab else MAX_TOKEN\n",
    "\n",
    "    grad, node_embedding = get_grad(x, orig_index, n_list)\n",
    "    if grad is None:\n",
    "#         print(\"no leaf occurences\")\n",
    "        return None\n",
    "\n",
    "    v = node_embedding.detach().numpy()\n",
    "    g = torch.sign(grad).detach().numpy()\n",
    "\n",
    "    v = v + epsilon * g\n",
    "    # get the closest emebedding from our map\n",
    "    i = closest_index(v, sampled_embedding_map, metric)\n",
    "#         print(\"orig name:\", word2vec.index2word[orig_index], \"; new name:\", word2vec.index2word[i])\n",
    "    if i != orig_index:\n",
    "        return replace_var(x, orig_index, i)\n",
    "    else:\n",
    "        return x"
   ]
  },
  {
   "cell_type": "code",
   "execution_count": 39,
   "metadata": {},
   "outputs": [],
   "source": [
    "MAX_TOKEN = word2vec.vectors.shape[0]"
   ]
  },
  {
   "cell_type": "code",
   "execution_count": 47,
   "metadata": {},
   "outputs": [],
   "source": [
    "def evaluate(epsilon, limit = None):\n",
    "    ast_count = 0\n",
    "    var_count = 0\n",
    "\n",
    "    ast_total = 0\n",
    "    var_total = 0\n",
    "\n",
    "    for code_id in block_data['id'].tolist():\n",
    "    #     print(code_id)\n",
    "        x, ast = block_data['code'][code_id], ast_data['code'][code_id]\n",
    "\n",
    "        _, orig_pred = torch.max(model([x]).data, 1)\n",
    "        orig_pred = orig_pred.item()\n",
    "\n",
    "        # get the grad\n",
    "        loss_function = torch.nn.CrossEntropyLoss()\n",
    "        labels = torch.LongTensor([orig_pred])\n",
    "        output = model([x])\n",
    "        loss = loss_function(output, Variable(labels))\n",
    "        loss.backward()\n",
    "        n_list = model._modules['encoder'].node_list\n",
    "\n",
    "        var_names = get_var_names(ast)\n",
    "        success = False\n",
    "        for var in list(var_names):\n",
    "\n",
    "            new_x_l2 = gradient_method(x, n_list, var, epsilon, l2_norm)\n",
    "            if new_x_l2:\n",
    "                o = model([new_x_l2])\n",
    "                _, predicted_l2 = torch.max(o.data, 1)\n",
    "\n",
    "    #             print(orig_pred, predicted_l2.item())\n",
    "                if orig_pred != predicted_l2.item():\n",
    "                    var_count += 1\n",
    "                    success = True\n",
    "                var_total += 1\n",
    "\n",
    "        if success:\n",
    "            ast_count += 1\n",
    "        ast_total += 1\n",
    "\n",
    "\n",
    "        if ast_total % 1000 == 999:\n",
    "            print(ast_total, \"AST level success:\", ast_count / ast_total)\n",
    "            print(\"variable level success:\", var_count / var_total)\n",
    "    \n",
    "        if limit and limit < ast_total:\n",
    "            break\n",
    "    return (ast_count / ast_total, var_count / var_total)\n",
    "\n"
   ]
  },
  {
   "cell_type": "markdown",
   "metadata": {},
   "source": [
    "# Use subset of vocab"
   ]
  },
  {
   "cell_type": "code",
   "execution_count": 50,
   "metadata": {},
   "outputs": [],
   "source": [
    "sample_rate = 0.2\n",
    "sample_count = int(len(embedding_map) * sample_rate)\n",
    "sampled_embedding_map = {key: embedding_map[key] for key in random.sample(embedding_map.keys(), sample_count)}"
   ]
  },
  {
   "cell_type": "code",
   "execution_count": 52,
   "metadata": {},
   "outputs": [
    {
     "name": "stdout",
     "output_type": "stream",
     "text": [
      "0.1 211.12363243103027 0.4031936127744511 0.1295143212951432\n",
      "0.2 235.6532895565033 0.4091816367265469 0.13885429638854296\n",
      "0.30000000000000004 304.33177161216736 0.39520958083832336 0.12608966376089664\n",
      "0.4 340.64661502838135 0.4151696606786427 0.13262764632627647\n",
      "0.5 378.89820194244385 0.4491017964071856 0.149439601494396\n",
      "0.6 342.44808316230774 0.4630738522954092 0.14850560398505605\n",
      "0.7000000000000001 400.53413248062134 0.46506986027944114 0.15130759651307596\n",
      "0.8 422.1323857307434 0.46706586826347307 0.15161892901618929\n",
      "0.9 410.3561363220215 0.46706586826347307 0.1541095890410959\n",
      "1.0 411.79942512512207 0.47704590818363274 0.1553549190535492\n"
     ]
    }
   ],
   "source": [
    "import time\n",
    "\n",
    "sample_rates = np.linspace(0.1,1,10)\n",
    "ast_performances = []\n",
    "var_performances = []\n",
    "eval_times = []\n",
    "\n",
    "e = 10\n",
    "for sample_rate in sample_rates:\n",
    "    sample_count = int(len(embedding_map) * sample_rate)\n",
    "    sampled_embedding_map = {key: embedding_map[key] for key in random.sample(embedding_map.keys(), sample_count)}\n",
    "    \n",
    "    start = time.time()\n",
    "    ast_performance, var_performance = evaluate(e, 500)\n",
    "    eval_time = time.time() - start\n",
    "    \n",
    "    ast_performances.append(ast_performance)\n",
    "    var_performances.append(var_performance)\n",
    "    eval_times.append(eval_time)\n",
    "    print(sample_rate, eval_time, ast_performance, var_performance)"
   ]
  },
  {
   "cell_type": "code",
   "execution_count": 57,
   "metadata": {},
   "outputs": [
    {
     "data": {
      "image/png": "[encoded data removed]",
      "text/plain": [
       "<Figure size 432x288 with 1 Axes>"
      ]
     },
     "metadata": {
      "needs_background": "light"
     },
     "output_type": "display_data"
    },
    {
     "data": {
      "image/png": "[encoded data removed]",
      "text/plain": [
       "<Figure size 432x288 with 1 Axes>"
      ]
     },
     "metadata": {
      "needs_background": "light"
     },
     "output_type": "display_data"
    },
    {
     "data": {
      "image/png": "[encoded data removed]",
      "text/plain": [
       "<Figure size 432x288 with 1 Axes>"
      ]
     },
     "metadata": {
      "needs_background": "light"
     },
     "output_type": "display_data"
    }
   ],
   "source": [
    "import matplotlib.pyplot as plt\n",
    "\n",
    "plt.plot(sample_rates, ast_performances)\n",
    "plt.xlabel(\"sample rate\")\n",
    "plt.ylabel(\"success rate\")\n",
    "plt.title(\"AST Level Success\")\n",
    "plt.show()\n",
    "\n",
    "plt.plot(sample_rates, var_performances)\n",
    "plt.xlabel(\"sample rate\")\n",
    "plt.ylabel(\"success rate\")\n",
    "plt.title(\"Variable Level Success\")\n",
    "plt.show()\n",
    "\n",
    "plt.plot(sample_rates, eval_times)\n",
    "plt.xlabel(\"sample rate\")\n",
    "plt.ylabel(\"time\")\n",
    "plt.title(\"Time Efficiency\")\n",
    "plt.show()"
   ]
  },
  {
   "cell_type": "code",
   "execution_count": null,
   "metadata": {},
   "outputs": [],
   "source": []
  }
 ],
 "metadata": {
  "kernelspec": {
   "display_name": "Python 3",
   "language": "python",
   "name": "python3"
  },
  "language_info": {
   "codemirror_mode": {
    "name": "ipython",
    "version": 3
   },
   "file_extension": ".py",
   "mimetype": "text/x-python",
   "name": "python",
   "nbconvert_exporter": "python",
   "pygments_lexer": "ipython3",
   "version": "3.8.5"
  }
 },
 "nbformat": 4,
 "nbformat_minor": 4
}
