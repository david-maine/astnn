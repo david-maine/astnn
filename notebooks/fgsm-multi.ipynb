{
 "cells": [
  {
   "cell_type": "code",
   "execution_count": 1,
   "metadata": {},
   "outputs": [],
   "source": [
    "import os\n",
    "import sys\n",
    "module_path = os.path.abspath(os.path.join('..'))\n",
    "if module_path not in sys.path:\n",
    "    sys.path.append(module_path)\n",
    "    \n",
    "import pandas as pd\n",
    "import random\n",
    "import torch\n",
    "import time\n",
    "import numpy as np\n",
    "from gensim.models.word2vec import Word2Vec\n",
    "from model import BatchProgramClassifier\n",
    "from torch.autograd import Variable\n",
    "from torch.utils.data import DataLoader\n",
    "\n",
    "import torch.nn as nn\n",
    "import torch.nn.functional as F\n",
    "import torch\n",
    "from torch.autograd import Variable\n",
    "\n",
    "import re\n",
    "\n",
    "from pycparser.c_ast import TypeDecl, ArrayDecl\n",
    "from pycparser import c_ast"
   ]
  },
  {
   "cell_type": "code",
   "execution_count": 2,
   "metadata": {},
   "outputs": [
    {
     "data": {
      "text/plain": [
       "<All keys matched successfully>"
      ]
     },
     "execution_count": 2,
     "metadata": {},
     "output_type": "execute_result"
    }
   ],
   "source": [
    "root = '/home/david/projects/university/astnn/data/'\n",
    "\n",
    "word2vec = Word2Vec.load(root+\"train/embedding/node_w2v_128\").wv\n",
    "embeddings = np.zeros((word2vec.vectors.shape[0] + 1, word2vec.vectors.shape[1]), dtype=\"float32\")\n",
    "embeddings[:word2vec.vectors.shape[0]] = word2vec.vectors\n",
    "\n",
    "HIDDEN_DIM = 100\n",
    "ENCODE_DIM = 128\n",
    "LABELS = 104\n",
    "EPOCHS = 15\n",
    "BATCH_SIZE = 1\n",
    "USE_GPU = False\n",
    "MAX_TOKENS = word2vec.vectors.shape[0]\n",
    "EMBEDDING_DIM = word2vec.vectors.shape[1]\n",
    "\n",
    "model = BatchProgramClassifier(EMBEDDING_DIM,HIDDEN_DIM,MAX_TOKENS+1,ENCODE_DIM,LABELS,BATCH_SIZE,\n",
    "                               USE_GPU, embeddings)\n",
    "model.load_state_dict(torch.load(\"/home/david/projects/university/astnn/model.pt\"))"
   ]
  },
  {
   "cell_type": "markdown",
   "metadata": {},
   "source": [
    "# Load Data"
   ]
  },
  {
   "cell_type": "code",
   "execution_count": null,
   "metadata": {},
   "outputs": [],
   "source": [
    "word2vec = Word2Vec.load('/home/david/projects/university/astnn/data/train/embedding/node_w2v_128').wv\n",
    "vocab = word2vec.vocab\n",
    "\n",
    "ast_data = pd.read_pickle(root+'test/test_.pkl')\n",
    "block_data = pd.read_pickle(root+'test/blocks.pkl')"
   ]
  },
  {
   "cell_type": "markdown",
   "metadata": {},
   "source": [
    "# Allowed var names"
   ]
  },
  {
   "cell_type": "code",
   "execution_count": null,
   "metadata": {},
   "outputs": [],
   "source": [
    "leaf_embed = nn.Sequential(\n",
    "    model._modules['encoder']._modules['embedding'],\n",
    "    model._modules['encoder']._modules['W_c']\n",
    ")"
   ]
  },
  {
   "cell_type": "code",
   "execution_count": null,
   "metadata": {},
   "outputs": [],
   "source": [
    "# words we wont allow as variable names\n",
    "reserved_words = [\n",
    "    'auto',\n",
    "    'break',\n",
    "    'case',\n",
    "    'char',\n",
    "    'const',\n",
    "    'continue',\n",
    "    'default',\n",
    "    'do',\n",
    "    'int',\n",
    "    'long',\n",
    "    'register',\n",
    "    'return',\n",
    "    'short',\n",
    "    'sizeof',\n",
    "    'static',\n",
    "    'struct',\n",
    "    'switch',\n",
    "    'typedef',\n",
    "    'union',\n",
    "    'unsigned',\n",
    "    'void',\n",
    "    'volatile',\n",
    "    'while',\n",
    "    'double',\n",
    "    'else',\n",
    "    'enum',\n",
    "    'extern',\n",
    "    'float',\n",
    "    'for',\n",
    "    'goto',\n",
    "    'if',\n",
    "    'printf',\n",
    "    'scanf',\n",
    "    'cos',\n",
    "    'malloc'\n",
    "]\n",
    "\n",
    "\n",
    "def allowed_variable(var):\n",
    "    pattern = re.compile(\"([a-z]|[A-Z]|_)+([a-z]|[A-Z]|[0-9]|_)*$\")\n",
    "    if (var not in reserved_words) and pattern.match(var):\n",
    "        return True\n",
    "    else:\n",
    "        return False\n",
    "\n",
    "allowed_variable('scanf')"
   ]
  },
  {
   "cell_type": "code",
   "execution_count": null,
   "metadata": {},
   "outputs": [],
   "source": [
    "embedding_map = {}\n",
    "\n",
    "for index in range(len(vocab)):\n",
    "    if allowed_variable(word2vec.index2word[index]):\n",
    "        embedding_map[index] = leaf_embed(torch.tensor(index)).detach().numpy()"
   ]
  },
  {
   "cell_type": "code",
   "execution_count": null,
   "metadata": {},
   "outputs": [],
   "source": [
    "embedding_map"
   ]
  },
  {
   "cell_type": "markdown",
   "metadata": {},
   "source": [
    "# Var replace functions"
   ]
  },
  {
   "cell_type": "code",
   "execution_count": null,
   "metadata": {},
   "outputs": [],
   "source": [
    "def replace_index(node, old_i, new_i):\n",
    "    i = node[0]\n",
    "    if i == old_i:\n",
    "        result = [new_i]\n",
    "    else:\n",
    "        result = [i]\n",
    "    children = node[1:]\n",
    "    for child in children:\n",
    "        result.append(replace_index(child, old_i, new_i))\n",
    "    return result\n",
    "\n",
    "def replace_var(x, old_i, new_i):\n",
    "    mod_blocks = []\n",
    "    for block in x:\n",
    "        mod_blocks.append(replace_index(block, old_i, new_i))\n",
    "\n",
    "    return mod_blocks"
   ]
  },
  {
   "cell_type": "markdown",
   "metadata": {},
   "source": [
    "# Closest Var functions"
   ]
  },
  {
   "cell_type": "code",
   "execution_count": null,
   "metadata": {},
   "outputs": [],
   "source": [
    "def l2_norm(a, b):\n",
    "    return np.linalg.norm(a-b)\n",
    "\n",
    "def cos_sim(a, b):\n",
    "    return np.inner(a, b) / (np.linalg.norm(a) * np.linalg.norm(b))\n",
    "\n",
    "def closest_index(embedding, embedding_map, metric):\n",
    "    closest_i = 0\n",
    "#     closest_dist = l2_norm(embedding_map[closest_i], embedding)\n",
    "    closest_dist = metric(embedding_map[closest_i], embedding)\n",
    "    for i, e in embedding_map.items():\n",
    "#         d = l2_norm(embedding_map[i], embedding)\n",
    "        d = metric(embedding_map[i], embedding)\n",
    "        if d < closest_dist:\n",
    "            closest_dist = d\n",
    "            closest_i = i\n",
    "    return closest_i\n",
    "\n",
    "def normalize(v):\n",
    "    norm = np.linalg.norm(v)\n",
    "    if norm == 0:\n",
    "        return v\n",
    "    return v / norm"
   ]
  },
  {
   "cell_type": "markdown",
   "metadata": {},
   "source": [
    "# Grad locating functions"
   ]
  },
  {
   "cell_type": "code",
   "execution_count": null,
   "metadata": {},
   "outputs": [],
   "source": [
    "def get_embedding(indices, node_list):\n",
    "    '''\n",
    "    get the embeddings at the index positions in postorder traversal.\n",
    "    '''\n",
    "    res = []\n",
    "    c = 0\n",
    "    for i in range(node_list.size(0)):\n",
    "        if not np.all(node_list[i].detach().numpy() == 0):\n",
    "            if c in indices:\n",
    "                res.append(node_list[i])\n",
    "            c += 1\n",
    "    return res\n",
    "\n",
    "def post_order_loc(node, var, res, counter):\n",
    "    '''\n",
    "    \n",
    "    '''\n",
    "    index = node[0]\n",
    "    children = node[1:]\n",
    "    for child in children:\n",
    "        res, counter = post_order_loc(child, var, res, counter)\n",
    "    if var == index and (not children):\n",
    "        res.append(counter) \n",
    "#         print(counter, word2vec.index2word[index])\n",
    "    counter += 1\n",
    "    return res, counter\n",
    "\n",
    "def get_grad(x, var_index, node_list):\n",
    "    grads = []\n",
    "    for i, block in enumerate(x):\n",
    "        indices, _ = post_order_loc(block, var_index, [], 0)\n",
    "        grads += get_embedding(indices, node_list.grad[:, i, :])\n",
    "        try:\n",
    "            node_embedding = get_embedding(indices, node_list[:, i, :])[0]\n",
    "        except Exception as e:\n",
    "#             print(e)\n",
    "            pass\n",
    "        \n",
    "    if len(grads) < 1:\n",
    "        return None, None\n",
    "    grad = torch.stack(grads).sum(dim=0)\n",
    "    return grad, node_embedding"
   ]
  },
  {
   "cell_type": "markdown",
   "metadata": {},
   "source": [
    "# Var name finder"
   ]
  },
  {
   "cell_type": "code",
   "execution_count": null,
   "metadata": {},
   "outputs": [],
   "source": [
    "\n",
    "class declarationFinder(c_ast.NodeVisitor):\n",
    "    def __init__(self):\n",
    "        self.names = set()\n",
    "    \n",
    "    def visit_Decl(self, node):\n",
    "        if type(node.type) in [TypeDecl, ArrayDecl] :\n",
    "            self.names.add(node.name)\n",
    "\n",
    "def get_var_names(ast):\n",
    "    declaration_finder = declarationFinder()\n",
    "    declaration_finder.visit(ast)\n",
    "    return declaration_finder.names\n",
    "    \n",
    "# get_var_names(x)"
   ]
  },
  {
   "cell_type": "markdown",
   "metadata": {},
   "source": [
    "# FGSM"
   ]
  },
  {
   "cell_type": "code",
   "execution_count": null,
   "metadata": {},
   "outputs": [],
   "source": [
    "def gradient_method(x, grad, node_embedding, n_list, var, epsilon, metric):\n",
    "\n",
    "    orig_index = vocab[var].index if var in vocab else MAX_TOKEN\n",
    "\n",
    "#     grad, node_embedding = get_grad(x, orig_index, n_list)\n",
    "    if grad is None:\n",
    "#         print(\"no leaf occurences\")\n",
    "        return None\n",
    "\n",
    "    v = node_embedding.detach().numpy()\n",
    "    g = torch.sign(grad).detach().numpy()\n",
    "\n",
    "    v = v + epsilon * g\n",
    "    # get the closest emebedding from our map\n",
    "    i = closest_index(v, embedding_map, metric)\n",
    "#         print(\"orig name:\", word2vec.index2word[orig_index], \"; new name:\", word2vec.index2word[i])\n",
    "    if i != orig_index:\n",
    "        return replace_var(x, orig_index, i)\n",
    "    else:\n",
    "        return x"
   ]
  },
  {
   "cell_type": "code",
   "execution_count": null,
   "metadata": {},
   "outputs": [],
   "source": [
    "\n",
    "# x, ast = block_data['code'][45281], ast_data['code'][45281]\n",
    "\n",
    "# _, orig_pred = torch.max(model([x]).data, 1)\n",
    "# orig_pred = orig_pred.item()\n",
    "\n",
    "# # get the grad\n",
    "# loss_function = torch.nn.CrossEntropyLoss()\n",
    "# labels = torch.LongTensor([orig_pred])\n",
    "# output = model([x])\n",
    "# loss = loss_function(output, Variable(labels))\n",
    "# loss.backward()\n",
    "# n_list = model._modules['encoder'].node_list\n",
    "\n",
    "# new_x_l2 = gradient_method(x, n_list, 'n', 1, l2_norm)\n",
    "\n",
    "# o = model([new_x_l2])\n",
    "# _, predicted_l2 = torch.max(o.data, 1)\n",
    "\n",
    "# print(orig_pred, predicted_l2.item())"
   ]
  },
  {
   "cell_type": "code",
   "execution_count": 14,
   "metadata": {},
   "outputs": [
    {
     "data": {
      "text/plain": [
       "[1, 2, 3]"
      ]
     },
     "execution_count": 14,
     "metadata": {},
     "output_type": "execute_result"
    }
   ],
   "source": [
    "[1, 2, 3][0:]"
   ]
  },
  {
   "cell_type": "code",
   "execution_count": 15,
   "metadata": {},
   "outputs": [],
   "source": [
    "MAX_TOKEN = word2vec.vectors.shape[0]\n",
    "\n",
    "def rename(x, grad, node_embedding, model, var, orig_pred, e, norm):\n",
    "    loss_function = torch.nn.CrossEntropyLoss()\n",
    "    labels = torch.LongTensor([orig_pred])\n",
    "    output = model([x])\n",
    "    loss = loss_function(output, Variable(labels))\n",
    "    loss.backward()\n",
    "    n_list = model._modules['encoder'].node_list\n",
    "    \n",
    "    x_new = gradient_method(x, grad, node_embedding, n_list, var, e, norm)\n",
    "    \n",
    "    if x_new:\n",
    "        return x_new\n",
    "    else: \n",
    "#         print(\"failed getting new x\")\n",
    "        return x\n",
    "\n",
    "def evaluate(epsilon, limit = None, n_vars = 1, sort_vars = True):\n",
    "    ast_count = 0\n",
    "\n",
    "    ast_total = 0\n",
    "\n",
    "    for code_id in block_data['id'].tolist():\n",
    "    #     print(code_id)\n",
    "        x, ast = block_data['code'][code_id], ast_data['code'][code_id]\n",
    "\n",
    "        _, orig_pred = torch.max(model([x]).data, 1)\n",
    "        orig_pred = orig_pred.item()\n",
    "\n",
    "        # get the grad\n",
    "        loss_function = torch.nn.CrossEntropyLoss()\n",
    "        labels = torch.LongTensor([orig_pred])\n",
    "        output = model([x])\n",
    "        loss = loss_function(output, Variable(labels))\n",
    "        loss.backward()\n",
    "        n_list = model._modules['encoder'].node_list\n",
    "        \n",
    "        var_names = get_var_names(ast)\n",
    "        \n",
    "        var_weighted = []\n",
    "        for var in list(var_names):\n",
    "            \n",
    "            orig_index = vocab[var].index if var in vocab else MAX_TOKEN\n",
    "            grad, node_embedding = get_grad(x, orig_index, n_list)\n",
    "            if grad is not None:\n",
    "                h = abs((grad @ torch.sign(grad)).item())\n",
    "                var_weighted.append( (var, h, grad, node_embedding) )\n",
    "            \n",
    "        if sort_vars:\n",
    "            var_weighted = list(sorted(var_weighted, key=lambda x: x[0], reverse = True))\n",
    "        \n",
    "        success = False\n",
    "        \n",
    "        for var, h, grad, node_embedding in var_weighted[:n_vars-1]:\n",
    "            x = rename(x, grad, node_embedding, model, var, orig_pred, epsilon, l2_norm)\n",
    "            o = model([x_new])\n",
    "            _, predicted = torch.max(o.data, 1)\n",
    "            if orig_pred != predicted.item():\n",
    "                break\n",
    "                \n",
    "        x_new = x\n",
    "        for var, h, grad, node_embedding in var_weighted[n_vars-1:]:\n",
    "            x_new = rename(x, grad, node_embedding, model, var, orig_pred, epsilon, l2_norm)\n",
    "            o = model([x_new])\n",
    "            _, predicted = torch.max(o.data, 1)\n",
    "            if orig_pred != predicted.item():\n",
    "                break\n",
    "\n",
    "        if x_new:\n",
    "            o = model([x_new])\n",
    "            _, predicted_l2 = torch.max(o.data, 1)\n",
    "\n",
    "            if orig_pred != predicted_l2.item():\n",
    "                success = True\n",
    "\n",
    "        if success:\n",
    "            ast_count += 1\n",
    "   \n",
    "        ast_total += 1\n",
    "\n",
    "\n",
    "        if ast_total % 500 == 499:\n",
    "            print(ast_total, \"AST level robustness:\", 1-(ast_count / ast_total))\n",
    "    \n",
    "        if limit and limit < ast_total:\n",
    "            break\n",
    "    return 1-(ast_count / ast_total)\n",
    "\n"
   ]
  },
  {
   "cell_type": "code",
   "execution_count": 16,
   "metadata": {
    "scrolled": true
   },
   "outputs": [
    {
     "name": "stdout",
     "output_type": "stream",
     "text": [
      "499 AST level robustness: 0.5150300601202404\n"
     ]
    },
    {
     "ename": "UnboundLocalError",
     "evalue": "local variable 'x_new' referenced before assignment",
     "output_type": "error",
     "traceback": [
      "\u001b[0;31m---------------------------------------------------------------------------\u001b[0m",
      "\u001b[0;31mUnboundLocalError\u001b[0m                         Traceback (most recent call last)",
      "\u001b[0;32m<ipython-input-16-1b1744d362e3>\u001b[0m in \u001b[0;36m<module>\u001b[0;34m\u001b[0m\n\u001b[1;32m      5\u001b[0m \u001b[0;32mfor\u001b[0m \u001b[0mn_var\u001b[0m \u001b[0;32min\u001b[0m \u001b[0mn_vars\u001b[0m\u001b[0;34m:\u001b[0m\u001b[0;34m\u001b[0m\u001b[0;34m\u001b[0m\u001b[0m\n\u001b[1;32m      6\u001b[0m     \u001b[0mstart\u001b[0m \u001b[0;34m=\u001b[0m \u001b[0mtime\u001b[0m\u001b[0;34m.\u001b[0m\u001b[0mtime\u001b[0m\u001b[0;34m(\u001b[0m\u001b[0;34m)\u001b[0m\u001b[0;34m\u001b[0m\u001b[0;34m\u001b[0m\u001b[0m\n\u001b[0;32m----> 7\u001b[0;31m     \u001b[0mast_performance\u001b[0m \u001b[0;34m=\u001b[0m \u001b[0mevaluate\u001b[0m\u001b[0;34m(\u001b[0m\u001b[0;36m40\u001b[0m\u001b[0;34m,\u001b[0m \u001b[0mlimit\u001b[0m\u001b[0;34m=\u001b[0m\u001b[0;36m500\u001b[0m\u001b[0;34m,\u001b[0m \u001b[0mn_vars\u001b[0m \u001b[0;34m=\u001b[0m \u001b[0mn_var\u001b[0m\u001b[0;34m)\u001b[0m\u001b[0;34m\u001b[0m\u001b[0;34m\u001b[0m\u001b[0m\n\u001b[0m\u001b[1;32m      8\u001b[0m     \u001b[0meval_time\u001b[0m \u001b[0;34m=\u001b[0m \u001b[0mtime\u001b[0m\u001b[0;34m.\u001b[0m\u001b[0mtime\u001b[0m\u001b[0;34m(\u001b[0m\u001b[0;34m)\u001b[0m \u001b[0;34m-\u001b[0m \u001b[0mstart\u001b[0m\u001b[0;34m\u001b[0m\u001b[0;34m\u001b[0m\u001b[0m\n\u001b[1;32m      9\u001b[0m \u001b[0;34m\u001b[0m\u001b[0m\n",
      "\u001b[0;32m<ipython-input-15-21f08a0e4859>\u001b[0m in \u001b[0;36mevaluate\u001b[0;34m(epsilon, limit, n_vars, sort_vars)\u001b[0m\n\u001b[1;32m     55\u001b[0m         \u001b[0;32mfor\u001b[0m \u001b[0mvar\u001b[0m\u001b[0;34m,\u001b[0m \u001b[0mh\u001b[0m\u001b[0;34m,\u001b[0m \u001b[0mgrad\u001b[0m\u001b[0;34m,\u001b[0m \u001b[0mnode_embedding\u001b[0m \u001b[0;32min\u001b[0m \u001b[0mvar_weighted\u001b[0m\u001b[0;34m[\u001b[0m\u001b[0;34m:\u001b[0m\u001b[0mn_vars\u001b[0m\u001b[0;34m-\u001b[0m\u001b[0;36m1\u001b[0m\u001b[0;34m]\u001b[0m\u001b[0;34m:\u001b[0m\u001b[0;34m\u001b[0m\u001b[0;34m\u001b[0m\u001b[0m\n\u001b[1;32m     56\u001b[0m             \u001b[0mx\u001b[0m \u001b[0;34m=\u001b[0m \u001b[0mrename\u001b[0m\u001b[0;34m(\u001b[0m\u001b[0mx\u001b[0m\u001b[0;34m,\u001b[0m \u001b[0mgrad\u001b[0m\u001b[0;34m,\u001b[0m \u001b[0mnode_embedding\u001b[0m\u001b[0;34m,\u001b[0m \u001b[0mmodel\u001b[0m\u001b[0;34m,\u001b[0m \u001b[0mvar\u001b[0m\u001b[0;34m,\u001b[0m \u001b[0morig_pred\u001b[0m\u001b[0;34m,\u001b[0m \u001b[0mepsilon\u001b[0m\u001b[0;34m,\u001b[0m \u001b[0ml2_norm\u001b[0m\u001b[0;34m)\u001b[0m\u001b[0;34m\u001b[0m\u001b[0;34m\u001b[0m\u001b[0m\n\u001b[0;32m---> 57\u001b[0;31m             \u001b[0mo\u001b[0m \u001b[0;34m=\u001b[0m \u001b[0mmodel\u001b[0m\u001b[0;34m(\u001b[0m\u001b[0;34m[\u001b[0m\u001b[0mx_new\u001b[0m\u001b[0;34m]\u001b[0m\u001b[0;34m)\u001b[0m\u001b[0;34m\u001b[0m\u001b[0;34m\u001b[0m\u001b[0m\n\u001b[0m\u001b[1;32m     58\u001b[0m             \u001b[0m_\u001b[0m\u001b[0;34m,\u001b[0m \u001b[0mpredicted\u001b[0m \u001b[0;34m=\u001b[0m \u001b[0mtorch\u001b[0m\u001b[0;34m.\u001b[0m\u001b[0mmax\u001b[0m\u001b[0;34m(\u001b[0m\u001b[0mo\u001b[0m\u001b[0;34m.\u001b[0m\u001b[0mdata\u001b[0m\u001b[0;34m,\u001b[0m \u001b[0;36m1\u001b[0m\u001b[0;34m)\u001b[0m\u001b[0;34m\u001b[0m\u001b[0;34m\u001b[0m\u001b[0m\n\u001b[1;32m     59\u001b[0m             \u001b[0;32mif\u001b[0m \u001b[0morig_pred\u001b[0m \u001b[0;34m!=\u001b[0m \u001b[0mpredicted\u001b[0m\u001b[0;34m.\u001b[0m\u001b[0mitem\u001b[0m\u001b[0;34m(\u001b[0m\u001b[0;34m)\u001b[0m\u001b[0;34m:\u001b[0m\u001b[0;34m\u001b[0m\u001b[0;34m\u001b[0m\u001b[0m\n",
      "\u001b[0;31mUnboundLocalError\u001b[0m: local variable 'x_new' referenced before assignment"
     ]
    }
   ],
   "source": [
    "import time\n",
    "\n",
    "# n_vars = [1, 2, 3, 4, 5, 6, 7, 8, 9, 10, 999999]\n",
    "n_vars = [1]\n",
    "ast_performances = []\n",
    "for n_var in n_vars:\n",
    "    start = time.time()\n",
    "    ast_performance = evaluate(50, limit=200, n_vars = n_var)\n",
    "    eval_time = time.time() - start\n",
    "\n",
    "    ast_performances.append(ast_performance)"
   ]
  },
  {
   "cell_type": "code",
   "execution_count": 71,
   "metadata": {},
   "outputs": [
    {
     "name": "stdout",
     "output_type": "stream",
     "text": [
      "499 AST level robustness: 0.2064128256513026\n",
      "499 AST level robustness: 0.2064128256513026\n",
      "499 AST level robustness: 0.2124248496993988\n",
      "499 AST level robustness: 0.21042084168336672\n",
      "499 AST level robustness: 0.20841683366733466\n"
     ]
    }
   ],
   "source": [
    "import time\n",
    "\n",
    "n_vars = [100000, 7, 8, 9, 10]\n",
    "ast_performances = []\n",
    "for n_var in n_vars:\n",
    "    start = time.time()\n",
    "    ast_performance = evaluate(40, limit=500, n_vars = n_var)\n",
    "    eval_time = time.time() - start\n",
    "\n",
    "    ast_performances.append(ast_performance)"
   ]
  },
  {
   "cell_type": "code",
   "execution_count": 43,
   "metadata": {},
   "outputs": [
    {
     "data": {
      "text/plain": [
       "[0.5472636815920398,\n",
       " 0.43781094527363185,\n",
       " 0.36318407960199006,\n",
       " 0.26865671641791045,\n",
       " 0.2139303482587065]"
      ]
     },
     "execution_count": 43,
     "metadata": {},
     "output_type": "execute_result"
    }
   ],
   "source": [
    "ast_performances"
   ]
  },
  {
   "cell_type": "code",
   "execution_count": 20,
   "metadata": {},
   "outputs": [
    {
     "data": {
      "image/png": "[encoded data removed]",
      "text/plain": [
       "<Figure size 432x288 with 1 Axes>"
      ]
     },
     "metadata": {
      "needs_background": "light"
     },
     "output_type": "display_data"
    },
    {
     "data": {
      "image/png": "[encoded data removed]",
      "text/plain": [
       "<Figure size 432x288 with 1 Axes>"
      ]
     },
     "metadata": {
      "needs_background": "light"
     },
     "output_type": "display_data"
    }
   ],
   "source": [
    "import matplotlib.pyplot as plt\n",
    "\n",
    "plt.plot(epsilons[:25], ast_performances)\n",
    "plt.xlabel(\"epsilon\")\n",
    "plt.ylabel(\"robustness\")\n",
    "plt.title(\"AST Level Robustness\")\n",
    "plt.show()\n",
    "\n",
    "plt.plot(epsilons[:25], var_performances)\n",
    "plt.xlabel(\"epsilon\")\n",
    "plt.ylabel(\"robustness\")\n",
    "plt.title(\"Variable Level Robustness\")\n",
    "plt.show()"
   ]
  },
  {
   "cell_type": "code",
   "execution_count": 17,
   "metadata": {},
   "outputs": [
    {
     "data": {
      "text/plain": [
       "25"
      ]
     },
     "execution_count": 17,
     "metadata": {},
     "output_type": "execute_result"
    }
   ],
   "source": [
    "len(var_performances)"
   ]
  },
  {
   "cell_type": "code",
   "execution_count": 23,
   "metadata": {},
   "outputs": [
    {
     "data": {
      "text/plain": [
       "[0.7025948103792415,\n",
       " 0.5948103792415169,\n",
       " 0.5548902195608783,\n",
       " 0.5349301397205588,\n",
       " 0.5289421157684631,\n",
       " 0.5229540918163673,\n",
       " 0.5209580838323353,\n",
       " 0.5209580838323353,\n",
       " 0.5209580838323353,\n",
       " 0.5189620758483033,\n",
       " 0.5189620758483033,\n",
       " 0.5189620758483033,\n",
       " 0.5189620758483033,\n",
       " 0.5189620758483033,\n",
       " 0.5169660678642715,\n",
       " 0.5149700598802396,\n",
       " 0.5149700598802396,\n",
       " 0.5149700598802396,\n",
       " 0.5149700598802396,\n",
       " 0.5149700598802396,\n",
       " 0.5129740518962076,\n",
       " 0.5129740518962076,\n",
       " 0.5129740518962076,\n",
       " 0.5129740518962076]"
      ]
     },
     "execution_count": 23,
     "metadata": {},
     "output_type": "execute_result"
    }
   ],
   "source": [
    "ast_performances[:-1]"
   ]
  },
  {
   "cell_type": "code",
   "execution_count": 22,
   "metadata": {},
   "outputs": [
    {
     "data": {
      "text/plain": [
       "[0.9131382316313823,\n",
       " 0.8667496886674969,\n",
       " 0.8552303860523038,\n",
       " 0.8490037359900373,\n",
       " 0.8474470734744708,\n",
       " 0.8443337484433375,\n",
       " 0.8427770859277709,\n",
       " 0.8412204234122043,\n",
       " 0.8412204234122043,\n",
       " 0.8402864259028643,\n",
       " 0.8402864259028643,\n",
       " 0.8405977584059776,\n",
       " 0.8402864259028643,\n",
       " 0.839975093399751,\n",
       " 0.8396637608966376,\n",
       " 0.8393524283935243,\n",
       " 0.839041095890411,\n",
       " 0.839041095890411,\n",
       " 0.839041095890411,\n",
       " 0.839041095890411,\n",
       " 0.839041095890411,\n",
       " 0.839041095890411,\n",
       " 0.8384184308841843,\n",
       " 0.8387297633872977,\n",
       " 0.8387297633872977]"
      ]
     },
     "execution_count": 22,
     "metadata": {},
     "output_type": "execute_result"
    }
   ],
   "source": [
    "var_performances"
   ]
  },
  {
   "cell_type": "code",
   "execution_count": 1,
   "metadata": {},
   "outputs": [],
   "source": [
    "def ci(x, z, n):\n",
    "    r = z * ( (x * (1 - x)) / n)**0.5\n",
    "    return round(x, 3), round(r, 3), round(x-r, 3), round(x+r, 3)"
   ]
  },
  {
   "cell_type": "code",
   "execution_count": 4,
   "metadata": {},
   "outputs": [
    {
     "name": "stdout",
     "output_type": "stream",
     "text": [
      "(0.403, 0.009, 0.394, 0.412)\n",
      "(0.327, 0.009, 0.318, 0.336)\n",
      "(0.267, 0.009, 0.258, 0.276)\n",
      "(0.248, 0.008, 0.24, 0.256)\n",
      "(0.222, 0.008, 0.214, 0.23)\n",
      "(0.206, 0.008, 0.198, 0.214)\n"
     ]
    }
   ],
   "source": [
    "print(ci(0.403, 1.96, 10401))\n",
    "print(ci(0.327, 1.96, 10401))\n",
    "print(ci(0.267, 1.96, 10401))\n",
    "print(ci(0.248, 1.96, 10401))\n",
    "print(ci(0.222, 1.96, 10401))\n",
    "print(ci(0.206, 1.96, 10401))\n"
   ]
  },
  {
   "cell_type": "code",
   "execution_count": 5,
   "metadata": {},
   "outputs": [
    {
     "name": "stdout",
     "output_type": "stream",
     "text": [
      "(0.981, 0.003, 0.978, 0.984)\n",
      "(0.97, 0.003, 0.967, 0.973)\n"
     ]
    }
   ],
   "source": [
    "print(ci(0.981, 1.96, 10401))\n",
    "print(ci(0.970, 1.96, 10401))"
   ]
  },
  {
   "cell_type": "code",
   "execution_count": 9,
   "metadata": {},
   "outputs": [
    {
     "name": "stdout",
     "output_type": "stream",
     "text": [
      "(0.567, 0.01, 0.557, 0.577)\n"
     ]
    }
   ],
   "source": [
    "print(ci(0.567, 1.96, 10401))"
   ]
  },
  {
   "cell_type": "code",
   "execution_count": null,
   "metadata": {},
   "outputs": [],
   "source": []
  }
 ],
 "metadata": {
  "kernelspec": {
   "display_name": "Python 3",
   "language": "python",
   "name": "python3"
  },
  "language_info": {
   "codemirror_mode": {
    "name": "ipython",
    "version": 3
   },
   "file_extension": ".py",
   "mimetype": "text/x-python",
   "name": "python",
   "nbconvert_exporter": "python",
   "pygments_lexer": "ipython3",
   "version": "3.8.5"
  }
 },
 "nbformat": 4,
 "nbformat_minor": 4
}
