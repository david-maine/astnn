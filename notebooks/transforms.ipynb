{
 "cells": [
  {
   "cell_type": "code",
   "execution_count": 36,
   "metadata": {},
   "outputs": [],
   "source": [
    "from pycparser import c_ast, c_parser, c_generator\n",
    "\n",
    "parser = c_parser.CParser()\n",
    "generator = c_generator.CGenerator()\n"
   ]
  },
  {
   "cell_type": "markdown",
   "metadata": {},
   "source": [
    "## Dead Code"
   ]
  },
  {
   "cell_type": "code",
   "execution_count": 111,
   "metadata": {},
   "outputs": [],
   "source": [
    "import random"
   ]
  },
  {
   "cell_type": "code",
   "execution_count": 123,
   "metadata": {},
   "outputs": [],
   "source": [
    "dead_codes = [\n",
    "    '''\n",
    "    int main() {\n",
    "        int alpha;\n",
    "    }\n",
    "    ''',\n",
    "    '''\n",
    "    int main() {\n",
    "        int alpha = 0;\n",
    "        int beta = 5;\n",
    "        int gamma = alpha + beta;\n",
    "    }\n",
    "    ''',\n",
    "    '''\n",
    "    int main() {\n",
    "        const int ALPHA = 10;\n",
    "        const int BETA = 5;\n",
    "    }\n",
    "    ''',\n",
    "    '''\n",
    "    int main() {\n",
    "        int alpha = 0;\n",
    "        if(false) {\n",
    "            alpha = 1;\n",
    "        }\n",
    "    }\n",
    "    '''\n",
    "    ,\n",
    "    '''\n",
    "    int main() {\n",
    "        int alpha = 0;\n",
    "        if(false) {\n",
    "            alpha = 1;\n",
    "        } else {\n",
    "            alpha = 2;\n",
    "        }\n",
    "    }\n",
    "    '''\n",
    "]"
   ]
  },
  {
   "cell_type": "code",
   "execution_count": 117,
   "metadata": {},
   "outputs": [],
   "source": [
    "compounds = []\n",
    "for code in dead_codes:\n",
    "    ast = parser.parse(code)\n",
    "    compounds.append(ast.ext[0].body)"
   ]
  },
  {
   "cell_type": "code",
   "execution_count": 120,
   "metadata": {},
   "outputs": [],
   "source": [
    "\n",
    "class deadCodeAdder(c_ast.NodeVisitor):\n",
    "    def visit_FuncDef(self, node):\n",
    "        if node.decl.name == 'main':\n",
    "            for compound in compounds:\n",
    "                index = random.randrange(len(node.body.block_items))\n",
    "                node.body.block_items = node.body.block_items[:index] + compound.block_items + node.body.block_items[index:]\n",
    "\n",
    "def add_dead_code(ast):\n",
    "    v = deadCodeAdder()\n",
    "    v.visit(ast)\n",
    "    "
   ]
  },
  {
   "cell_type": "code",
   "execution_count": 122,
   "metadata": {},
   "outputs": [
    {
     "name": "stdout",
     "output_type": "stream",
     "text": [
      "int main()\n",
      "{\n",
      "  int n;\n",
      "  int i;\n",
      "  int shuzu[111];\n",
      "  int count1 = 0;\n",
      "  int count3 = 0;\n",
      "  int count2 = 0;\n",
      "  int alpha;\n",
      "  int count4 = 0;\n",
      "  scanf(\"%d\", &n);\n",
      "  while (n >= 100)\n",
      "  {\n",
      "    n = n - 100;\n",
      "    count1++;\n",
      "  }\n",
      "\n",
      "  int alpha = 0;\n",
      "  int beta = 5;\n",
      "  int gamma = alpha + beta;\n",
      "  while (n >= 50)\n",
      "  {\n",
      "    n = n - 50;\n",
      "    count2++;\n",
      "  }\n",
      "\n",
      "  while (n >= 20)\n",
      "  {\n",
      "    n = n - 20;\n",
      "    count3++;\n",
      "  }\n",
      "\n",
      "  while (n >= 10)\n",
      "  {\n",
      "    n = n - 10;\n",
      "    count4++;\n",
      "    return 0;\n",
      "  }\n",
      "\n",
      "}\n",
      "\n",
      "\n"
     ]
    }
   ],
   "source": [
    "src = \"\"\"\n",
    "int main()\n",
    "{\n",
    "    int n,i,shuzu[111],count1=0,count3=0,count2=0,count4=0;\n",
    "    scanf(\"%d\",&n);\n",
    "    while(n>=100){\n",
    "                  n=n-100;\n",
    "                  count1++;\n",
    "                  }\n",
    "                      while(n>=50){\n",
    "                  n=n-50;\n",
    "                  count2++;\n",
    "                  }\n",
    "                      while(n>=20){\n",
    "                  n=n-20;\n",
    "                  count3++;\n",
    "                  }\n",
    "                      while(n>=10){\n",
    "                  n=n-10;\n",
    "                  count4++;\n",
    "               return 0;\n",
    "               }\n",
    "}\n",
    "\"\"\"\n",
    "ast = parser.parse(src)\n",
    "\n",
    "add_dead_code(ast)\n",
    "print(generator.visit(ast))"
   ]
  },
  {
   "cell_type": "markdown",
   "metadata": {},
   "source": [
    "## Variable Renaimg"
   ]
  },
  {
   "cell_type": "code",
   "execution_count": 89,
   "metadata": {},
   "outputs": [],
   "source": [
    "import pickle\n",
    "used_vars = pickle.load( open( \"/home/david/projects/university/astnn/var_names.pkl\", \"rb\" ) )"
   ]
  },
  {
   "cell_type": "code",
   "execution_count": 37,
   "metadata": {},
   "outputs": [
    {
     "name": "stdout",
     "output_type": "stream",
     "text": [
      "FileAST(ext=[FuncDef(decl=Decl(name='main',\n",
      "                               quals=[\n",
      "                                     ],\n",
      "                               storage=[\n",
      "                                       ],\n",
      "                               funcspec=[\n",
      "                                        ],\n",
      "                               type=FuncDecl(args=None,\n",
      "                                             type=TypeDecl(declname='main',\n",
      "                                                           quals=[\n",
      "                                                                 ],\n",
      "                                                           type=IdentifierType(names=['int'\n",
      "                                                                                     ]\n",
      "                                                                               )\n",
      "                                                           )\n",
      "                                             ),\n",
      "                               init=None,\n",
      "                               bitsize=None\n",
      "                               ),\n",
      "                     param_decls=None,\n",
      "                     body=Compound(block_items=[Decl(name='alpha',\n",
      "                                                     quals=[\n",
      "                                                           ],\n",
      "                                                     storage=[\n",
      "                                                             ],\n",
      "                                                     funcspec=[\n",
      "                                                              ],\n",
      "                                                     type=TypeDecl(declname='alpha',\n",
      "                                                                   quals=[\n",
      "                                                                         ],\n",
      "                                                                   type=IdentifierType(names=['int'\n",
      "                                                                                             ]\n",
      "                                                                                       )\n",
      "                                                                   ),\n",
      "                                                     init=None,\n",
      "                                                     bitsize=None\n",
      "                                                     ),\n",
      "                                                Assignment(op='=',\n",
      "                                                           lvalue=ID(name='alpha'\n",
      "                                                                     ),\n",
      "                                                           rvalue=Constant(type='int',\n",
      "                                                                           value='0'\n",
      "                                                                           )\n",
      "                                                           ),\n",
      "                                                FuncCall(name=ID(name='scanf'\n",
      "                                                                 ),\n",
      "                                                         args=ExprList(exprs=[Constant(type='string',\n",
      "                                                                                       value='\"%d\"'\n",
      "                                                                                       ),\n",
      "                                                                              UnaryOp(op='&',\n",
      "                                                                                      expr=ID(name='n'\n",
      "                                                                                              )\n",
      "                                                                                      )\n",
      "                                                                             ]\n",
      "                                                                       )\n",
      "                                                         )\n",
      "                                               ]\n",
      "                                   )\n",
      "                     )\n",
      "            ]\n",
      "        )\n",
      "int main()\n",
      "{\n",
      "  int alpha;\n",
      "  alpha = 0;\n",
      "  scanf(\"%d\", &n);\n",
      "}\n",
      "\n",
      "\n"
     ]
    }
   ],
   "source": [
    "src = \"\"\"\n",
    "int main() {\n",
    "    int alpha;\n",
    "    alpha = 0;\n",
    "    scanf(\"%d\",&n);\n",
    "}\n",
    "\"\"\"\n",
    "\n",
    "ast = parser.parse(src)\n",
    "print(ast)\n",
    "print(generator.visit(ast))"
   ]
  },
  {
   "cell_type": "code",
   "execution_count": 17,
   "metadata": {},
   "outputs": [],
   "source": [
    "import os\n",
    "import sys\n",
    "module_path = os.path.abspath(os.path.join('..'))\n",
    "if module_path not in sys.path:\n",
    "    sys.path.append(module_path)"
   ]
  },
  {
   "cell_type": "code",
   "execution_count": 101,
   "metadata": {},
   "outputs": [],
   "source": [
    "from gensim.models.word2vec import Word2Vec\n",
    "\n",
    "word2vec = Word2Vec.load(\"/home/david/projects/university/astnn/data/train/embedding/node_w2v_128\").wv"
   ]
  },
  {
   "cell_type": "code",
   "execution_count": 102,
   "metadata": {},
   "outputs": [
    {
     "data": {
      "text/plain": [
       "[('state', 0.13344937562942505),\n",
       " ('map', 0.09349325299263),\n",
       " ('room', 0.09310971200466156),\n",
       " ('location', 0.07769270241260529),\n",
       " (\"'@'\", 0.057959336787462234),\n",
       " (\"'.'\", 0.04344698041677475),\n",
       " (\"'*'\", 0.041571829468011856),\n",
       " ('loci', 0.03517623245716095),\n",
       " ('mrow', 0.02887730486690998),\n",
       " ('iterin', 0.02784087136387825)]"
      ]
     },
     "execution_count": 102,
     "metadata": {},
     "output_type": "execute_result"
    }
   ],
   "source": [
    "word2vec.most_similar(positive=[], negative=['alpha'], topn=10, restrict_vocab=None)"
   ]
  },
  {
   "cell_type": "markdown",
   "metadata": {},
   "source": [
    "## Restrict to sensible variable names"
   ]
  },
  {
   "cell_type": "code",
   "execution_count": 103,
   "metadata": {},
   "outputs": [],
   "source": [
    "import numpy as np\n",
    "\n",
    "def restrict_w2v(w2v, restricted_word_set):\n",
    "    new_vectors = []\n",
    "    new_vocab = {}\n",
    "    new_index2entity = []\n",
    "    new_vectors_norm = []\n",
    "\n",
    "    for i in range(len(w2v.vocab)):\n",
    "        word = w2v.index2entity[i]\n",
    "        vec = w2v.vectors[i]\n",
    "        vocab = w2v.vocab[word]\n",
    "        vec_norm = w2v.vectors_norm[i]\n",
    "        if word in restricted_word_set:\n",
    "            vocab.index = len(new_index2entity)\n",
    "            new_index2entity.append(word)\n",
    "            new_vocab[word] = vocab\n",
    "            new_vectors.append(vec)\n",
    "            new_vectors_norm.append(vec_norm)\n",
    "\n",
    "    w2v.vocab = new_vocab\n",
    "    w2v.vectors = np.array(new_vectors)\n",
    "    w2v.index2entity = np.array(new_index2entity)\n",
    "    w2v.index2word = np.array(new_index2entity)\n",
    "    w2v.vectors_norm = np.array(new_vectors_norm)"
   ]
  },
  {
   "cell_type": "code",
   "execution_count": 104,
   "metadata": {},
   "outputs": [
    {
     "data": {
      "text/plain": [
       "[('state', 0.13344937562942505),\n",
       " ('map', 0.09349325299263),\n",
       " ('room', 0.09310971200466156),\n",
       " ('location', 0.07769270241260529),\n",
       " ('loci', 0.03517623245716095),\n",
       " ('mrow', 0.02887730486690998),\n",
       " ('iterin', 0.02784087136387825),\n",
       " ('use', 0.024702150374650955),\n",
       " ('iterout', 0.021128982305526733),\n",
       " ('minj', 0.016142524778842926)]"
      ]
     },
     "execution_count": 104,
     "metadata": {},
     "output_type": "execute_result"
    }
   ],
   "source": [
    "restrict_w2v(word2vec, used_vars)\n",
    "word2vec.most_similar(positive=[], negative=['alpha'], topn=10, restrict_vocab=None)"
   ]
  },
  {
   "cell_type": "code",
   "execution_count": 126,
   "metadata": {},
   "outputs": [],
   "source": [
    "from pycparser.c_ast import TypeDecl, ID\n",
    "\n",
    "def get_antonym(word):\n",
    "    return word2vec.most_similar(positive=[], negative=[word], topn=1, restrict_vocab=None)[0][0]\n",
    "\n",
    "class declarationRenamer(c_ast.NodeVisitor):\n",
    "    def visit_Decl(self, node):\n",
    "        var_name = node.name\n",
    "        antonymn = get_antonym(var_name)\n",
    "        node.name = antonymn\n",
    "        if type(node.type) is TypeDecl:\n",
    "            node.type.declname = antonymn\n",
    "        \n",
    "class assignmentRenamer(c_ast.NodeVisitor):\n",
    "    def visit_Assignment(self, node):\n",
    "        if type(node.lvalue) is ID:\n",
    "            var_name = node.lvalue.name\n",
    "            antonymn = get_antonym(var_name)\n",
    "            node.lvalue.name = antonymn\n",
    "        if type(node.rvalue) is ID:\n",
    "            var_name = node.rvalue.name\n",
    "            antonymn = get_antonym(var_name)\n",
    "            node.rvalue.name = antonymn\n",
    "            \n",
    "class unaryOpRenamer(c_ast.NodeVisitor):\n",
    "    def visit_UnaryOp(self, node):\n",
    "        if type(node.expr) is ID:\n",
    "            var_name = node.expr.name\n",
    "            antonymn = get_antonym(var_name)\n",
    "            node.expr.name = antonymn\n",
    "            \n",
    "class binaryOpRenamer(c_ast.NodeVisitor):\n",
    "    def visit_BinaryOp(self, node):\n",
    "        if type(node.left) is ID:\n",
    "            var_name = node.left.name\n",
    "            antonymn = get_antonym(var_name)\n",
    "            node.left.name = antonymn\n",
    "        if type(node.right) is ID:\n",
    "            var_name = node.right.name\n",
    "            antonymn = get_antonym(var_name)\n",
    "            node.right.name = antonymn"
   ]
  },
  {
   "cell_type": "code",
   "execution_count": 127,
   "metadata": {},
   "outputs": [],
   "source": [
    "def rename_vars(ast):\n",
    "    declaration_renamer = declarationRenamer()\n",
    "    assignment_renamer = assignmentRenamer()\n",
    "    unary_op_renamer = unaryOpRenamer()\n",
    "    binary_op_renamer = binaryOpRenamer()\n",
    "        \n",
    "    declaration_renamer.visit(ast)\n",
    "    assignment_renamer.visit(ast)\n",
    "    unary_op_renamer.visit(ast)\n",
    "    binary_op_renamer.visit(ast)"
   ]
  },
  {
   "cell_type": "code",
   "execution_count": 129,
   "metadata": {},
   "outputs": [
    {
     "name": "stdout",
     "output_type": "stream",
     "text": [
      "int main()\n",
      "{\n",
      "  int tempi;\n",
      "  int win;\n",
      "  int ws = 0;\n",
      "  int ml = 0;\n",
      "  int cos = 0;\n",
      "  int sen = 0;\n",
      "  scanf(\"%d\", &tempi);\n",
      "  while (tempi >= 100)\n",
      "  {\n",
      "    tempi = tempi - 100;\n",
      "    ws++;\n",
      "  }\n",
      "\n",
      "  while (tempi >= 50)\n",
      "  {\n",
      "    tempi = tempi - 50;\n",
      "    cos++;\n",
      "  }\n",
      "\n",
      "  while (tempi >= 20)\n",
      "  {\n",
      "    tempi = tempi - 20;\n",
      "    ml++;\n",
      "  }\n",
      "\n",
      "  while (tempi >= 10)\n",
      "  {\n",
      "    tempi = tempi - 10;\n",
      "    sen++;\n",
      "    return 0;\n",
      "  }\n",
      "\n",
      "}\n",
      "\n",
      "\n"
     ]
    }
   ],
   "source": [
    "src = \"\"\"\n",
    "int main()\n",
    "{\n",
    "    int n,i,count1=0,count3=0,count2=0,count4=0;\n",
    "    scanf(\"%d\",&n);\n",
    "    while(n>=100){\n",
    "                  n=n-100;\n",
    "                  count1++;\n",
    "                  }\n",
    "                      while(n>=50){\n",
    "                  n=n-50;\n",
    "                  count2++;\n",
    "                  }\n",
    "                      while(n>=20){\n",
    "                  n=n-20;\n",
    "                  count3++;\n",
    "                  }\n",
    "                      while(n>=10){\n",
    "                  n=n-10;\n",
    "                  count4++;\n",
    "               return 0;\n",
    "               }\n",
    "}\n",
    "\"\"\"\n",
    "ast = parser.parse(src)\n",
    "\n",
    "rename_vars(ast)\n",
    "print(generator.visit(ast))"
   ]
  },
  {
   "cell_type": "code",
   "execution_count": null,
   "metadata": {},
   "outputs": [],
   "source": []
  }
 ],
 "metadata": {
  "kernelspec": {
   "display_name": "Python 3",
   "language": "python",
   "name": "python3"
  },
  "language_info": {
   "codemirror_mode": {
    "name": "ipython",
    "version": 3
   },
   "file_extension": ".py",
   "mimetype": "text/x-python",
   "name": "python",
   "nbconvert_exporter": "python",
   "pygments_lexer": "ipython3",
   "version": "3.8.2"
  }
 },
 "nbformat": 4,
 "nbformat_minor": 4
}
