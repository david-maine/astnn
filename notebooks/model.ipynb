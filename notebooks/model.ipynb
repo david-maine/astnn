{
 "cells": [
  {
   "cell_type": "code",
   "execution_count": 4,
   "metadata": {},
   "outputs": [],
   "source": [
    "import os\n",
    "import sys\n",
    "module_path = os.path.abspath(os.path.join('..'))\n",
    "if module_path not in sys.path:\n",
    "    sys.path.append(module_path)\n",
    "    \n",
    "import pandas as pd\n",
    "import random\n",
    "import torch\n",
    "import time\n",
    "import numpy as np\n",
    "from gensim.models.word2vec import Word2Vec\n",
    "from model import BatchProgramClassifier\n",
    "from torch.autograd import Variable\n",
    "from torch.utils.data import DataLoader"
   ]
  },
  {
   "cell_type": "code",
   "execution_count": 23,
   "metadata": {},
   "outputs": [
    {
     "data": {
      "text/plain": [
       "<All keys matched successfully>"
      ]
     },
     "execution_count": 23,
     "metadata": {},
     "output_type": "execute_result"
    }
   ],
   "source": [
    "root = '/home/david/projects/university/astnn/data/'\n",
    "test_data = pd.read_pickle(root+'test/blocks.pkl')\n",
    "\n",
    "word2vec = Word2Vec.load(root+\"train/embedding/node_w2v_128\").wv\n",
    "embeddings = np.zeros((word2vec.vectors.shape[0] + 1, word2vec.vectors.shape[1]), dtype=\"float32\")\n",
    "embeddings[:word2vec.vectors.shape[0]] = word2vec.vectors\n",
    "\n",
    "HIDDEN_DIM = 100\n",
    "ENCODE_DIM = 128\n",
    "LABELS = 104\n",
    "EPOCHS = 15\n",
    "BATCH_SIZE = 1\n",
    "USE_GPU = False\n",
    "MAX_TOKENS = word2vec.vectors.shape[0]\n",
    "EMBEDDING_DIM = word2vec.vectors.shape[1]\n",
    "\n",
    "model = BatchProgramClassifier(EMBEDDING_DIM,HIDDEN_DIM,MAX_TOKENS+1,ENCODE_DIM,LABELS,BATCH_SIZE,\n",
    "                               USE_GPU, embeddings)\n",
    "model.load_state_dict(torch.load(\"/home/david/projects/university/astnn/model.pt\"))"
   ]
  },
  {
   "cell_type": "code",
   "execution_count": 24,
   "metadata": {},
   "outputs": [
    {
     "name": "stdout",
     "output_type": "stream",
     "text": [
      "BatchProgramClassifier(\n",
      "  (encoder): BatchTreeEncoder(\n",
      "    (embedding): Embedding(8189, 128)\n",
      "    (W_c): Linear(in_features=128, out_features=128, bias=True)\n",
      "    (W_l): Linear(in_features=128, out_features=128, bias=True)\n",
      "    (W_r): Linear(in_features=128, out_features=128, bias=True)\n",
      "  )\n",
      "  (root2label): Linear(in_features=128, out_features=104, bias=True)\n",
      "  (bigru): GRU(128, 100, batch_first=True, bidirectional=True)\n",
      "  (hidden2label): Linear(in_features=200, out_features=104, bias=True)\n",
      "  (dropout): Dropout(p=0.2, inplace=False)\n",
      ")\n"
     ]
    }
   ],
   "source": [
    "print(model)"
   ]
  },
  {
   "cell_type": "code",
   "execution_count": 55,
   "metadata": {},
   "outputs": [
    {
     "data": {
      "text/plain": [
       "29"
      ]
     },
     "execution_count": 55,
     "metadata": {},
     "output_type": "execute_result"
    }
   ],
   "source": [
    "len(test_data['code'][0])"
   ]
  },
  {
   "cell_type": "code",
   "execution_count": 56,
   "metadata": {},
   "outputs": [
    {
     "data": {
      "text/plain": [
       "[[32, [2, [30, [40, [4]]]]],\n",
       " [6],\n",
       " [2, [3055, [4]]],\n",
       " [2, [740, [4]]],\n",
       " [2, [740, [4]]],\n",
       " [2, [740, [4]]],\n",
       " [2, [257, [4]]],\n",
       " [2, [632, [4]]],\n",
       " [2, [835, [4]]],\n",
       " [59, [1150], [3055]],\n",
       " [3, [740], [57, [3055], [49]]],\n",
       " [3, [3055], [53, [3055], [49]]],\n",
       " [3, [740], [57, [3055], [127]]],\n",
       " [3, [3055], [53, [3055], [127]]],\n",
       " [3, [740], [57, [3055], [131]]],\n",
       " [3, [3055], [53, [3055], [131]]],\n",
       " [3, [257], [57, [3055], [60]]],\n",
       " [3, [3055], [53, [3055], [60]]],\n",
       " [3, [632], [57, [3055], [67]]],\n",
       " [3, [3055], [53, [3055], [67]]],\n",
       " [3, [835], [3055]],\n",
       " [28, [28, [51], [970]], [72]],\n",
       " [28, [28, [51], [1605]], [72]],\n",
       " [28, [28, [51], [1639]], [72]],\n",
       " [28, [28, [51], [722]], [72]],\n",
       " [28, [28, [51], [1539]], [72]],\n",
       " [28, [28, [51], [814]], [72]],\n",
       " [39, [5]],\n",
       " [7]]"
      ]
     },
     "execution_count": 56,
     "metadata": {},
     "output_type": "execute_result"
    }
   ],
   "source": [
    "test_data['code'][0]"
   ]
  },
  {
   "cell_type": "code",
   "execution_count": 54,
   "metadata": {},
   "outputs": [
    {
     "data": {
      "text/plain": [
       "torch.Size([29, 128])"
      ]
     },
     "execution_count": 54,
     "metadata": {},
     "output_type": "execute_result"
    }
   ],
   "source": [
    "embedder = model._modules['encoder']\n",
    "embedder(test_data['code'][0], len(test_data['code'][0])).size()"
   ]
  },
  {
   "cell_type": "code",
   "execution_count": 50,
   "metadata": {},
   "outputs": [
    {
     "data": {
      "text/plain": [
       "tensor([[  3.0438,  -9.1880,  -7.8805,  -7.5615,  -1.1363,  -1.5093,  -5.5260,\n",
       "         -13.6943,  -1.4428,  -9.1244,   3.3101,  -2.1979,  -6.2667,  -5.7780,\n",
       "          -4.6634,   8.9165,  -3.9500,  -5.2728,  -1.5660,  -3.7280,  -5.2731,\n",
       "          -6.3635,  -0.6483,  -7.8033,   3.6247,  -3.6298,   1.8236,  -6.9257,\n",
       "          -0.6329,   4.9817,   1.4290,  -4.7525,  -5.1086,   7.5247,  -8.0057,\n",
       "           0.6907,  -6.3304,  -0.3814,  -1.9056,   1.2210,   1.9397,  -8.8574,\n",
       "           0.1831,   4.7326,   0.3848,  -3.3588,  -2.2660,  -0.5018,  -6.9139,\n",
       "           2.6575,  -6.2880,  -2.8472, -10.1830,   3.6429,  -0.0701,   6.9690,\n",
       "          -0.2520,  -1.7929,  -6.3126,  -2.0208,   1.3635,  -3.7528,  -4.4504,\n",
       "          -1.3831,  -4.9670,   6.9686,   2.6074,   1.5633,  -0.0940,  -7.4105,\n",
       "          -1.8762,  -9.2367,  -6.4654,  -2.3879,  -7.8499,  -9.4226,  -2.8521,\n",
       "           7.2459,  -2.4471,   4.3427,  -0.8219,  -6.4825,  -1.3890,  -6.3027,\n",
       "          -4.2058,   1.8921,   2.2009,  -1.1523,  -5.5736,  -4.3869,  -1.5645,\n",
       "          -1.9696,   5.2466,  -7.9218,  -1.4119,   4.6689,  18.0018,   2.6632,\n",
       "           7.2605,  -2.4856,  -0.4952,  -1.4839,  -5.6084,   2.0504]],\n",
       "       grad_fn=<AddmmBackward>)"
      ]
     },
     "execution_count": 50,
     "metadata": {},
     "output_type": "execute_result"
    }
   ],
   "source": [
    "model([test_data['code'][0]])"
   ]
  },
  {
   "cell_type": "markdown",
   "metadata": {},
   "source": [
    "## Get the gradient w.r.t to word embedding"
   ]
  },
  {
   "cell_type": "code",
   "execution_count": 15,
   "metadata": {},
   "outputs": [],
   "source": [
    "test_data = pd.read_pickle('/home/david/projects/university/astnn/data/test/blocks.pkl')"
   ]
  },
  {
   "cell_type": "code",
   "execution_count": 49,
   "metadata": {},
   "outputs": [
    {
     "name": "stdout",
     "output_type": "stream",
     "text": [
      "[[32, [2, [30, [40, [4]]]]], [6], [2, [3055, [4]]], [2, [740, [4]]], [2, [740, [4]]], [2, [740, [4]]], [2, [257, [4]]], [2, [632, [4]]], [2, [835, [4]]], [59, [1150], [3055]], [3, [740], [57, [3055], [49]]], [3, [3055], [53, [3055], [49]]], [3, [740], [57, [3055], [127]]], [3, [3055], [53, [3055], [127]]], [3, [740], [57, [3055], [131]]], [3, [3055], [53, [3055], [131]]], [3, [257], [57, [3055], [60]]], [3, [3055], [53, [3055], [60]]], [3, [632], [57, [3055], [67]]], [3, [3055], [53, [3055], [67]]], [3, [835], [3055]], [28, [28, [51], [970]], [72]], [28, [28, [51], [1605]], [72]], [28, [28, [51], [1639]], [72]], [28, [28, [51], [722]], [72]], [28, [28, [51], [1539]], [72]], [28, [28, [51], [814]], [72]], [39, [5]], [7]]\n"
     ]
    },
    {
     "ename": "TypeError",
     "evalue": "cannot do positional indexing on Int64Index with these indexers [[[[32, [2, [30, [40, [4]]]]], [6], [2, [3055, [4]]], [2, [740, [4]]], [2, [740, [4]]], [2, [740, [4]]], [2, [257, [4]]], [2, [632, [4]]], [2, [835, [4]]], [59, [1150], [3055]], [3, [740], [57, [3055], [49]]], [3, [3055], [53, [3055], [49]]], [3, [740], [57, [3055], [127]]], [3, [3055], [53, [3055], [127]]], [3, [740], [57, [3055], [131]]], [3, [3055], [53, [3055], [131]]], [3, [257], [57, [3055], [60]]], [3, [3055], [53, [3055], [60]]], [3, [632], [57, [3055], [67]]], [3, [3055], [53, [3055], [67]]], [3, [835], [3055]], [28, [28, [51], [970]], [72]], [28, [28, [51], [1605]], [72]], [28, [28, [51], [1639]], [72]], [28, [28, [51], [722]], [72]], [28, [28, [51], [1539]], [72]], [28, [28, [51], [814]], [72]], [39, [5]], [7]]]] of type list",
     "output_type": "error",
     "traceback": [
      "\u001b[0;31m---------------------------------------------------------------------------\u001b[0m",
      "\u001b[0;31mTypeError\u001b[0m                                 Traceback (most recent call last)",
      "\u001b[0;32m<ipython-input-49-db68ef643f63>\u001b[0m in \u001b[0;36m<module>\u001b[0;34m\u001b[0m\n\u001b[1;32m      1\u001b[0m \u001b[0mprint\u001b[0m\u001b[0;34m(\u001b[0m\u001b[0mtest_data\u001b[0m\u001b[0;34m[\u001b[0m\u001b[0;34m'code'\u001b[0m\u001b[0;34m]\u001b[0m\u001b[0;34m[\u001b[0m\u001b[0;36m0\u001b[0m\u001b[0;34m]\u001b[0m\u001b[0;34m)\u001b[0m\u001b[0;34m\u001b[0m\u001b[0;34m\u001b[0m\u001b[0m\n\u001b[0;32m----> 2\u001b[0;31m \u001b[0mtest_data\u001b[0m\u001b[0;34m.\u001b[0m\u001b[0mhead\u001b[0m\u001b[0;34m(\u001b[0m\u001b[0;34m[\u001b[0m\u001b[0mtest_data\u001b[0m\u001b[0;34m[\u001b[0m\u001b[0;34m'code'\u001b[0m\u001b[0;34m]\u001b[0m\u001b[0;34m[\u001b[0m\u001b[0;36m0\u001b[0m\u001b[0;34m]\u001b[0m\u001b[0;34m]\u001b[0m\u001b[0;34m)\u001b[0m\u001b[0;34m\u001b[0m\u001b[0;34m\u001b[0m\u001b[0m\n\u001b[0m",
      "\u001b[0;32m~/projects/university/astnn/venv/lib/python3.8/site-packages/pandas/core/generic.py\u001b[0m in \u001b[0;36mhead\u001b[0;34m(self, n)\u001b[0m\n\u001b[1;32m   4701\u001b[0m         \u001b[0;36m5\u001b[0m     \u001b[0mparrot\u001b[0m\u001b[0;34m\u001b[0m\u001b[0;34m\u001b[0m\u001b[0m\n\u001b[1;32m   4702\u001b[0m         \"\"\"\n\u001b[0;32m-> 4703\u001b[0;31m         \u001b[0;32mreturn\u001b[0m \u001b[0mself\u001b[0m\u001b[0;34m.\u001b[0m\u001b[0miloc\u001b[0m\u001b[0;34m[\u001b[0m\u001b[0;34m:\u001b[0m\u001b[0mn\u001b[0m\u001b[0;34m]\u001b[0m\u001b[0;34m\u001b[0m\u001b[0;34m\u001b[0m\u001b[0m\n\u001b[0m\u001b[1;32m   4704\u001b[0m \u001b[0;34m\u001b[0m\u001b[0m\n\u001b[1;32m   4705\u001b[0m     \u001b[0;32mdef\u001b[0m \u001b[0mtail\u001b[0m\u001b[0;34m(\u001b[0m\u001b[0mself\u001b[0m\u001b[0;34m:\u001b[0m \u001b[0mFrameOrSeries\u001b[0m\u001b[0;34m,\u001b[0m \u001b[0mn\u001b[0m\u001b[0;34m:\u001b[0m \u001b[0mint\u001b[0m \u001b[0;34m=\u001b[0m \u001b[0;36m5\u001b[0m\u001b[0;34m)\u001b[0m \u001b[0;34m->\u001b[0m \u001b[0mFrameOrSeries\u001b[0m\u001b[0;34m:\u001b[0m\u001b[0;34m\u001b[0m\u001b[0;34m\u001b[0m\u001b[0m\n",
      "\u001b[0;32m~/projects/university/astnn/venv/lib/python3.8/site-packages/pandas/core/indexing.py\u001b[0m in \u001b[0;36m__getitem__\u001b[0;34m(self, key)\u001b[0m\n\u001b[1;32m    877\u001b[0m \u001b[0;34m\u001b[0m\u001b[0m\n\u001b[1;32m    878\u001b[0m             \u001b[0mmaybe_callable\u001b[0m \u001b[0;34m=\u001b[0m \u001b[0mcom\u001b[0m\u001b[0;34m.\u001b[0m\u001b[0mapply_if_callable\u001b[0m\u001b[0;34m(\u001b[0m\u001b[0mkey\u001b[0m\u001b[0;34m,\u001b[0m \u001b[0mself\u001b[0m\u001b[0;34m.\u001b[0m\u001b[0mobj\u001b[0m\u001b[0;34m)\u001b[0m\u001b[0;34m\u001b[0m\u001b[0;34m\u001b[0m\u001b[0m\n\u001b[0;32m--> 879\u001b[0;31m             \u001b[0;32mreturn\u001b[0m \u001b[0mself\u001b[0m\u001b[0;34m.\u001b[0m\u001b[0m_getitem_axis\u001b[0m\u001b[0;34m(\u001b[0m\u001b[0mmaybe_callable\u001b[0m\u001b[0;34m,\u001b[0m \u001b[0maxis\u001b[0m\u001b[0;34m=\u001b[0m\u001b[0maxis\u001b[0m\u001b[0;34m)\u001b[0m\u001b[0;34m\u001b[0m\u001b[0;34m\u001b[0m\u001b[0m\n\u001b[0m\u001b[1;32m    880\u001b[0m \u001b[0;34m\u001b[0m\u001b[0m\n\u001b[1;32m    881\u001b[0m     \u001b[0;32mdef\u001b[0m \u001b[0m_is_scalar_access\u001b[0m\u001b[0;34m(\u001b[0m\u001b[0mself\u001b[0m\u001b[0;34m,\u001b[0m \u001b[0mkey\u001b[0m\u001b[0;34m:\u001b[0m \u001b[0mTuple\u001b[0m\u001b[0;34m)\u001b[0m\u001b[0;34m:\u001b[0m\u001b[0;34m\u001b[0m\u001b[0;34m\u001b[0m\u001b[0m\n",
      "\u001b[0;32m~/projects/university/astnn/venv/lib/python3.8/site-packages/pandas/core/indexing.py\u001b[0m in \u001b[0;36m_getitem_axis\u001b[0;34m(self, key, axis)\u001b[0m\n\u001b[1;32m   1474\u001b[0m     \u001b[0;32mdef\u001b[0m \u001b[0m_getitem_axis\u001b[0m\u001b[0;34m(\u001b[0m\u001b[0mself\u001b[0m\u001b[0;34m,\u001b[0m \u001b[0mkey\u001b[0m\u001b[0;34m,\u001b[0m \u001b[0maxis\u001b[0m\u001b[0;34m:\u001b[0m \u001b[0mint\u001b[0m\u001b[0;34m)\u001b[0m\u001b[0;34m:\u001b[0m\u001b[0;34m\u001b[0m\u001b[0;34m\u001b[0m\u001b[0m\n\u001b[1;32m   1475\u001b[0m         \u001b[0;32mif\u001b[0m \u001b[0misinstance\u001b[0m\u001b[0;34m(\u001b[0m\u001b[0mkey\u001b[0m\u001b[0;34m,\u001b[0m \u001b[0mslice\u001b[0m\u001b[0;34m)\u001b[0m\u001b[0;34m:\u001b[0m\u001b[0;34m\u001b[0m\u001b[0;34m\u001b[0m\u001b[0m\n\u001b[0;32m-> 1476\u001b[0;31m             \u001b[0;32mreturn\u001b[0m \u001b[0mself\u001b[0m\u001b[0;34m.\u001b[0m\u001b[0m_get_slice_axis\u001b[0m\u001b[0;34m(\u001b[0m\u001b[0mkey\u001b[0m\u001b[0;34m,\u001b[0m \u001b[0maxis\u001b[0m\u001b[0;34m=\u001b[0m\u001b[0maxis\u001b[0m\u001b[0;34m)\u001b[0m\u001b[0;34m\u001b[0m\u001b[0;34m\u001b[0m\u001b[0m\n\u001b[0m\u001b[1;32m   1477\u001b[0m \u001b[0;34m\u001b[0m\u001b[0m\n\u001b[1;32m   1478\u001b[0m         \u001b[0;32mif\u001b[0m \u001b[0misinstance\u001b[0m\u001b[0;34m(\u001b[0m\u001b[0mkey\u001b[0m\u001b[0;34m,\u001b[0m \u001b[0mlist\u001b[0m\u001b[0;34m)\u001b[0m\u001b[0;34m:\u001b[0m\u001b[0;34m\u001b[0m\u001b[0;34m\u001b[0m\u001b[0m\n",
      "\u001b[0;32m~/projects/university/astnn/venv/lib/python3.8/site-packages/pandas/core/indexing.py\u001b[0m in \u001b[0;36m_get_slice_axis\u001b[0;34m(self, slice_obj, axis)\u001b[0m\n\u001b[1;32m   1506\u001b[0m \u001b[0;34m\u001b[0m\u001b[0m\n\u001b[1;32m   1507\u001b[0m         \u001b[0mlabels\u001b[0m \u001b[0;34m=\u001b[0m \u001b[0mobj\u001b[0m\u001b[0;34m.\u001b[0m\u001b[0m_get_axis\u001b[0m\u001b[0;34m(\u001b[0m\u001b[0maxis\u001b[0m\u001b[0;34m)\u001b[0m\u001b[0;34m\u001b[0m\u001b[0;34m\u001b[0m\u001b[0m\n\u001b[0;32m-> 1508\u001b[0;31m         \u001b[0mlabels\u001b[0m\u001b[0;34m.\u001b[0m\u001b[0m_validate_positional_slice\u001b[0m\u001b[0;34m(\u001b[0m\u001b[0mslice_obj\u001b[0m\u001b[0;34m)\u001b[0m\u001b[0;34m\u001b[0m\u001b[0;34m\u001b[0m\u001b[0m\n\u001b[0m\u001b[1;32m   1509\u001b[0m         \u001b[0;32mreturn\u001b[0m \u001b[0mself\u001b[0m\u001b[0;34m.\u001b[0m\u001b[0mobj\u001b[0m\u001b[0;34m.\u001b[0m\u001b[0m_slice\u001b[0m\u001b[0;34m(\u001b[0m\u001b[0mslice_obj\u001b[0m\u001b[0;34m,\u001b[0m \u001b[0maxis\u001b[0m\u001b[0;34m=\u001b[0m\u001b[0maxis\u001b[0m\u001b[0;34m)\u001b[0m\u001b[0;34m\u001b[0m\u001b[0;34m\u001b[0m\u001b[0m\n\u001b[1;32m   1510\u001b[0m \u001b[0;34m\u001b[0m\u001b[0m\n",
      "\u001b[0;32m~/projects/university/astnn/venv/lib/python3.8/site-packages/pandas/core/indexes/base.py\u001b[0m in \u001b[0;36m_validate_positional_slice\u001b[0;34m(self, key)\u001b[0m\n\u001b[1;32m   3113\u001b[0m         \"\"\"\n\u001b[1;32m   3114\u001b[0m         \u001b[0mself\u001b[0m\u001b[0;34m.\u001b[0m\u001b[0m_validate_indexer\u001b[0m\u001b[0;34m(\u001b[0m\u001b[0;34m\"positional\"\u001b[0m\u001b[0;34m,\u001b[0m \u001b[0mkey\u001b[0m\u001b[0;34m.\u001b[0m\u001b[0mstart\u001b[0m\u001b[0;34m,\u001b[0m \u001b[0;34m\"iloc\"\u001b[0m\u001b[0;34m)\u001b[0m\u001b[0;34m\u001b[0m\u001b[0;34m\u001b[0m\u001b[0m\n\u001b[0;32m-> 3115\u001b[0;31m         \u001b[0mself\u001b[0m\u001b[0;34m.\u001b[0m\u001b[0m_validate_indexer\u001b[0m\u001b[0;34m(\u001b[0m\u001b[0;34m\"positional\"\u001b[0m\u001b[0;34m,\u001b[0m \u001b[0mkey\u001b[0m\u001b[0;34m.\u001b[0m\u001b[0mstop\u001b[0m\u001b[0;34m,\u001b[0m \u001b[0;34m\"iloc\"\u001b[0m\u001b[0;34m)\u001b[0m\u001b[0;34m\u001b[0m\u001b[0;34m\u001b[0m\u001b[0m\n\u001b[0m\u001b[1;32m   3116\u001b[0m         \u001b[0mself\u001b[0m\u001b[0;34m.\u001b[0m\u001b[0m_validate_indexer\u001b[0m\u001b[0;34m(\u001b[0m\u001b[0;34m\"positional\"\u001b[0m\u001b[0;34m,\u001b[0m \u001b[0mkey\u001b[0m\u001b[0;34m.\u001b[0m\u001b[0mstep\u001b[0m\u001b[0;34m,\u001b[0m \u001b[0;34m\"iloc\"\u001b[0m\u001b[0;34m)\u001b[0m\u001b[0;34m\u001b[0m\u001b[0;34m\u001b[0m\u001b[0m\n\u001b[1;32m   3117\u001b[0m \u001b[0;34m\u001b[0m\u001b[0m\n",
      "\u001b[0;32m~/projects/university/astnn/venv/lib/python3.8/site-packages/pandas/core/indexes/base.py\u001b[0m in \u001b[0;36m_validate_indexer\u001b[0;34m(self, form, key, kind)\u001b[0m\n\u001b[1;32m   4989\u001b[0m             \u001b[0;32mpass\u001b[0m\u001b[0;34m\u001b[0m\u001b[0;34m\u001b[0m\u001b[0m\n\u001b[1;32m   4990\u001b[0m         \u001b[0;32melse\u001b[0m\u001b[0;34m:\u001b[0m\u001b[0;34m\u001b[0m\u001b[0;34m\u001b[0m\u001b[0m\n\u001b[0;32m-> 4991\u001b[0;31m             \u001b[0mself\u001b[0m\u001b[0;34m.\u001b[0m\u001b[0m_invalid_indexer\u001b[0m\u001b[0;34m(\u001b[0m\u001b[0mform\u001b[0m\u001b[0;34m,\u001b[0m \u001b[0mkey\u001b[0m\u001b[0;34m)\u001b[0m\u001b[0;34m\u001b[0m\u001b[0;34m\u001b[0m\u001b[0m\n\u001b[0m\u001b[1;32m   4992\u001b[0m \u001b[0;34m\u001b[0m\u001b[0m\n\u001b[1;32m   4993\u001b[0m     \u001b[0;32mdef\u001b[0m \u001b[0m_maybe_cast_slice_bound\u001b[0m\u001b[0;34m(\u001b[0m\u001b[0mself\u001b[0m\u001b[0;34m,\u001b[0m \u001b[0mlabel\u001b[0m\u001b[0;34m,\u001b[0m \u001b[0mside\u001b[0m\u001b[0;34m:\u001b[0m \u001b[0mstr_t\u001b[0m\u001b[0;34m,\u001b[0m \u001b[0mkind\u001b[0m\u001b[0;34m)\u001b[0m\u001b[0;34m:\u001b[0m\u001b[0;34m\u001b[0m\u001b[0;34m\u001b[0m\u001b[0m\n",
      "\u001b[0;32m~/projects/university/astnn/venv/lib/python3.8/site-packages/pandas/core/indexes/base.py\u001b[0m in \u001b[0;36m_invalid_indexer\u001b[0;34m(self, form, key)\u001b[0m\n\u001b[1;32m   3259\u001b[0m         \u001b[0mConsistent\u001b[0m \u001b[0minvalid\u001b[0m \u001b[0mindexer\u001b[0m \u001b[0mmessage\u001b[0m\u001b[0;34m.\u001b[0m\u001b[0;34m\u001b[0m\u001b[0;34m\u001b[0m\u001b[0m\n\u001b[1;32m   3260\u001b[0m         \"\"\"\n\u001b[0;32m-> 3261\u001b[0;31m         raise TypeError(\n\u001b[0m\u001b[1;32m   3262\u001b[0m             \u001b[0;34mf\"cannot do {form} indexing on {type(self).__name__} with these \"\u001b[0m\u001b[0;34m\u001b[0m\u001b[0;34m\u001b[0m\u001b[0m\n\u001b[1;32m   3263\u001b[0m             \u001b[0;34mf\"indexers [{key}] of type {type(key).__name__}\"\u001b[0m\u001b[0;34m\u001b[0m\u001b[0;34m\u001b[0m\u001b[0m\n",
      "\u001b[0;31mTypeError\u001b[0m: cannot do positional indexing on Int64Index with these indexers [[[[32, [2, [30, [40, [4]]]]], [6], [2, [3055, [4]]], [2, [740, [4]]], [2, [740, [4]]], [2, [740, [4]]], [2, [257, [4]]], [2, [632, [4]]], [2, [835, [4]]], [59, [1150], [3055]], [3, [740], [57, [3055], [49]]], [3, [3055], [53, [3055], [49]]], [3, [740], [57, [3055], [127]]], [3, [3055], [53, [3055], [127]]], [3, [740], [57, [3055], [131]]], [3, [3055], [53, [3055], [131]]], [3, [257], [57, [3055], [60]]], [3, [3055], [53, [3055], [60]]], [3, [632], [57, [3055], [67]]], [3, [3055], [53, [3055], [67]]], [3, [835], [3055]], [28, [28, [51], [970]], [72]], [28, [28, [51], [1605]], [72]], [28, [28, [51], [1639]], [72]], [28, [28, [51], [722]], [72]], [28, [28, [51], [1539]], [72]], [28, [28, [51], [814]], [72]], [39, [5]], [7]]]] of type list"
     ]
    }
   ],
   "source": [
    "# print(test_data['code'][0])\n",
    "test_data.head([test_data['code'][0]])"
   ]
  },
  {
   "cell_type": "code",
   "execution_count": 42,
   "metadata": {},
   "outputs": [
    {
     "name": "stderr",
     "output_type": "stream",
     "text": [
      "<ipython-input-42-14bc3aa4690b>:3: VisibleDeprecationWarning: Creating an ndarray from ragged nested sequences (which is a list-or-tuple of lists-or-tuples-or ndarrays with different lengths or shapes) is deprecated. If you meant to do this, you must specify 'dtype=object' when creating the ndarray\n",
      "  array = np.array(test_data['code'][0])\n"
     ]
    },
    {
     "data": {
      "text/plain": [
       "array([list([32, [2, [30, [40, [4]]]]]), list([6]),\n",
       "       list([2, [3055, [4]]]), list([2, [740, [4]]]),\n",
       "       list([2, [740, [4]]]), list([2, [740, [4]]]),\n",
       "       list([2, [257, [4]]]), list([2, [632, [4]]]),\n",
       "       list([2, [835, [4]]]), list([59, [1150], [3055]]),\n",
       "       list([3, [740], [57, [3055], [49]]]),\n",
       "       list([3, [3055], [53, [3055], [49]]]),\n",
       "       list([3, [740], [57, [3055], [127]]]),\n",
       "       list([3, [3055], [53, [3055], [127]]]),\n",
       "       list([3, [740], [57, [3055], [131]]]),\n",
       "       list([3, [3055], [53, [3055], [131]]]),\n",
       "       list([3, [257], [57, [3055], [60]]]),\n",
       "       list([3, [3055], [53, [3055], [60]]]),\n",
       "       list([3, [632], [57, [3055], [67]]]),\n",
       "       list([3, [3055], [53, [3055], [67]]]), list([3, [835], [3055]]),\n",
       "       list([28, [28, [51], [970]], [72]]),\n",
       "       list([28, [28, [51], [1605]], [72]]),\n",
       "       list([28, [28, [51], [1639]], [72]]),\n",
       "       list([28, [28, [51], [722]], [72]]),\n",
       "       list([28, [28, [51], [1539]], [72]]),\n",
       "       list([28, [28, [51], [814]], [72]]), list([39, [5]]), list([7])],\n",
       "      dtype=object)"
      ]
     },
     "execution_count": 42,
     "metadata": {},
     "output_type": "execute_result"
    }
   ],
   "source": [
    "import numpy as np \n",
    "import torch \n",
    "array = np.array(test_data['code'][0])\n",
    "array\n",
    "# output_data = torch.from_numpy(array)"
   ]
  },
  {
   "cell_type": "code",
   "execution_count": null,
   "metadata": {},
   "outputs": [],
   "source": [
    "loss = loss_function(output_data, Variable(train_labels))\n",
    "loss.backward()"
   ]
  },
  {
   "cell_type": "code",
   "execution_count": 37,
   "metadata": {},
   "outputs": [
    {
     "data": {
      "text/plain": [
       "tensor([[ 1.2612e-44,  0.0000e+00,  2.4593e-37,  4.5785e-41,  1.3260e-37,\n",
       "          0.0000e+00,         nan,         nan,  0.0000e+00,  0.0000e+00],\n",
       "        [        nan,         nan, -8.0709e+31,  4.5783e-41,  1.4013e-45,\n",
       "          4.0274e-11,  1.0089e-43,  0.0000e+00,  9.8091e-45,  0.0000e+00],\n",
       "        [ 2.4593e-37,  4.5785e-41,  1.3260e-37,  0.0000e+00,  0.0000e+00,\n",
       "          0.0000e+00,  1.4013e-45,  0.0000e+00,  1.4013e-45,  0.0000e+00],\n",
       "        [-8.0709e+31,  4.5783e-41,  1.4013e-45,  2.5609e-12,  2.0179e-43,\n",
       "          0.0000e+00,  4.2039e-45,  0.0000e+00,  2.4593e-37,  4.5785e-41],\n",
       "        [ 1.3260e-37,  0.0000e+00,  0.0000e+00,  0.0000e+00,  1.4013e-45,\n",
       "          0.0000e+00,  1.4013e-45,  0.0000e+00,  1.4013e-44,  0.0000e+00],\n",
       "        [ 1.4013e-45,  0.0000e+00,  3.0268e-43,  0.0000e+00,  1.2612e-44,\n",
       "          0.0000e+00,  2.4593e-37,  4.5785e-41,  1.3260e-37,  0.0000e+00],\n",
       "        [ 0.0000e+00,  0.0000e+00,  5.6052e-45,  0.0000e+00,  1.4013e-45,\n",
       "          0.0000e+00,  0.0000e+00,  0.0000e+00,  1.4013e-45,  2.6551e-06],\n",
       "        [ 4.0357e-43,  0.0000e+00,  1.2612e-44,  0.0000e+00,  2.4593e-37,\n",
       "          4.5785e-41,  1.3260e-37,  0.0000e+00,  3.2230e-44,  0.0000e+00],\n",
       "        [ 5.6052e-45,  0.0000e+00,  1.4013e-45,  0.0000e+00,  0.0000e+00,\n",
       "          0.0000e+00,  1.4013e-45,  5.8253e-10,  5.0447e-43,  0.0000e+00],\n",
       "        [ 1.2612e-44,  0.0000e+00,  2.4593e-37,  4.5785e-41,  1.3261e-37,\n",
       "          0.0000e+00,  0.0000e+00,  0.0000e+00,  0.0000e+00,  0.0000e+00]])"
      ]
     },
     "execution_count": 37,
     "metadata": {},
     "output_type": "execute_result"
    }
   ],
   "source": [
    "torch.autograd.Variable(torch.Tensor(10,10))"
   ]
  },
  {
   "cell_type": "markdown",
   "metadata": {},
   "source": [
    "reproduce prev results\n",
    "\n",
    "# Training Accuracy\n",
    "\n",
    "## No modifications\n",
    "\n",
    "- Testing results(Acc): 0.9804826458994328\n",
    "\n",
    "## Dead Code Additions\n",
    "\n",
    "- 2 additions: Testing results(Acc): 0.9753869820209595\n",
    "- 5 additions: Testing results(Acc): 0.9682722815113931\n",
    "\n",
    "\n",
    "## Variable Renaming\n",
    "\n",
    "- Testing results(Acc): 0.9478896259975003\n",
    "\n",
    "## Combination\n",
    "\n",
    "- Variable renaming, 5 dead code additions: Testing results(Acc): 0.9473127583886165\n",
    "- Variable renaming, 10 dead code additions: Testing results(Acc): 0.946928179982694"
   ]
  },
  {
   "cell_type": "markdown",
   "metadata": {},
   "source": [
    "# Efficiency Notes\n",
    "\n",
    "## Variable renaming\n",
    "- Test set (10401 code samples): ~1m 8s"
   ]
  },
  {
   "cell_type": "code",
   "execution_count": null,
   "metadata": {},
   "outputs": [],
   "source": []
  }
 ],
 "metadata": {
  "kernelspec": {
   "display_name": "Python 3",
   "language": "python",
   "name": "python3"
  },
  "language_info": {
   "codemirror_mode": {
    "name": "ipython",
    "version": 3
   },
   "file_extension": ".py",
   "mimetype": "text/x-python",
   "name": "python",
   "nbconvert_exporter": "python",
   "pygments_lexer": "ipython3",
   "version": "3.8.2"
  }
 },
 "nbformat": 4,
 "nbformat_minor": 4
}
