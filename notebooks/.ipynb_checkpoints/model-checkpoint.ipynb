{
 "cells": [
  {
   "cell_type": "code",
   "execution_count": 2,
   "metadata": {},
   "outputs": [
    {
     "name": "stderr",
     "output_type": "stream",
     "text": [
      "/home/david/projects/university/astnn/model.py:42: SyntaxWarning: \"is not\" with a literal. Did you mean \"!=\"?\n",
      "  if node[i][0] is not -1:\n",
      "/home/david/projects/university/astnn/model.py:48: SyntaxWarning: \"is not\" with a literal. Did you mean \"!=\"?\n",
      "  if temp[j][0] is not -1:\n",
      "/home/david/projects/university/astnn/model.py:69: SyntaxWarning: \"is not\" with a literal. Did you mean \"!=\"?\n",
      "  batch_index = [i for i in batch_index if i is not -1]\n"
     ]
    }
   ],
   "source": [
    "import os\n",
    "import sys\n",
    "module_path = os.path.abspath(os.path.join('..'))\n",
    "if module_path not in sys.path:\n",
    "    sys.path.append(module_path)\n",
    "    \n",
    "import pandas as pd\n",
    "import random\n",
    "import torch\n",
    "import time\n",
    "import numpy as np\n",
    "from gensim.models.word2vec import Word2Vec\n",
    "from model import BatchProgramClassifier\n",
    "from torch.autograd import Variable\n",
    "from torch.utils.data import DataLoader\n",
    "\n",
    "import torch.nn as nn\n",
    "import torch.nn.functional as F\n",
    "import torch\n",
    "from torch.autograd import Variable"
   ]
  },
  {
   "cell_type": "markdown",
   "metadata": {},
   "source": [
    "## Load the Model"
   ]
  },
  {
   "cell_type": "code",
   "execution_count": 3,
   "metadata": {},
   "outputs": [
    {
     "data": {
      "text/plain": [
       "<All keys matched successfully>"
      ]
     },
     "execution_count": 3,
     "metadata": {},
     "output_type": "execute_result"
    }
   ],
   "source": [
    "root = '/home/david/projects/university/astnn/data/'\n",
    "\n",
    "word2vec = Word2Vec.load(root+\"train/embedding/node_w2v_128\").wv\n",
    "embeddings = np.zeros((word2vec.vectors.shape[0] + 1, word2vec.vectors.shape[1]), dtype=\"float32\")\n",
    "embeddings[:word2vec.vectors.shape[0]] = word2vec.vectors\n",
    "\n",
    "HIDDEN_DIM = 100\n",
    "ENCODE_DIM = 128\n",
    "LABELS = 104\n",
    "EPOCHS = 15\n",
    "BATCH_SIZE = 1\n",
    "USE_GPU = False\n",
    "MAX_TOKENS = word2vec.vectors.shape[0]\n",
    "EMBEDDING_DIM = word2vec.vectors.shape[1]\n",
    "\n",
    "model = BatchProgramClassifier(EMBEDDING_DIM,HIDDEN_DIM,MAX_TOKENS+1,ENCODE_DIM,LABELS,BATCH_SIZE,\n",
    "                               USE_GPU, embeddings)\n",
    "model.load_state_dict(torch.load(\"/home/david/projects/university/astnn/model.pt\"))"
   ]
  },
  {
   "cell_type": "code",
   "execution_count": 4,
   "metadata": {},
   "outputs": [
    {
     "name": "stdout",
     "output_type": "stream",
     "text": [
      "BatchProgramClassifier(\n",
      "  (encoder): BatchTreeEncoder(\n",
      "    (embedding): Embedding(8189, 128)\n",
      "    (W_c): Linear(in_features=128, out_features=128, bias=True)\n",
      "    (W_l): Linear(in_features=128, out_features=128, bias=True)\n",
      "    (W_r): Linear(in_features=128, out_features=128, bias=True)\n",
      "  )\n",
      "  (root2label): Linear(in_features=128, out_features=104, bias=True)\n",
      "  (bigru): GRU(128, 100, batch_first=True, bidirectional=True)\n",
      "  (hidden2label): Linear(in_features=200, out_features=104, bias=True)\n",
      "  (dropout): Dropout(p=0.2, inplace=False)\n",
      ")\n"
     ]
    }
   ],
   "source": [
    "print(model)\n",
    "# print(model._modules['encoder'])"
   ]
  },
  {
   "cell_type": "markdown",
   "metadata": {},
   "source": [
    "## Load some data"
   ]
  },
  {
   "cell_type": "code",
   "execution_count": 5,
   "metadata": {},
   "outputs": [],
   "source": [
    "ast_data = pd.read_pickle(root+'test/test_.pkl')\n",
    "block_data = pd.read_pickle(root+'test/blocks.pkl')"
   ]
  },
  {
   "cell_type": "code",
   "execution_count": 6,
   "metadata": {},
   "outputs": [
    {
     "data": {
      "text/html": [
       "<div>\n",
       "<style scoped>\n",
       "    .dataframe tbody tr th:only-of-type {\n",
       "        vertical-align: middle;\n",
       "    }\n",
       "\n",
       "    .dataframe tbody tr th {\n",
       "        vertical-align: top;\n",
       "    }\n",
       "\n",
       "    .dataframe thead th {\n",
       "        text-align: right;\n",
       "    }\n",
       "</style>\n",
       "<table border=\"1\" class=\"dataframe\">\n",
       "  <thead>\n",
       "    <tr style=\"text-align: right;\">\n",
       "      <th></th>\n",
       "      <th>id</th>\n",
       "      <th>code</th>\n",
       "      <th>label</th>\n",
       "    </tr>\n",
       "  </thead>\n",
       "  <tbody>\n",
       "    <tr>\n",
       "      <th>45281</th>\n",
       "      <td>45281</td>\n",
       "      <td>FileAST(ext=[FuncDef(decl=Decl(name='main',\\n ...</td>\n",
       "      <td>3</td>\n",
       "    </tr>\n",
       "    <tr>\n",
       "      <th>40377</th>\n",
       "      <td>40377</td>\n",
       "      <td>FileAST(ext=[Decl(name='s',\\n                 ...</td>\n",
       "      <td>64</td>\n",
       "    </tr>\n",
       "    <tr>\n",
       "      <th>3220</th>\n",
       "      <td>3220</td>\n",
       "      <td>FileAST(ext=[Decl(name='B',\\n                 ...</td>\n",
       "      <td>90</td>\n",
       "    </tr>\n",
       "    <tr>\n",
       "      <th>20981</th>\n",
       "      <td>20981</td>\n",
       "      <td>FileAST(ext=[FuncDef(decl=Decl(name='main',\\n ...</td>\n",
       "      <td>98</td>\n",
       "    </tr>\n",
       "    <tr>\n",
       "      <th>36621</th>\n",
       "      <td>36621</td>\n",
       "      <td>FileAST(ext=[FuncDef(decl=Decl(name='main',\\n ...</td>\n",
       "      <td>26</td>\n",
       "    </tr>\n",
       "    <tr>\n",
       "      <th>29203</th>\n",
       "      <td>29203</td>\n",
       "      <td>FileAST(ext=[FuncDef(decl=Decl(name='main',\\n ...</td>\n",
       "      <td>53</td>\n",
       "    </tr>\n",
       "    <tr>\n",
       "      <th>15031</th>\n",
       "      <td>15031</td>\n",
       "      <td>FileAST(ext=[Decl(name=None,\\n                ...</td>\n",
       "      <td>31</td>\n",
       "    </tr>\n",
       "    <tr>\n",
       "      <th>26307</th>\n",
       "      <td>26307</td>\n",
       "      <td>FileAST(ext=[FuncDef(decl=Decl(name='main',\\n ...</td>\n",
       "      <td>11</td>\n",
       "    </tr>\n",
       "    <tr>\n",
       "      <th>12163</th>\n",
       "      <td>12163</td>\n",
       "      <td>FileAST(ext=[FuncDef(decl=Decl(name='main',\\n ...</td>\n",
       "      <td>71</td>\n",
       "    </tr>\n",
       "    <tr>\n",
       "      <th>19003</th>\n",
       "      <td>19003</td>\n",
       "      <td>FileAST(ext=[FuncDef(decl=Decl(name='sushu',\\n...</td>\n",
       "      <td>68</td>\n",
       "    </tr>\n",
       "  </tbody>\n",
       "</table>\n",
       "</div>"
      ],
      "text/plain": [
       "          id                                               code  label\n",
       "45281  45281  FileAST(ext=[FuncDef(decl=Decl(name='main',\\n ...      3\n",
       "40377  40377  FileAST(ext=[Decl(name='s',\\n                 ...     64\n",
       "3220    3220  FileAST(ext=[Decl(name='B',\\n                 ...     90\n",
       "20981  20981  FileAST(ext=[FuncDef(decl=Decl(name='main',\\n ...     98\n",
       "36621  36621  FileAST(ext=[FuncDef(decl=Decl(name='main',\\n ...     26\n",
       "29203  29203  FileAST(ext=[FuncDef(decl=Decl(name='main',\\n ...     53\n",
       "15031  15031  FileAST(ext=[Decl(name=None,\\n                ...     31\n",
       "26307  26307  FileAST(ext=[FuncDef(decl=Decl(name='main',\\n ...     11\n",
       "12163  12163  FileAST(ext=[FuncDef(decl=Decl(name='main',\\n ...     71\n",
       "19003  19003  FileAST(ext=[FuncDef(decl=Decl(name='sushu',\\n...     68"
      ]
     },
     "execution_count": 6,
     "metadata": {},
     "output_type": "execute_result"
    }
   ],
   "source": [
    "ast_data.head(n=10)"
   ]
  },
  {
   "cell_type": "code",
   "execution_count": 7,
   "metadata": {},
   "outputs": [
    {
     "data": {
      "text/html": [
       "<div>\n",
       "<style scoped>\n",
       "    .dataframe tbody tr th:only-of-type {\n",
       "        vertical-align: middle;\n",
       "    }\n",
       "\n",
       "    .dataframe tbody tr th {\n",
       "        vertical-align: top;\n",
       "    }\n",
       "\n",
       "    .dataframe thead th {\n",
       "        text-align: right;\n",
       "    }\n",
       "</style>\n",
       "<table border=\"1\" class=\"dataframe\">\n",
       "  <thead>\n",
       "    <tr style=\"text-align: right;\">\n",
       "      <th></th>\n",
       "      <th>id</th>\n",
       "      <th>code</th>\n",
       "      <th>label</th>\n",
       "    </tr>\n",
       "  </thead>\n",
       "  <tbody>\n",
       "    <tr>\n",
       "      <th>45281</th>\n",
       "      <td>45281</td>\n",
       "      <td>[[32, [2, [30, [40, [4]]]]], [6], [2, [13, [4]...</td>\n",
       "      <td>3</td>\n",
       "    </tr>\n",
       "    <tr>\n",
       "      <th>40377</th>\n",
       "      <td>40377</td>\n",
       "      <td>[[32, [2, [30, [40, [81]]]]], [6], [2, [13, [4...</td>\n",
       "      <td>64</td>\n",
       "    </tr>\n",
       "    <tr>\n",
       "      <th>3220</th>\n",
       "      <td>3220</td>\n",
       "      <td>[[32, [2, [30, [40, [4]]]]], [6], [2, [45, [4]...</td>\n",
       "      <td>90</td>\n",
       "    </tr>\n",
       "    <tr>\n",
       "      <th>20981</th>\n",
       "      <td>20981</td>\n",
       "      <td>[[32, [2, [30, [40, [4]]]]], [6], [2, [23, [23...</td>\n",
       "      <td>98</td>\n",
       "    </tr>\n",
       "    <tr>\n",
       "      <th>36621</th>\n",
       "      <td>36621</td>\n",
       "      <td>[[32, [2, [30, [40, [4]]]]], [6], [2, [0, [4]]...</td>\n",
       "      <td>26</td>\n",
       "    </tr>\n",
       "  </tbody>\n",
       "</table>\n",
       "</div>"
      ],
      "text/plain": [
       "          id                                               code  label\n",
       "45281  45281  [[32, [2, [30, [40, [4]]]]], [6], [2, [13, [4]...      3\n",
       "40377  40377  [[32, [2, [30, [40, [81]]]]], [6], [2, [13, [4...     64\n",
       "3220    3220  [[32, [2, [30, [40, [4]]]]], [6], [2, [45, [4]...     90\n",
       "20981  20981  [[32, [2, [30, [40, [4]]]]], [6], [2, [23, [23...     98\n",
       "36621  36621  [[32, [2, [30, [40, [4]]]]], [6], [2, [0, [4]]...     26"
      ]
     },
     "execution_count": 7,
     "metadata": {},
     "output_type": "execute_result"
    }
   ],
   "source": [
    "block_data.head()"
   ]
  },
  {
   "cell_type": "markdown",
   "metadata": {},
   "source": [
    "An example record"
   ]
  },
  {
   "cell_type": "code",
   "execution_count": 15,
   "metadata": {},
   "outputs": [
    {
     "name": "stdout",
     "output_type": "stream",
     "text": [
      "label 3\n"
     ]
    },
    {
     "data": {
      "text/plain": [
       "[[32, [2, [30, [40, [4]]]]],\n",
       " [6],\n",
       " [2, [13, [4]]],\n",
       " [2, [22, [4]]],\n",
       " [2, [23, [24, [4]], [92]]],\n",
       " [2, [0, [4]]],\n",
       " [2, [8, [4]]],\n",
       " [11, [36], [12, [156], [29, [13]], [29, [22]]]],\n",
       " [16, [3, [0], [5]], [20, [0], [13]], [14, [0]]],\n",
       " [11, [36], [12, [46], [29, [1, [24], [0]]]]],\n",
       " [16, [3, [0], [5]], [20, [0], [13]], [14, [0]]],\n",
       " [6],\n",
       " [16, [3, [8], [17, [0], [10]]], [20, [8], [13]], [14, [8]]],\n",
       " [15, [19, [17, [1, [24], [0]], [1, [24], [8]]], [22]]],\n",
       " [52],\n",
       " [15, [44, [8], [13]]],\n",
       " [52],\n",
       " [7],\n",
       " [15, [19, [0], [13]]],\n",
       " [11, [25], [12, [196]]],\n",
       " [11, [25], [12, [279]]],\n",
       " [39, [5]],\n",
       " [7]]"
      ]
     },
     "execution_count": 15,
     "metadata": {},
     "output_type": "execute_result"
    }
   ],
   "source": [
    "x = block_data['code'][45281]\n",
    "print(\"label\", block_data['label'][45281])\n",
    "x"
   ]
  },
  {
   "cell_type": "markdown",
   "metadata": {},
   "source": [
    "Elements represent indices of tokens in the word embedding"
   ]
  },
  {
   "cell_type": "code",
   "execution_count": 16,
   "metadata": {},
   "outputs": [
    {
     "data": {
      "text/plain": [
       "[['FuncDef', ['Decl', ['FuncDecl', ['main', ['int']]]]],\n",
       " ['Compound'],\n",
       " ['Decl', ['n', ['int']]],\n",
       " ['Decl', ['k', ['int']]],\n",
       " ['Decl', ['ArrayDecl', ['m', ['int']], ['1000']]],\n",
       " ['Decl', ['i', ['int']]],\n",
       " ['Decl', ['j', ['int']]],\n",
       " ['FuncCall', ['scanf'], ['ExprList', ['\"%d%d\"'], ['&', ['n']], ['&', ['k']]]],\n",
       " ['For', ['=', ['i'], ['0']], ['<', ['i'], ['n']], ['++', ['i']]],\n",
       " ['FuncCall',\n",
       "  ['scanf'],\n",
       "  ['ExprList', ['\"%d\"'], ['&', ['ArrayRef', ['m'], ['i']]]]],\n",
       " ['For', ['=', ['i'], ['0']], ['<', ['i'], ['n']], ['++', ['i']]],\n",
       " ['Compound'],\n",
       " ['For',\n",
       "  ['=', ['j'], ['+', ['i'], ['1']]],\n",
       "  ['<', ['j'], ['n']],\n",
       "  ['++', ['j']]],\n",
       " ['If',\n",
       "  ['==',\n",
       "   ['+', ['ArrayRef', ['m'], ['i']], ['ArrayRef', ['m'], ['j']]],\n",
       "   ['k']]],\n",
       " ['Break'],\n",
       " ['If', ['!=', ['j'], ['n']]],\n",
       " ['Break'],\n",
       " ['End'],\n",
       " ['If', ['==', ['i'], ['n']]],\n",
       " ['FuncCall', ['printf'], ['ExprList', ['\"no\"']]],\n",
       " ['FuncCall', ['printf'], ['ExprList', ['\"yes\"']]],\n",
       " ['Return', ['0']],\n",
       " ['End']]"
      ]
     },
     "execution_count": 16,
     "metadata": {},
     "output_type": "execute_result"
    }
   ],
   "source": [
    "def index_to_token(node):\n",
    "    i = node[0]\n",
    "    result = [word2vec.index2word[i]]\n",
    "    children = node[1:]\n",
    "    for child in children:\n",
    "        result.append(index_to_token(child))\n",
    "    return result\n",
    "\n",
    "token_blocks = []\n",
    "for block in x:\n",
    "    token_blocks.append(index_to_token(block))\n",
    "    \n",
    "token_blocks"
   ]
  },
  {
   "cell_type": "markdown",
   "metadata": {},
   "source": [
    "What do these statement trees look like"
   ]
  },
  {
   "cell_type": "code",
   "execution_count": 17,
   "metadata": {},
   "outputs": [],
   "source": [
    "import networkx as nx\n",
    "\n",
    "def add_to_graph(G, block, pi, label_dict):\n",
    "    token = block[0]\n",
    "    i = len(G)\n",
    "    G.add_nodes_from([(i, {'label': token})])\n",
    "    label_dict[i] = token\n",
    "    \n",
    "    if pi != None:\n",
    "        G.add_edge(pi, i)\n",
    "    \n",
    "    children = block[1:]\n",
    "    for child in children:\n",
    "        add_to_graph(G, child, i, label_dict)"
   ]
  },
  {
   "cell_type": "code",
   "execution_count": 18,
   "metadata": {},
   "outputs": [
    {
     "data": {
      "image/png": "[encoded data removed]",
      "text/plain": [
       "<Figure size 1080x2160 with 23 Axes>"
      ]
     },
     "metadata": {},
     "output_type": "display_data"
    }
   ],
   "source": [
    "import matplotlib.pyplot as plt\n",
    "from networkx.drawing.nx_agraph import graphviz_layout\n",
    "\n",
    "plt.figure(figsize=(15,30))\n",
    "\n",
    "options = {\n",
    "    'node_color': 'white',\n",
    "    'node_size': 100,\n",
    "    'width': 1,\n",
    "    'font_size': 16\n",
    "}\n",
    "\n",
    "for i, block in enumerate(token_blocks):\n",
    "    G = nx.DiGraph()\n",
    "    label_dict = {}\n",
    "    add_to_graph(G, block, None, label_dict)\n",
    "    \n",
    "#     nx.nx_agraph.write_dot(G,'test.dot')\n",
    "    pos=graphviz_layout(G, prog='dot')\n",
    "\n",
    "    plt.subplot(10, 4, i+1)\n",
    "    plt.tight_layout()\n",
    "    nx.draw(G, pos, **options, with_labels=True, labels=label_dict)\n"
   ]
  },
  {
   "cell_type": "markdown",
   "metadata": {},
   "source": [
    "And the source code"
   ]
  },
  {
   "cell_type": "code",
   "execution_count": 71,
   "metadata": {},
   "outputs": [
    {
     "name": "stdout",
     "output_type": "stream",
     "text": [
      "int main()\n",
      "{\n",
      "  int n;\n",
      "  int k;\n",
      "  int m[1000];\n",
      "  int i;\n",
      "  int j;\n",
      "  scanf(\"%d%d\", &n, &k);\n",
      "  for (i = 0; i < n; i++)\n",
      "    scanf(\"%d\", &m[i]);\n",
      "\n",
      "  for (i = 0; i < n; i++)\n",
      "  {\n",
      "    for (j = i + 1; j < n; j++)\n",
      "      if ((m[i] + m[j]) == k)\n",
      "      break;\n",
      "\n",
      "\n",
      "    if (j != n)\n",
      "      break;\n",
      "\n",
      "  }\n",
      "\n",
      "  if (i == n)\n",
      "    printf(\"no\");\n",
      "  else\n",
      "    printf(\"yes\");\n",
      "\n",
      "  return 0;\n",
      "}\n",
      "\n",
      "\n"
     ]
    }
   ],
   "source": [
    "from pycparser import c_ast, c_parser, c_generator\n",
    "\n",
    "parser = c_parser.CParser()\n",
    "generator = c_generator.CGenerator()\n",
    "\n",
    "\n",
    "ast = ast_data['code'][45281]\n",
    "print(generator.visit(ast))"
   ]
  },
  {
   "cell_type": "markdown",
   "metadata": {},
   "source": [
    "Pass this data to our model"
   ]
  },
  {
   "cell_type": "code",
   "execution_count": 30,
   "metadata": {},
   "outputs": [],
   "source": [
    "loss_function = torch.nn.CrossEntropyLoss()\n",
    "\n",
    "labels = torch.LongTensor([3])\n",
    "output = model([x])\n",
    "loss = loss_function(output, Variable(labels))\n",
    "# for l in model._modules['encoder'].embedding_list:\n",
    "#     l.retain_grad()\n",
    "loss.backward()"
   ]
  },
  {
   "cell_type": "markdown",
   "metadata": {},
   "source": [
    "Node List represents the node embeddings"
   ]
  },
  {
   "cell_type": "code",
   "execution_count": 31,
   "metadata": {},
   "outputs": [
    {
     "data": {
      "text/plain": [
       "torch.Size([22, 23, 128])"
      ]
     },
     "execution_count": 31,
     "metadata": {},
     "output_type": "execute_result"
    }
   ],
   "source": [
    "n_list = model._modules['encoder'].node_list\n",
    "n_list.size()"
   ]
  },
  {
   "cell_type": "code",
   "execution_count": 75,
   "metadata": {},
   "outputs": [
    {
     "data": {
      "text/plain": [
       "tensor([ 0.0347,  0.0886, -0.0915,  0.0535, -0.1513,  0.0258,  0.1549,  0.1202,\n",
       "        -0.0015,  0.0179, -0.1213,  0.0405,  0.0603, -0.0946, -0.0773,  0.1555,\n",
       "         0.1779, -0.1302,  0.0757, -0.0317, -0.1038, -0.1230,  0.2177,  0.1965,\n",
       "        -0.0424, -0.1286,  0.0008,  0.2023,  0.2820, -0.0202,  0.0674,  0.0943,\n",
       "        -0.1274, -0.0623,  0.0579, -0.1503, -0.1603,  0.0536, -0.0921, -0.0069,\n",
       "        -0.0569,  0.1280, -0.1668, -0.0208,  0.0899, -0.0695, -0.1413,  0.2004,\n",
       "        -0.1081,  0.0214,  0.0199,  0.2394, -0.0863,  0.0242, -0.0460, -0.0172,\n",
       "         0.0162, -0.1521,  0.0536,  0.0659, -0.1662,  0.0470,  0.1071,  0.1415,\n",
       "         0.1368, -0.0220,  0.0044,  0.2222, -0.0363, -0.2328, -0.1320,  0.3001,\n",
       "        -0.0566,  0.0811, -0.0937,  0.1088, -0.2832, -0.1416, -0.0275, -0.1034,\n",
       "        -0.0294, -0.0172, -0.0471, -0.0223,  0.0345, -0.1135,  0.0501, -0.1105,\n",
       "        -0.0334, -0.0788,  0.0594,  0.0346, -0.0571,  0.0307,  0.0017, -0.0184,\n",
       "         0.0517,  0.0671,  0.0225, -0.0684,  0.2976, -0.0628,  0.1659,  0.0116,\n",
       "         0.1028,  0.0322, -0.1408,  0.0132, -0.0984, -0.0430,  0.0672,  0.1410,\n",
       "         0.2163, -0.1959, -0.0026, -0.2085, -0.0685, -0.0356,  0.4075,  0.1444,\n",
       "        -0.0824, -0.0262,  0.0334, -0.0802, -0.1606,  0.1215, -0.1003,  0.0456],\n",
       "       grad_fn=<SliceBackward>)"
      ]
     },
     "execution_count": 75,
     "metadata": {},
     "output_type": "execute_result"
    }
   ],
   "source": [
    "n_list[9, 8, :]"
   ]
  },
  {
   "cell_type": "markdown",
   "metadata": {},
   "source": [
    "- 128: embedding dimension of the node\n",
    "- 23: dimension for each block (statement tree)\n",
    "- 22: dimension for node position in the statement tree"
   ]
  },
  {
   "cell_type": "markdown",
   "metadata": {},
   "source": [
    "Interested in changing variable names\n",
    "\n",
    "- currently only have the node embeddings, which are computed recursively\n",
    "- look at a variable on a leaf node\n",
    "\n",
    "Lets consider variable `i` in statement tree 8"
   ]
  },
  {
   "cell_type": "code",
   "execution_count": 70,
   "metadata": {},
   "outputs": [
    {
     "data": {
      "text/plain": [
       "tensor([ 0.0000,  0.0000,  0.0000,  0.0000,  0.0000,  0.0000,  0.0000,  0.0000,\n",
       "         0.0000,  0.0000,  0.0000,  0.0000,  0.0000,  0.0000,  0.0000,  0.0000,\n",
       "         0.0000,  0.0000,  0.0000,  0.0000,  0.0000, -0.1011])"
      ]
     },
     "execution_count": 70,
     "metadata": {},
     "output_type": "execute_result"
    }
   ],
   "source": [
    "n_list.grad[:, 8, 0]"
   ]
  },
  {
   "cell_type": "code",
   "execution_count": 77,
   "metadata": {},
   "outputs": [
    {
     "name": "stdout",
     "output_type": "stream",
     "text": [
      "tensor([ 0.0347,  0.0886, -0.0915,  0.0535, -0.1513,  0.0258,  0.1549,  0.1202,\n",
      "        -0.0015,  0.0179, -0.1213,  0.0405,  0.0603, -0.0946, -0.0773,  0.1555,\n",
      "         0.1779, -0.1302,  0.0757, -0.0317, -0.1038, -0.1230,  0.2177,  0.1965,\n",
      "        -0.0424, -0.1286,  0.0008,  0.2023,  0.2820, -0.0202,  0.0674,  0.0943,\n",
      "        -0.1274, -0.0623,  0.0579, -0.1503, -0.1603,  0.0536, -0.0921, -0.0069,\n",
      "        -0.0569,  0.1280, -0.1668, -0.0208,  0.0899, -0.0695, -0.1413,  0.2004,\n",
      "        -0.1081,  0.0214,  0.0199,  0.2394, -0.0863,  0.0242, -0.0460, -0.0172,\n",
      "         0.0162, -0.1521,  0.0536,  0.0659, -0.1662,  0.0470,  0.1071,  0.1415,\n",
      "         0.1368, -0.0220,  0.0044,  0.2222, -0.0363, -0.2328, -0.1320,  0.3001,\n",
      "        -0.0566,  0.0811, -0.0937,  0.1088, -0.2832, -0.1416, -0.0275, -0.1034,\n",
      "        -0.0294, -0.0172, -0.0471, -0.0223,  0.0345, -0.1135,  0.0501, -0.1105,\n",
      "        -0.0334, -0.0788,  0.0594,  0.0346, -0.0571,  0.0307,  0.0017, -0.0184,\n",
      "         0.0517,  0.0671,  0.0225, -0.0684,  0.2976, -0.0628,  0.1659,  0.0116,\n",
      "         0.1028,  0.0322, -0.1408,  0.0132, -0.0984, -0.0430,  0.0672,  0.1410,\n",
      "         0.2163, -0.1959, -0.0026, -0.2085, -0.0685, -0.0356,  0.4075,  0.1444,\n",
      "        -0.0824, -0.0262,  0.0334, -0.0802, -0.1606,  0.1215, -0.1003,  0.0456])\n",
      "tensor([ 0.0000,  0.0000,  0.0000,  0.0000,  0.0000,  0.0000,  0.0000,  0.0000,\n",
      "         0.0000,  0.0000,  0.0000,  0.0000,  0.0000,  0.0000,  0.0000,  0.0000,\n",
      "         0.0000,  0.0000,  0.0000,  0.0000,  0.0000,  0.0000,  0.0000,  0.0000,\n",
      "         0.0000,  0.0000,  0.0000,  0.0000,  0.0000,  0.0000,  0.0000,  0.0000,\n",
      "         0.0000,  0.0000,  0.0000,  0.0000,  0.0000, -0.0358,  0.0000,  0.0000,\n",
      "         0.0000,  0.0000,  0.0000,  0.0000,  0.0000,  0.0000,  0.0000,  0.0000,\n",
      "         0.0000,  0.0000,  0.0000,  0.0000,  0.0000,  0.0000,  0.0000,  0.0000,\n",
      "         0.0000,  0.0000,  0.0000, -0.1283,  0.0000,  0.0000, -0.2302,  0.0481,\n",
      "         0.0000,  0.0000,  0.0000,  0.0000,  0.0000,  0.0000,  0.0000,  0.0000,\n",
      "         0.0000,  0.0000,  0.0000,  0.0000,  0.0000,  0.0000,  0.0000,  0.0000,\n",
      "         0.0000,  0.0000,  0.0000,  0.0000,  0.0000,  0.0000,  0.0000,  0.0000,\n",
      "         0.0000,  0.0000,  0.0000,  0.0000,  0.0000, -0.1751,  0.0000,  0.0000,\n",
      "         0.0000,  0.0000,  0.0000,  0.0000,  0.0000,  0.0000,  0.0000,  0.0000,\n",
      "         0.0000,  0.0000,  0.0000,  0.0000,  0.0000,  0.0000,  0.0000,  0.0000,\n",
      "         0.0000,  0.0000,  0.0000,  0.0000,  0.0000,  0.0000,  0.0000,  0.0000,\n",
      "         0.0000,  0.0000,  0.0000,  0.0000,  0.0000,  0.0000,  0.0000,  0.0000])\n"
     ]
    }
   ],
   "source": [
    "node_embedding = n_list.data[9, 8, :]\n",
    "grad = n_list.grad[9, 8, :]\n",
    "print(node_embedding)\n",
    "print(grad)"
   ]
  },
  {
   "cell_type": "markdown",
   "metadata": {},
   "source": [
    "Try and increase the loss\n",
    "\n",
    "modify $v$ to $v + \\epsilon g$\n",
    "\n",
    "ideally iterate and recompute the grad w.r.t to the updated vector representation?"
   ]
  },
  {
   "cell_type": "code",
   "execution_count": 36,
   "metadata": {},
   "outputs": [
    {
     "data": {
      "text/plain": [
       "tensor([ 0.0302,  0.1368, -0.1011,  0.0846, -0.1314,  0.0056,  0.1058,  0.1269,\n",
       "        -0.0142, -0.0988, -0.0605,  0.1836, -0.0704, -0.0806, -0.0429,  0.0659,\n",
       "         0.0237, -0.1116,  0.1922, -0.2081,  0.1181, -0.0955,  0.2122,  0.1702,\n",
       "         0.0257, -0.0490,  0.0707,  0.0936,  0.1871,  0.0778,  0.0045,  0.0736,\n",
       "        -0.0093, -0.1041,  0.1375, -0.0049, -0.2059, -0.0564, -0.0973, -0.0601,\n",
       "        -0.1288,  0.1568, -0.3319, -0.0499,  0.0546,  0.0708, -0.1905,  0.2693,\n",
       "        -0.0259,  0.0451,  0.0570,  0.1223, -0.1137, -0.0283,  0.0808, -0.1322,\n",
       "        -0.0089, -0.1548,  0.0444, -0.0808, -0.2916,  0.0683, -0.0419,  0.0194,\n",
       "         0.1148,  0.1755,  0.0055,  0.2199,  0.1135, -0.2225, -0.1643,  0.2396,\n",
       "        -0.0913,  0.0638, -0.1949,  0.0855, -0.1640, -0.1518, -0.0170, -0.1245,\n",
       "         0.0171,  0.0139, -0.0614, -0.0987,  0.0258, -0.1355,  0.0094,  0.1371,\n",
       "        -0.0080, -0.1329,  0.0013,  0.0758,  0.0649, -0.1406, -0.0011,  0.0337,\n",
       "        -0.0405,  0.1933,  0.0624, -0.0387,  0.2640, -0.1622,  0.1331,  0.0695,\n",
       "         0.0440,  0.0230, -0.1010,  0.2176,  0.0175, -0.0971,  0.0191, -0.0117,\n",
       "         0.1417, -0.1354, -0.0727, -0.0449, -0.0468,  0.0034,  0.2621,  0.1518,\n",
       "         0.0161,  0.0291, -0.0279, -0.0863, -0.2267,  0.1358, -0.0288, -0.0400])"
      ]
     },
     "execution_count": 36,
     "metadata": {},
     "output_type": "execute_result"
    }
   ],
   "source": [
    "epsilon = 0.1\n",
    "\n",
    "v = node_embedding\n",
    "\n",
    "for _ in range(1)\n",
    "    v = v + epsilon * torch.sign(grad)\n",
    "#     v = v + epsilon * grad\n",
    "\n",
    "    # move alon\n",
    "v"
   ]
  },
  {
   "cell_type": "markdown",
   "metadata": {},
   "source": [
    "Since this is a leaf node we have $v = W_{c}x + b$, where $x$ is the embedding of the symbol "
   ]
  },
  {
   "cell_type": "code",
   "execution_count": 55,
   "metadata": {},
   "outputs": [
    {
     "name": "stdout",
     "output_type": "stream",
     "text": [
      "torch.Size([128, 128])\n",
      "torch.Size([128])\n",
      "tensor([ 0.6303, -0.5178, -0.1625,  0.1747, -0.1919,  0.2895,  0.1523,  0.7827,\n",
      "        -0.5091, -0.4092, -0.0409,  0.2062,  0.0678,  0.5343,  0.1095,  0.3348,\n",
      "        -0.2136,  0.7608, -0.1703,  0.0864, -0.4096, -0.5784, -0.0188, -0.2259,\n",
      "         0.0089,  0.3411,  0.4726, -0.1831, -0.1333, -0.2231,  0.7038, -0.2064,\n",
      "         0.4930,  0.3325, -0.5646,  0.4029, -0.2338,  0.1477, -0.2037,  0.3853,\n",
      "         0.1729, -0.5227,  0.1906, -0.0351,  0.4254,  0.1627, -0.1057,  0.1044,\n",
      "         0.6816, -0.4148,  0.6526,  0.5482, -0.5135,  0.0082,  0.4656,  0.9359,\n",
      "        -0.2910, -0.5177,  0.1567,  1.5468,  0.1920,  0.6073, -0.2551, -0.8345,\n",
      "         0.5604, -0.1566,  0.1208,  0.2168,  0.3090,  0.2534, -0.0744, -0.0778,\n",
      "         0.9087, -0.2101,  0.4808,  0.0604, -0.3847, -0.0917,  0.1219,  0.1014,\n",
      "        -0.8738,  0.1599, -0.0668,  0.6682,  0.2864,  0.2491,  0.4777,  0.3955,\n",
      "         0.3614,  0.1000,  0.3271,  0.6091, -0.9353,  0.2036, -0.2507,  0.2961,\n",
      "         0.1553, -0.0590, -0.3227,  0.0355, -0.4474,  0.2705,  0.9956, -0.5779,\n",
      "        -0.3185,  1.0491,  1.5545, -0.3463, -0.3824, -0.0160,  0.2176, -0.1555,\n",
      "         0.0199, -0.0770, -0.3884, -0.1226,  0.2635,  0.3375,  0.6583, -0.8113,\n",
      "         0.7520,  0.5502,  0.5342, -0.2122,  0.2584, -0.2565, -0.1230,  0.0021],\n",
      "       grad_fn=<SqueezeBackward0>)\n"
     ]
    }
   ],
   "source": [
    "lin = model._modules['encoder']._modules[\"W_c\"]\n",
    "\n",
    "W = lin.weight\n",
    "b = lin.bias\n",
    "print(W.size())\n",
    "print(b.size())\n",
    "\n",
    "s = torch.unsqueeze(v - b, dim=1)\n",
    "\n",
    "x, _ = torch.solve(s, W)\n",
    "\n",
    "print(torch.squeeze(x))"
   ]
  },
  {
   "cell_type": "code",
   "execution_count": 62,
   "metadata": {},
   "outputs": [
    {
     "data": {
      "text/plain": [
       "([[[32, [2, [30, [40, [4]]]]],\n",
       "   [6],\n",
       "   [2, [13, [4]]],\n",
       "   [2, [22, [4]]],\n",
       "   [2, [23, [24, [4]], [92]]],\n",
       "   [2, [0, [4]]],\n",
       "   [2, [8, [4]]],\n",
       "   [11, [36], [12, [156], [29, [13]], [29, [22]]]],\n",
       "   [16, [3, [0], [5]], [20, [0], [13]], [14, [0]]],\n",
       "   [11, [36], [12, [46], [29, [1, [24], [0]]]]],\n",
       "   [16, [3, [0], [5]], [20, [0], [13]], [14, [0]]],\n",
       "   [6],\n",
       "   [16, [3, [8], [17, [0], [10]]], [20, [8], [13]], [14, [8]]],\n",
       "   [15, [19, [17, [1, [24], [0]], [1, [24], [8]]], [22]]],\n",
       "   [52],\n",
       "   [15, [44, [8], [13]]],\n",
       "   [52],\n",
       "   [7],\n",
       "   [15, [19, [0], [13]]],\n",
       "   [11, [25], [12, [196]]],\n",
       "   [11, [25], [12, [279]]],\n",
       "   [39, [5]],\n",
       "   [7]]],\n",
       " tensor([2]))"
      ]
     },
     "execution_count": 62,
     "metadata": {},
     "output_type": "execute_result"
    }
   ],
   "source": [
    "def get_batch(dataset, idx, bs):\n",
    "    tmp = dataset.iloc[idx: idx+bs]\n",
    "    data, labels = [], []\n",
    "    for _, item in tmp.iterrows():\n",
    "        data.append(item[1])\n",
    "        labels.append(item[2]-1)\n",
    "    return data, torch.LongTensor(labels)\n",
    "\n",
    "get_batch(block_data, 0, 1)"
   ]
  },
  {
   "cell_type": "code",
   "execution_count": 63,
   "metadata": {},
   "outputs": [
    {
     "name": "stdout",
     "output_type": "stream",
     "text": [
      "[32, [2, [30, [40, [4]]]]]\n",
      "[6]\n",
      "[2, [9, [4]]]\n",
      "[2, [970, [4]]]\n",
      "[2, [1605, [4]]]\n",
      "[2, [1639, [4]]]\n",
      "[2, [722, [4]]]\n",
      "[2, [1539, [4]]]\n",
      "[2, [814, [4]]]\n",
      "[59, [62], [9]]\n",
      "[3, [970], [57, [9], [49]]]\n",
      "[3, [9], [53, [9], [49]]]\n",
      "[3, [1605], [57, [9], [127]]]\n",
      "[3, [9], [53, [9], [127]]]\n",
      "[3, [1639], [57, [9], [131]]]\n",
      "[3, [9], [53, [9], [131]]]\n",
      "[3, [722], [57, [9], [60]]]\n",
      "[3, [9], [53, [9], [60]]]\n",
      "[3, [1539], [57, [9], [67]]]\n",
      "[3, [9], [53, [9], [67]]]\n",
      "[3, [814], [9]]\n",
      "[28, [28, [51], [970]], [72]]\n",
      "[28, [28, [51], [1605]], [72]]\n",
      "[28, [28, [51], [1639]], [72]]\n",
      "[28, [28, [51], [722]], [72]]\n",
      "[28, [28, [51], [1539]], [72]]\n",
      "[28, [28, [51], [814]], [72]]\n",
      "[39, [5]]\n",
      "[7]\n"
     ]
    }
   ],
   "source": [
    "x = block_data['code'][0]\n",
    "for i in x:\n",
    "    print(i)\n",
    "    \n",
    "x = [x]"
   ]
  },
  {
   "cell_type": "code",
   "execution_count": 64,
   "metadata": {},
   "outputs": [
    {
     "data": {
      "text/plain": [
       "29"
      ]
     },
     "execution_count": 64,
     "metadata": {},
     "output_type": "execute_result"
    }
   ],
   "source": [
    "lens = [len(item) for item in x]\n",
    "sum(lens)"
   ]
  },
  {
   "cell_type": "code",
   "execution_count": 65,
   "metadata": {},
   "outputs": [
    {
     "data": {
      "text/plain": [
       "[[32, [2, [30, [40, [4]]]]],\n",
       " [6],\n",
       " [2, [9, [4]]],\n",
       " [2, [970, [4]]],\n",
       " [2, [1605, [4]]],\n",
       " [2, [1639, [4]]],\n",
       " [2, [722, [4]]],\n",
       " [2, [1539, [4]]],\n",
       " [2, [814, [4]]],\n",
       " [59, [62], [9]],\n",
       " [3, [970], [57, [9], [49]]],\n",
       " [3, [9], [53, [9], [49]]],\n",
       " [3, [1605], [57, [9], [127]]],\n",
       " [3, [9], [53, [9], [127]]],\n",
       " [3, [1639], [57, [9], [131]]],\n",
       " [3, [9], [53, [9], [131]]],\n",
       " [3, [722], [57, [9], [60]]],\n",
       " [3, [9], [53, [9], [60]]],\n",
       " [3, [1539], [57, [9], [67]]],\n",
       " [3, [9], [53, [9], [67]]],\n",
       " [3, [814], [9]],\n",
       " [28, [28, [51], [970]], [72]],\n",
       " [28, [28, [51], [1605]], [72]],\n",
       " [28, [28, [51], [1639]], [72]],\n",
       " [28, [28, [51], [722]], [72]],\n",
       " [28, [28, [51], [1539]], [72]],\n",
       " [28, [28, [51], [814]], [72]],\n",
       " [39, [5]],\n",
       " [7]]"
      ]
     },
     "execution_count": 65,
     "metadata": {},
     "output_type": "execute_result"
    }
   ],
   "source": [
    "encodes = []\n",
    "for i in range(1):\n",
    "    for j in range(lens[i]):\n",
    "        encodes.append(x[i][j])\n",
    "encodes"
   ]
  },
  {
   "cell_type": "code",
   "execution_count": 66,
   "metadata": {},
   "outputs": [
    {
     "name": "stderr",
     "output_type": "stream",
     "text": [
      "<>:15: SyntaxWarning: \"is not\" with a literal. Did you mean \"!=\"?\n",
      "<>:21: SyntaxWarning: \"is not\" with a literal. Did you mean \"!=\"?\n",
      "<>:15: SyntaxWarning: \"is not\" with a literal. Did you mean \"!=\"?\n",
      "<>:21: SyntaxWarning: \"is not\" with a literal. Did you mean \"!=\"?\n",
      "<ipython-input-66-35f490533837>:15: SyntaxWarning: \"is not\" with a literal. Did you mean \"!=\"?\n",
      "  if node[i][0] is not -1:\n",
      "<ipython-input-66-35f490533837>:21: SyntaxWarning: \"is not\" with a literal. Did you mean \"!=\"?\n",
      "  if temp[j][0] is not -1:\n"
     ]
    }
   ],
   "source": [
    "W_c = nn.Linear(1, 1)\n",
    "embedding = nn.Embedding(8188, 1)\n",
    "\n",
    "node = encodes\n",
    "batch_index = list(range(1))\n",
    "\n",
    "size = len(node)\n",
    "# if not size:\n",
    "#     return None\n",
    "batch_current = Variable(torch.zeros(size, 1))\n",
    "\n",
    "index, children_index = [], []\n",
    "current_node, children = [], []\n",
    "for i in range(size):\n",
    "    if node[i][0] is not -1:\n",
    "        index.append(i)\n",
    "        current_node.append(node[i][0])\n",
    "        temp = node[i][1:]\n",
    "        c_num = len(temp)\n",
    "        for j in range(c_num):\n",
    "            if temp[j][0] is not -1:\n",
    "                if len(children_index) <= j:\n",
    "                    children_index.append([i])\n",
    "                    children.append([temp[j]])\n",
    "                else:\n",
    "                    children_index[j].append(i)\n",
    "                    children[j].append(temp[j])\n",
    "    else:\n",
    "        batch_index[i] = -1\n",
    "\n",
    "embedding = Variable(embedding(Variable(torch.LongTensor(current_node))), requires_grad=True)\n",
    "#     embedding_list.append(embedding)\n",
    "batch_current = W_c(batch_current.index_copy(0, Variable(torch.LongTensor(index)),\n",
    "                                                          embedding))\n"
   ]
  },
  {
   "cell_type": "code",
   "execution_count": 58,
   "metadata": {},
   "outputs": [
    {
     "ename": "NameError",
     "evalue": "name 'batch_current' is not defined",
     "output_type": "error",
     "traceback": [
      "\u001b[0;31m---------------------------------------------------------------------------\u001b[0m",
      "\u001b[0;31mNameError\u001b[0m                                 Traceback (most recent call last)",
      "\u001b[0;32m<ipython-input-58-9432bd2efb00>\u001b[0m in \u001b[0;36m<module>\u001b[0;34m\u001b[0m\n\u001b[0;32m----> 1\u001b[0;31m \u001b[0mbatch_current\u001b[0m\u001b[0;34m.\u001b[0m\u001b[0msize\u001b[0m\u001b[0;34m(\u001b[0m\u001b[0;34m)\u001b[0m\u001b[0;34m\u001b[0m\u001b[0;34m\u001b[0m\u001b[0m\n\u001b[0m\u001b[1;32m      2\u001b[0m \u001b[0mbatch_index\u001b[0m\u001b[0;34m\u001b[0m\u001b[0;34m\u001b[0m\u001b[0m\n\u001b[1;32m      3\u001b[0m \u001b[0mcurrent_node\u001b[0m\u001b[0;34m\u001b[0m\u001b[0;34m\u001b[0m\u001b[0m\n\u001b[1;32m      4\u001b[0m \u001b[0mbatch_current\u001b[0m\u001b[0;34m.\u001b[0m\u001b[0msize\u001b[0m\u001b[0;34m(\u001b[0m\u001b[0;34m)\u001b[0m\u001b[0;34m\u001b[0m\u001b[0;34m\u001b[0m\u001b[0m\n\u001b[1;32m      5\u001b[0m \u001b[0membedding\u001b[0m\u001b[0;34m.\u001b[0m\u001b[0msize\u001b[0m\u001b[0;34m(\u001b[0m\u001b[0;34m)\u001b[0m\u001b[0;34m\u001b[0m\u001b[0;34m\u001b[0m\u001b[0m\n",
      "\u001b[0;31mNameError\u001b[0m: name 'batch_current' is not defined"
     ]
    }
   ],
   "source": [
    "batch_current.size()\n",
    "batch_index\n",
    "current_node\n",
    "batch_current.size()\n",
    "embedding.size()\n",
    "children\n",
    "current_node\n",
    "# index\n",
    "children_index\n",
    "# batch_current.size()\n",
    "# index\n",
    "# size\n",
    "batch_current.size()"
   ]
  },
  {
   "cell_type": "code",
   "execution_count": null,
   "metadata": {},
   "outputs": [],
   "source": [
    "encoder = nn.Enco\n",
    "encodes = self.encoder(encodes, sum(lens))"
   ]
  },
  {
   "cell_type": "code",
   "execution_count": 64,
   "metadata": {},
   "outputs": [
    {
     "data": {
      "text/plain": [
       "torch.Size([29, 128])"
      ]
     },
     "execution_count": 64,
     "metadata": {},
     "output_type": "execute_result"
    }
   ],
   "source": [
    "encoder = model._modules['encoder']\n",
    "encoder(test_data['code'][0], len(test_data['code'][0])).size()"
   ]
  },
  {
   "cell_type": "code",
   "execution_count": 65,
   "metadata": {},
   "outputs": [
    {
     "data": {
      "text/plain": [
       "tensor([[-2.1160, -4.0532, -5.3498, -4.3417, -2.3925, -3.2437, -3.5862, -3.2405,\n",
       "         -4.0961, -5.5305, -0.2093, -4.2795, -5.1567, -2.3297, -3.4347,  1.7226,\n",
       "         -2.8605, -4.7592, -2.6940, -3.7294, -3.3110, -4.6945, -3.1941, -3.8484,\n",
       "         -1.2700, -3.3939,  0.9610, -5.4608, -3.6249, -0.1122, -0.8508, -2.1690,\n",
       "         -6.0694,  0.3499, -6.0141, -2.9154, -4.0068, -2.7604, -2.2291, -1.0591,\n",
       "         -0.1862, -4.2352, -1.8896,  0.5438, -4.7255, -3.2627, -3.1841, -3.4300,\n",
       "         -3.6461, -0.9072, -5.1091, -3.1465, -5.9079, -2.4846, -0.7009,  0.6377,\n",
       "         -3.0920, -1.5940, -4.1964, -2.9748, -3.9558, -2.4917, -3.6785, -2.4936,\n",
       "         -1.8887,  1.0951, -0.4427, -1.7632, -0.4246, -3.5319, -0.2538, -3.9449,\n",
       "         -4.0243, -0.7819, -3.4814, -4.5750, -1.6980,  1.2065, -4.1963,  0.4489,\n",
       "         -3.6275, -4.7800, -0.9686, -4.4536, -2.9647, -1.9876, -1.6372,  0.0257,\n",
       "         -2.0950, -2.7313, -1.0499, -2.8178,  0.0079, -5.6778, -1.5756,  0.6463,\n",
       "          2.3529, -1.9307,  0.1762, -3.5718,  0.7711, -2.6579, -3.4707, -1.5428]],\n",
       "       grad_fn=<AddmmBackward>)"
      ]
     },
     "execution_count": 65,
     "metadata": {},
     "output_type": "execute_result"
    }
   ],
   "source": [
    "model([test_data['code'][0]])"
   ]
  },
  {
   "cell_type": "code",
   "execution_count": 93,
   "metadata": {},
   "outputs": [
    {
     "name": "stdout",
     "output_type": "stream",
     "text": [
      "torch.Size([9, 29, 128])\n",
      "tensor([ 0.0000,  0.0000,  0.0000,  0.0000,  0.0000,  0.0000, -0.0525,  0.0000,\n",
      "         0.0000,  0.0000,  0.0000,  0.0000,  0.0000,  0.0000,  0.0000,  0.0000,\n",
      "         0.0000,  0.0000,  0.0000,  0.0000,  0.0000, -0.0421,  0.0000,  0.0000,\n",
      "         0.0000,  0.0000,  0.0000,  0.0000,  0.0000,  0.0000,  0.0000,  0.0000,\n",
      "         0.0000,  0.0000,  0.0000, -0.0028,  0.0000,  0.0000,  0.0000,  0.0000,\n",
      "         0.0000,  0.0000,  0.0000,  0.0000,  0.0000,  0.0000,  0.0000, -0.0605,\n",
      "         0.0000,  0.0000,  0.0000,  0.0000,  0.0000,  0.0000,  0.0000, -0.0030,\n",
      "         0.0000,  0.0000,  0.0000,  0.0000,  0.0000, -0.0069,  0.0000,  0.0000,\n",
      "         0.0000,  0.0000,  0.0000,  0.0000,  0.0000,  0.0000,  0.0000,  0.0000,\n",
      "         0.0000,  0.0000,  0.0000,  0.0000,  0.0000,  0.0000,  0.0000,  0.0000,\n",
      "         0.0000,  0.0000,  0.0000,  0.0000,  0.0000,  0.0000,  0.0000,  0.0000,\n",
      "         0.0000,  0.0000,  0.0000,  0.0000,  0.0000,  0.0000,  0.0248,  0.0000,\n",
      "         0.0000,  0.0000, -0.0860,  0.0000,  0.0000,  0.0000,  0.0000,  0.0000,\n",
      "         0.0000,  0.0000,  0.0000,  0.0000,  0.0000,  0.0000,  0.0000,  0.0000,\n",
      "         0.0000,  0.0000,  0.0000,  0.0000,  0.0000,  0.0298,  0.0000,  0.0000,\n",
      "        -0.0119,  0.0000,  0.0000,  0.0000,  0.0000,  0.0000,  0.0000,  0.0000])\n",
      "tensor([ 0.0000,  0.0000,  0.0000,  0.0000,  0.0000,  0.0000,  0.0000,  0.0000,\n",
      "         0.0000,  0.0000,  0.0000,  0.0000,  0.0000,  0.0000,  0.0000,  0.0000,\n",
      "         0.0000,  0.0000,  0.0000,  0.0000,  0.0000,  0.0000,  0.0000,  0.0000,\n",
      "         0.0000,  0.0000,  0.0000,  0.0000,  0.0000,  0.0000,  0.0000,  0.0000,\n",
      "         0.0000,  0.0000,  0.0000,  0.0000,  0.0000,  0.0000,  0.0000,  0.0000,\n",
      "        -0.0146,  0.0000,  0.0000,  0.0000,  0.0000,  0.0000,  0.0000,  0.0000,\n",
      "         0.0000, -0.0139,  0.0000,  0.0000,  0.0065,  0.0000,  0.0000,  0.0000,\n",
      "         0.0000,  0.0000,  0.0000,  0.0000,  0.0000,  0.0000,  0.0000,  0.0000,\n",
      "         0.0000,  0.0000,  0.0000,  0.0000,  0.0000,  0.0000,  0.0000,  0.0000,\n",
      "         0.0000,  0.0000,  0.0000,  0.0000,  0.0000,  0.0000,  0.0000,  0.0000,\n",
      "         0.0000,  0.0000, -0.0253,  0.0000,  0.0000,  0.0000,  0.0000,  0.0000,\n",
      "         0.0000,  0.0000,  0.0456,  0.0000,  0.0000,  0.0000,  0.0000,  0.0000,\n",
      "         0.0000,  0.0000,  0.0000,  0.0000,  0.0000, -0.0771,  0.0000,  0.0000,\n",
      "         0.0000,  0.0000,  0.0000,  0.0000,  0.0000,  0.0000,  0.0000,  0.0000,\n",
      "         0.0000,  0.0000,  0.0000,  0.0000,  0.0000,  0.0000, -0.0991,  0.0000,\n",
      "         0.0000,  0.0000,  0.0000,  0.0000,  0.0000, -0.0182,  0.0000,  0.0000])\n",
      "tensor([ 0.0000, -0.0044,  0.0000,  0.0000,  0.0000,  0.0000,  0.0000,  0.0000,\n",
      "         0.0000,  0.0000,  0.0000,  0.0000,  0.0000,  0.0000,  0.0000,  0.0000,\n",
      "         0.0000,  0.0000,  0.0000,  0.0000,  0.0000,  0.0000,  0.0000,  0.0000,\n",
      "         0.0000,  0.0000,  0.0000,  0.0000,  0.0000,  0.0000,  0.0000,  0.0000,\n",
      "         0.0000,  0.0000,  0.0000,  0.0000, -0.0979,  0.0000,  0.0000, -0.0564,\n",
      "         0.0000,  0.0000,  0.0000,  0.0000,  0.0000,  0.0000,  0.0000,  0.0000,\n",
      "         0.0000,  0.0000,  0.0000,  0.0000,  0.0000,  0.0000,  0.0000,  0.0000,\n",
      "         0.0000,  0.0000,  0.0000,  0.0000,  0.0000,  0.0000,  0.0000,  0.0000,\n",
      "         0.0000,  0.0000,  0.0000,  0.0000,  0.0000,  0.0000,  0.0000,  0.0000,\n",
      "         0.0000,  0.0000, -0.0080,  0.0000,  0.0000,  0.0000,  0.0000,  0.0000,\n",
      "         0.0000,  0.0000,  0.0000,  0.0000,  0.0000,  0.0000,  0.0000,  0.0000,\n",
      "         0.0000,  0.0000,  0.0000,  0.0000,  0.0000,  0.0000,  0.0000,  0.0000,\n",
      "        -0.0244,  0.0000,  0.0000,  0.0000,  0.0000,  0.0000,  0.0000,  0.0000,\n",
      "         0.0000,  0.0000,  0.0000,  0.0000,  0.0000,  0.0000,  0.0000,  0.0000,\n",
      "         0.0000,  0.0000,  0.0000,  0.0000,  0.0000,  0.0000,  0.0000,  0.0000,\n",
      "         0.0000,  0.0000,  0.0000,  0.0000,  0.0000,  0.0000,  0.0000,  0.0000])\n",
      "tensor([ 0.0000,  0.0000,  0.0000,  0.0000,  0.0000,  0.0000,  0.0000, -0.0201,\n",
      "         0.0000, -0.1139,  0.0475,  0.0000,  0.0000, -0.0631,  0.0161,  0.0000,\n",
      "        -0.0858,  0.0000, -0.0412,  0.0000,  0.0000,  0.0000,  0.0000,  0.0000,\n",
      "        -0.0219,  0.0000,  0.0417, -0.0313, -0.0436, -0.0679, -0.0775, -0.0116,\n",
      "         0.0000, -0.0038, -0.0904,  0.0000,  0.0000,  0.0000, -0.0032,  0.0000,\n",
      "         0.0000, -0.0528,  0.0000,  0.0000, -0.0541,  0.0000, -0.0224,  0.0000,\n",
      "         0.0134,  0.0000, -0.0629, -0.1630,  0.0000,  0.0000,  0.0000,  0.0000,\n",
      "        -0.0126,  0.0000,  0.0000,  0.0000,  0.0000,  0.0000,  0.0000,  0.0000,\n",
      "         0.0585,  0.0000,  0.0500,  0.1285,  0.0000, -0.1014,  0.0000,  0.0000,\n",
      "         0.0000,  0.0000,  0.0000,  0.0000,  0.0000, -0.0298,  0.0000,  0.0925,\n",
      "         0.0000,  0.0075,  0.0000,  0.0000,  0.0240,  0.0000,  0.0683, -0.1680,\n",
      "        -0.0458,  0.0000,  0.0000,  0.0000,  0.0942,  0.0000,  0.0000,  0.0143,\n",
      "         0.0000, -0.0785,  0.0000,  0.0000,  0.0989,  0.0000,  0.0000, -0.0683,\n",
      "        -0.0011, -0.0255,  0.0000,  0.0000, -0.0586,  0.0000, -0.0219,  0.0003,\n",
      "         0.0000,  0.0000, -0.0427, -0.0246,  0.0000,  0.0000,  0.0000,  0.0000,\n",
      "         0.0000, -0.0305, -0.0839,  0.0000, -0.0961,  0.0000,  0.0666,  0.0182])\n",
      "tensor([ 0.0000,  0.0000, -0.0072,  0.0000,  0.0000, -0.0513,  0.0000,  0.0000,\n",
      "         0.0000,  0.0000,  0.0000,  0.0000,  0.0000,  0.0000,  0.0000,  0.0000,\n",
      "         0.0000,  0.0000,  0.0000,  0.0000,  0.0000,  0.0000,  0.0000, -0.0279,\n",
      "         0.0000,  0.0000,  0.0000,  0.0000,  0.0000,  0.0000,  0.0000,  0.0000,\n",
      "         0.0000,  0.0000,  0.0000,  0.0000,  0.0000,  0.0000,  0.0000,  0.0000,\n",
      "         0.0000,  0.0000,  0.0000, -0.0560,  0.0000,  0.1064,  0.0000,  0.0000,\n",
      "         0.0000,  0.0000,  0.0000,  0.0000,  0.0000,  0.0026,  0.0000,  0.0000,\n",
      "         0.0000,  0.0000,  0.0000,  0.0000,  0.0000,  0.0000,  0.0000,  0.0000,\n",
      "         0.0000,  0.0000,  0.0000,  0.0000, -0.1247,  0.0000, -0.0202,  0.0000,\n",
      "         0.0000,  0.0000,  0.0000,  0.0000,  0.0000,  0.0000,  0.0000,  0.0000,\n",
      "         0.0000,  0.0000,  0.0000,  0.0000,  0.0000,  0.0000,  0.0000,  0.0000,\n",
      "         0.0000,  0.0000,  0.0000, -0.0120,  0.0000,  0.0000,  0.0000,  0.0000,\n",
      "         0.0000,  0.0000,  0.0000,  0.0000,  0.0000,  0.0000,  0.0000,  0.0000,\n",
      "         0.0000,  0.0000,  0.0000, -0.0054,  0.0000,  0.0000,  0.0000,  0.0000,\n",
      "         0.0000,  0.0000,  0.0000,  0.0000,  0.0000,  0.0000,  0.0000,  0.0000,\n",
      "         0.0000,  0.0000,  0.0000,  0.0000,  0.0000,  0.0000,  0.0000,  0.0000])\n",
      "tensor([0., 0., 0., 0., 0., 0., 0., 0., 0., 0., 0., 0., 0., 0., 0., 0., 0., 0., 0., 0., 0., 0., 0., 0.,\n",
      "        0., 0., 0., 0., 0., 0., 0., 0., 0., 0., 0., 0., 0., 0., 0., 0., 0., 0., 0., 0., 0., 0., 0., 0.,\n",
      "        0., 0., 0., 0., 0., 0., 0., 0., 0., 0., 0., 0., 0., 0., 0., 0., 0., 0., 0., 0., 0., 0., 0., 0.,\n",
      "        0., 0., 0., 0., 0., 0., 0., 0., 0., 0., 0., 0., 0., 0., 0., 0., 0., 0., 0., 0., 0., 0., 0., 0.,\n",
      "        0., 0., 0., 0., 0., 0., 0., 0., 0., 0., 0., 0., 0., 0., 0., 0., 0., 0., 0., 0., 0., 0., 0., 0.,\n",
      "        0., 0., 0., 0., 0., 0., 0., 0.])\n",
      "tensor([0., 0., 0., 0., 0., 0., 0., 0., 0., 0., 0., 0., 0., 0., 0., 0., 0., 0., 0., 0., 0., 0., 0., 0.,\n",
      "        0., 0., 0., 0., 0., 0., 0., 0., 0., 0., 0., 0., 0., 0., 0., 0., 0., 0., 0., 0., 0., 0., 0., 0.,\n",
      "        0., 0., 0., 0., 0., 0., 0., 0., 0., 0., 0., 0., 0., 0., 0., 0., 0., 0., 0., 0., 0., 0., 0., 0.,\n",
      "        0., 0., 0., 0., 0., 0., 0., 0., 0., 0., 0., 0., 0., 0., 0., 0., 0., 0., 0., 0., 0., 0., 0., 0.,\n",
      "        0., 0., 0., 0., 0., 0., 0., 0., 0., 0., 0., 0., 0., 0., 0., 0., 0., 0., 0., 0., 0., 0., 0., 0.,\n",
      "        0., 0., 0., 0., 0., 0., 0., 0.])\n",
      "tensor([0., 0., 0., 0., 0., 0., 0., 0., 0., 0., 0., 0., 0., 0., 0., 0., 0., 0., 0., 0., 0., 0., 0., 0.,\n",
      "        0., 0., 0., 0., 0., 0., 0., 0., 0., 0., 0., 0., 0., 0., 0., 0., 0., 0., 0., 0., 0., 0., 0., 0.,\n",
      "        0., 0., 0., 0., 0., 0., 0., 0., 0., 0., 0., 0., 0., 0., 0., 0., 0., 0., 0., 0., 0., 0., 0., 0.,\n",
      "        0., 0., 0., 0., 0., 0., 0., 0., 0., 0., 0., 0., 0., 0., 0., 0., 0., 0., 0., 0., 0., 0., 0., 0.,\n",
      "        0., 0., 0., 0., 0., 0., 0., 0., 0., 0., 0., 0., 0., 0., 0., 0., 0., 0., 0., 0., 0., 0., 0., 0.,\n",
      "        0., 0., 0., 0., 0., 0., 0., 0.])\n",
      "tensor([ 0.0109,  0.0000,  0.0000,  0.0154, -0.0097,  0.0000,  0.0000,  0.0000,\n",
      "        -0.0595,  0.0000,  0.0000, -0.0333,  0.1334,  0.0000,  0.0000, -0.0696,\n",
      "         0.0000,  0.0257,  0.0000,  0.0269,  0.0133,  0.0000, -0.0481,  0.0000,\n",
      "         0.0000, -0.0045,  0.0000,  0.0000,  0.0000,  0.0000,  0.0000,  0.0000,\n",
      "         0.0480,  0.0000,  0.0000,  0.0000,  0.0000,  0.0462,  0.0000,  0.0000,\n",
      "         0.0000,  0.0000, -0.0749,  0.0000,  0.0000,  0.0000,  0.0000,  0.0000,\n",
      "         0.0000,  0.0000,  0.0000,  0.0000,  0.0000,  0.0000, -0.0344,  0.0000,\n",
      "         0.0000,  0.0231,  0.0502, -0.0683, -0.0448,  0.0000,  0.0338, -0.0027,\n",
      "         0.0000,  0.0557,  0.0000,  0.0000,  0.0000,  0.0000,  0.0000,  0.0225,\n",
      "        -0.0395, -0.1169,  0.0000, -0.0539,  0.0412,  0.0000,  0.0195,  0.0000,\n",
      "        -0.1277,  0.0000,  0.0000,  0.0458,  0.0000,  0.0299,  0.0000,  0.0000,\n",
      "         0.0000, -0.0258,  0.0000,  0.0000,  0.0000,  0.1173,  0.0000,  0.0000,\n",
      "         0.0000,  0.0000,  0.0000, -0.0561,  0.0000,  0.0000,  0.0649,  0.0000,\n",
      "         0.0000,  0.0000,  0.0295,  0.0000,  0.0000, -0.0134,  0.0000,  0.0000,\n",
      "        -0.0171, -0.0605,  0.0000,  0.0000, -0.0449,  0.0000,  0.0000, -0.1002,\n",
      "         0.0000,  0.0000,  0.0000, -0.0259,  0.0000,  0.0000,  0.0000,  0.0000])\n"
     ]
    }
   ],
   "source": [
    "print(encoder.node_list.grad.size())\n",
    "\n",
    "node_list = encoder.node_list.grad[:, 0, :]\n",
    "for i in range(node_list.size(0)):\n",
    "    print(node_list[i])"
   ]
  },
  {
   "cell_type": "code",
   "execution_count": 75,
   "metadata": {},
   "outputs": [
    {
     "data": {
      "text/plain": [
       "[32, [2, [30, [40, [4]]]]]"
      ]
     },
     "execution_count": 75,
     "metadata": {},
     "output_type": "execute_result"
    }
   ],
   "source": [
    "encodes[0]"
   ]
  },
  {
   "cell_type": "markdown",
   "metadata": {},
   "source": [
    "## See how the AST gets represented"
   ]
  },
  {
   "cell_type": "code",
   "execution_count": 7,
   "metadata": {},
   "outputs": [],
   "source": [
    "train_df = pd.read_pickle('/home/david/projects/university/astnn/data/train/train_.pkl')"
   ]
  },
  {
   "cell_type": "code",
   "execution_count": 8,
   "metadata": {},
   "outputs": [
    {
     "data": {
      "text/html": [
       "<div>\n",
       "<style scoped>\n",
       "    .dataframe tbody tr th:only-of-type {\n",
       "        vertical-align: middle;\n",
       "    }\n",
       "\n",
       "    .dataframe tbody tr th {\n",
       "        vertical-align: top;\n",
       "    }\n",
       "\n",
       "    .dataframe thead th {\n",
       "        text-align: right;\n",
       "    }\n",
       "</style>\n",
       "<table border=\"1\" class=\"dataframe\">\n",
       "  <thead>\n",
       "    <tr style=\"text-align: right;\">\n",
       "      <th></th>\n",
       "      <th>id</th>\n",
       "      <th>code</th>\n",
       "      <th>label</th>\n",
       "    </tr>\n",
       "  </thead>\n",
       "  <tbody>\n",
       "    <tr>\n",
       "      <th>46887</th>\n",
       "      <td>46887</td>\n",
       "      <td>FileAST(ext=[FuncDef(decl=Decl(name='main',\\n ...</td>\n",
       "      <td>93</td>\n",
       "    </tr>\n",
       "    <tr>\n",
       "      <th>4970</th>\n",
       "      <td>4970</td>\n",
       "      <td>FileAST(ext=[FuncDef(decl=Decl(name='main',\\n ...</td>\n",
       "      <td>42</td>\n",
       "    </tr>\n",
       "    <tr>\n",
       "      <th>50521</th>\n",
       "      <td>50521</td>\n",
       "      <td>FileAST(ext=[Decl(name='i',\\n                 ...</td>\n",
       "      <td>77</td>\n",
       "    </tr>\n",
       "    <tr>\n",
       "      <th>38406</th>\n",
       "      <td>38406</td>\n",
       "      <td>FileAST(ext=[FuncDef(decl=Decl(name='main',\\n ...</td>\n",
       "      <td>63</td>\n",
       "    </tr>\n",
       "    <tr>\n",
       "      <th>44230</th>\n",
       "      <td>44230</td>\n",
       "      <td>FileAST(ext=[Decl(name='DiJiTian',\\n          ...</td>\n",
       "      <td>80</td>\n",
       "    </tr>\n",
       "  </tbody>\n",
       "</table>\n",
       "</div>"
      ],
      "text/plain": [
       "          id                                               code  label\n",
       "46887  46887  FileAST(ext=[FuncDef(decl=Decl(name='main',\\n ...     93\n",
       "4970    4970  FileAST(ext=[FuncDef(decl=Decl(name='main',\\n ...     42\n",
       "50521  50521  FileAST(ext=[Decl(name='i',\\n                 ...     77\n",
       "38406  38406  FileAST(ext=[FuncDef(decl=Decl(name='main',\\n ...     63\n",
       "44230  44230  FileAST(ext=[Decl(name='DiJiTian',\\n          ...     80"
      ]
     },
     "execution_count": 8,
     "metadata": {},
     "output_type": "execute_result"
    }
   ],
   "source": [
    "train_df.head()"
   ]
  },
  {
   "cell_type": "code",
   "execution_count": 9,
   "metadata": {},
   "outputs": [
    {
     "name": "stderr",
     "output_type": "stream",
     "text": [
      "<ipython-input-9-0b0acc54e42b>:3: DeprecationWarning: Call to deprecated `syn0` (Attribute will be removed in 4.0.0, use self.vectors instead).\n",
      "  max_token = word2vec.syn0.shape[0]\n"
     ]
    }
   ],
   "source": [
    "word2vec = Word2Vec.load('/home/david/projects/university/astnn/data/train/embedding/node_w2v_128').wv\n",
    "vocab = word2vec.vocab\n",
    "max_token = word2vec.syn0.shape[0]"
   ]
  },
  {
   "cell_type": "code",
   "execution_count": 15,
   "metadata": {},
   "outputs": [
    {
     "data": {
      "text/plain": [
       "8188"
      ]
     },
     "execution_count": 15,
     "metadata": {},
     "output_type": "execute_result"
    }
   ],
   "source": [
    "max_token"
   ]
  },
  {
   "cell_type": "markdown",
   "metadata": {},
   "source": [
    "### Test on an AST"
   ]
  },
  {
   "cell_type": "code",
   "execution_count": 25,
   "metadata": {},
   "outputs": [
    {
     "name": "stdout",
     "output_type": "stream",
     "text": [
      "FileAST(ext=[FuncDef(decl=Decl(name='main',\n",
      "                               quals=[\n",
      "                                     ],\n",
      "                               storage=[\n",
      "                                       ],\n",
      "                               funcspec=[\n",
      "                                        ],\n",
      "                               type=FuncDecl(args=None,\n",
      "                                             type=TypeDecl(declname='main',\n",
      "                                                           quals=[\n",
      "                                                                 ],\n",
      "                                                           type=IdentifierType(names=['void'\n",
      "                                                                                     ]\n",
      "                                                                               )\n",
      "                                                           )\n",
      "                                             ),\n",
      "                               init=None,\n",
      "                               bitsize=None\n",
      "                               ),\n",
      "                     param_decls=None,\n",
      "                     body=Compound(block_items=[Decl(name='a',\n",
      "                                                     quals=[\n",
      "                                                           ],\n",
      "                                                     storage=[\n",
      "                                                             ],\n",
      "                                                     funcspec=[\n",
      "                                                              ],\n",
      "                                                     type=TypeDecl(declname='a',\n",
      "                                                                   quals=[\n",
      "                                                                         ],\n",
      "                                                                   type=IdentifierType(names=['int'\n",
      "                                                                                             ]\n",
      "                                                                                       )\n",
      "                                                                   ),\n",
      "                                                     init=None,\n",
      "                                                     bitsize=None\n",
      "                                                     ),\n",
      "                                                Decl(name='i3',\n",
      "                                                     quals=[\n",
      "                                                           ],\n",
      "                                                     storage=[\n",
      "                                                             ],\n",
      "                                                     funcspec=[\n",
      "                                                              ],\n",
      "                                                     type=TypeDecl(declname='i3',\n",
      "                                                                   quals=[\n",
      "                                                                         ],\n",
      "                                                                   type=IdentifierType(names=['int'\n",
      "                                                                                             ]\n",
      "                                                                                       )\n",
      "                                                                   ),\n",
      "                                                     init=None,\n",
      "                                                     bitsize=None\n",
      "                                                     ),\n",
      "                                                Decl(name='i5',\n",
      "                                                     quals=[\n",
      "                                                           ],\n",
      "                                                     storage=[\n",
      "                                                             ],\n",
      "                                                     funcspec=[\n",
      "                                                              ],\n",
      "                                                     type=TypeDecl(declname='i5',\n",
      "                                                                   quals=[\n",
      "                                                                         ],\n",
      "                                                                   type=IdentifierType(names=['int'\n",
      "                                                                                             ]\n",
      "                                                                                       )\n",
      "                                                                   ),\n",
      "                                                     init=None,\n",
      "                                                     bitsize=None\n",
      "                                                     ),\n",
      "                                                Decl(name='i7',\n",
      "                                                     quals=[\n",
      "                                                           ],\n",
      "                                                     storage=[\n",
      "                                                             ],\n",
      "                                                     funcspec=[\n",
      "                                                              ],\n",
      "                                                     type=TypeDecl(declname='i7',\n",
      "                                                                   quals=[\n",
      "                                                                         ],\n",
      "                                                                   type=IdentifierType(names=['int'\n",
      "                                                                                             ]\n",
      "                                                                                       )\n",
      "                                                                   ),\n",
      "                                                     init=None,\n",
      "                                                     bitsize=None\n",
      "                                                     ),\n",
      "                                                FuncCall(name=ID(name='scanf'\n",
      "                                                                 ),\n",
      "                                                         args=ExprList(exprs=[Constant(type='string',\n",
      "                                                                                       value='\"%d\"'\n",
      "                                                                                       ),\n",
      "                                                                              UnaryOp(op='&',\n",
      "                                                                                      expr=ID(name='a'\n",
      "                                                                                              )\n",
      "                                                                                      )\n",
      "                                                                             ]\n",
      "                                                                       )\n",
      "                                                         ),\n",
      "                                                Assignment(op='=',\n",
      "                                                           lvalue=ID(name='i3'\n",
      "                                                                     ),\n",
      "                                                           rvalue=Constant(type='int',\n",
      "                                                                           value='0'\n",
      "                                                                           )\n",
      "                                                           ),\n",
      "                                                Assignment(op='=',\n",
      "                                                           lvalue=ID(name='i5'\n",
      "                                                                     ),\n",
      "                                                           rvalue=Constant(type='int',\n",
      "                                                                           value='0'\n",
      "                                                                           )\n",
      "                                                           ),\n",
      "                                                Assignment(op='=',\n",
      "                                                           lvalue=ID(name='i7'\n",
      "                                                                     ),\n",
      "                                                           rvalue=Constant(type='int',\n",
      "                                                                           value='0'\n",
      "                                                                           )\n",
      "                                                           ),\n",
      "                                                If(cond=BinaryOp(op='==',\n",
      "                                                                 left=BinaryOp(op='%',\n",
      "                                                                               left=ID(name='a'\n",
      "                                                                                       ),\n",
      "                                                                               right=Constant(type='int',\n",
      "                                                                                              value='3'\n",
      "                                                                                              )\n",
      "                                                                               ),\n",
      "                                                                 right=Constant(type='int',\n",
      "                                                                                value='0'\n",
      "                                                                                )\n",
      "                                                                 ),\n",
      "                                                   iftrue=Assignment(op='=',\n",
      "                                                                     lvalue=ID(name='i3'\n",
      "                                                                               ),\n",
      "                                                                     rvalue=Constant(type='int',\n",
      "                                                                                     value='1'\n",
      "                                                                                     )\n",
      "                                                                     ),\n",
      "                                                   iffalse=None\n",
      "                                                   ),\n",
      "                                                If(cond=BinaryOp(op='==',\n",
      "                                                                 left=BinaryOp(op='%',\n",
      "                                                                               left=ID(name='a'\n",
      "                                                                                       ),\n",
      "                                                                               right=Constant(type='int',\n",
      "                                                                                              value='5'\n",
      "                                                                                              )\n",
      "                                                                               ),\n",
      "                                                                 right=Constant(type='int',\n",
      "                                                                                value='0'\n",
      "                                                                                )\n",
      "                                                                 ),\n",
      "                                                   iftrue=Assignment(op='=',\n",
      "                                                                     lvalue=ID(name='i5'\n",
      "                                                                               ),\n",
      "                                                                     rvalue=Constant(type='int',\n",
      "                                                                                     value='1'\n",
      "                                                                                     )\n",
      "                                                                     ),\n",
      "                                                   iffalse=None\n",
      "                                                   ),\n",
      "                                                If(cond=BinaryOp(op='==',\n",
      "                                                                 left=BinaryOp(op='%',\n",
      "                                                                               left=ID(name='a'\n",
      "                                                                                       ),\n",
      "                                                                               right=Constant(type='int',\n",
      "                                                                                              value='7'\n",
      "                                                                                              )\n",
      "                                                                               ),\n",
      "                                                                 right=Constant(type='int',\n",
      "                                                                                value='0'\n",
      "                                                                                )\n",
      "                                                                 ),\n",
      "                                                   iftrue=Assignment(op='=',\n",
      "                                                                     lvalue=ID(name='i7'\n",
      "                                                                               ),\n",
      "                                                                     rvalue=Constant(type='int',\n",
      "                                                                                     value='1'\n",
      "                                                                                     )\n",
      "                                                                     ),\n",
      "                                                   iffalse=None\n",
      "                                                   ),\n",
      "                                                If(cond=BinaryOp(op='==',\n",
      "                                                                 left=ID(name='i3'\n",
      "                                                                         ),\n",
      "                                                                 right=Constant(type='int',\n",
      "                                                                                value='1'\n",
      "                                                                                )\n",
      "                                                                 ),\n",
      "                                                   iftrue=Compound(block_items=[FuncCall(name=ID(name='printf'\n",
      "                                                                                                 ),\n",
      "                                                                                         args=ExprList(exprs=[Constant(type='string',\n",
      "                                                                                                                       value='\"3\"'\n",
      "                                                                                                                       )\n",
      "                                                                                                             ]\n",
      "                                                                                                       )\n",
      "                                                                                         ),\n",
      "                                                                                If(cond=BinaryOp(op='==',\n",
      "                                                                                                 left=ID(name='i5'\n",
      "                                                                                                         ),\n",
      "                                                                                                 right=Constant(type='int',\n",
      "                                                                                                                value='1'\n",
      "                                                                                                                )\n",
      "                                                                                                 ),\n",
      "                                                                                   iftrue=Compound(block_items=[FuncCall(name=ID(name='printf'\n",
      "                                                                                                                                 ),\n",
      "                                                                                                                         args=ExprList(exprs=[Constant(type='string',\n",
      "                                                                                                                                                       value='\" 5\"'\n",
      "                                                                                                                                                       )\n",
      "                                                                                                                                             ]\n",
      "                                                                                                                                       )\n",
      "                                                                                                                         ),\n",
      "                                                                                                                If(cond=BinaryOp(op='==',\n",
      "                                                                                                                                 left=ID(name='i7'\n",
      "                                                                                                                                         ),\n",
      "                                                                                                                                 right=Constant(type='int',\n",
      "                                                                                                                                                value='1'\n",
      "                                                                                                                                                )\n",
      "                                                                                                                                 ),\n",
      "                                                                                                                   iftrue=FuncCall(name=ID(name='printf'\n",
      "                                                                                                                                           ),\n",
      "                                                                                                                                   args=ExprList(exprs=[Constant(type='string',\n",
      "                                                                                                                                                                 value='\" 7\"'\n",
      "                                                                                                                                                                 )\n",
      "                                                                                                                                                       ]\n",
      "                                                                                                                                                 )\n",
      "                                                                                                                                   ),\n",
      "                                                                                                                   iffalse=None\n",
      "                                                                                                                   )\n",
      "                                                                                                               ]\n",
      "                                                                                                   ),\n",
      "                                                                                   iffalse=If(cond=BinaryOp(op='==',\n",
      "                                                                                                            left=ID(name='i7'\n",
      "                                                                                                                    ),\n",
      "                                                                                                            right=Constant(type='int',\n",
      "                                                                                                                           value='1'\n",
      "                                                                                                                           )\n",
      "                                                                                                            ),\n",
      "                                                                                              iftrue=FuncCall(name=ID(name='printf'\n",
      "                                                                                                                      ),\n",
      "                                                                                                              args=ExprList(exprs=[Constant(type='string',\n",
      "                                                                                                                                            value='\" 7\"'\n",
      "                                                                                                                                            )\n",
      "                                                                                                                                  ]\n",
      "                                                                                                                            )\n",
      "                                                                                                              ),\n",
      "                                                                                              iffalse=None\n",
      "                                                                                              )\n",
      "                                                                                   )\n",
      "                                                                               ]\n",
      "                                                                   ),\n",
      "                                                   iffalse=If(cond=ID(name='i5'\n",
      "                                                                      ),\n",
      "                                                              iftrue=Compound(block_items=[FuncCall(name=ID(name='printf'\n",
      "                                                                                                            ),\n",
      "                                                                                                    args=ExprList(exprs=[Constant(type='string',\n",
      "                                                                                                                                  value='\"5\"'\n",
      "                                                                                                                                  )\n",
      "                                                                                                                        ]\n",
      "                                                                                                                  )\n",
      "                                                                                                    ),\n",
      "                                                                                           If(cond=ID(name='i7'\n",
      "                                                                                                      ),\n",
      "                                                                                              iftrue=FuncCall(name=ID(name='printf'\n",
      "                                                                                                                      ),\n",
      "                                                                                                              args=ExprList(exprs=[Constant(type='string',\n",
      "                                                                                                                                            value='\" 7\"'\n",
      "                                                                                                                                            )\n",
      "                                                                                                                                  ]\n",
      "                                                                                                                            )\n",
      "                                                                                                              ),\n",
      "                                                                                              iffalse=None\n",
      "                                                                                              )\n",
      "                                                                                          ]\n",
      "                                                                              ),\n",
      "                                                              iffalse=If(cond=ID(name='i7'\n",
      "                                                                                 ),\n",
      "                                                                         iftrue=Compound(block_items=[FuncCall(name=ID(name='printf'\n",
      "                                                                                                                       ),\n",
      "                                                                                                               args=ExprList(exprs=[Constant(type='string',\n",
      "                                                                                                                                             value='\"7\"'\n",
      "                                                                                                                                             )\n",
      "                                                                                                                                   ]\n",
      "                                                                                                                             )\n",
      "                                                                                                               )\n",
      "                                                                                                     ]\n",
      "                                                                                         ),\n",
      "                                                                         iffalse=FuncCall(name=ID(name='printf'\n",
      "                                                                                                  ),\n",
      "                                                                                          args=ExprList(exprs=[Constant(type='string',\n",
      "                                                                                                                        value='\"n\"'\n",
      "                                                                                                                        )\n",
      "                                                                                                              ]\n",
      "                                                                                                        )\n",
      "                                                                                          )\n",
      "                                                                         )\n",
      "                                                              )\n",
      "                                                   )\n",
      "                                               ]\n",
      "                                   )\n",
      "                     )\n",
      "            ]\n",
      "        )\n"
     ]
    }
   ],
   "source": [
    "ast = train_df['code'][46887]\n",
    "print(ast)"
   ]
  },
  {
   "cell_type": "code",
   "execution_count": 27,
   "metadata": {},
   "outputs": [],
   "source": [
    "from prepare_data import get_blocks as func\n",
    "blocks = []\n",
    "func(ast, blocks)"
   ]
  },
  {
   "cell_type": "code",
   "execution_count": 36,
   "metadata": {},
   "outputs": [
    {
     "name": "stdout",
     "output_type": "stream",
     "text": [
      "FuncDef 32\n",
      "\t Decl 2\n",
      "Compound 6\n",
      "Decl 2\n",
      "\t a 9\n",
      "Decl 2\n",
      "\t i3 565\n",
      "Decl 2\n",
      "\t i5 1105\n",
      "Decl 2\n",
      "\t i7 2554\n",
      "FuncCall 11\n",
      "\t scanf 36\n",
      "\t ExprList 12\n",
      "= 3\n",
      "\t i3 565\n",
      "\t 0 5\n",
      "= 3\n",
      "\t i5 1105\n",
      "\t 0 5\n",
      "= 3\n",
      "\t i7 2554\n",
      "\t 0 5\n",
      "If 15\n",
      "\t == 19\n",
      "= 3\n",
      "\t i3 565\n",
      "\t 1 10\n",
      "If 15\n",
      "\t == 19\n",
      "= 3\n",
      "\t i5 1105\n",
      "\t 1 10\n",
      "If 15\n",
      "\t == 19\n",
      "= 3\n",
      "\t i7 2554\n",
      "\t 1 10\n",
      "If 15\n",
      "\t == 19\n",
      "Compound 6\n",
      "FuncCall 11\n",
      "\t printf 25\n",
      "\t ExprList 12\n",
      "If 15\n",
      "\t == 19\n",
      "Compound 6\n",
      "FuncCall 11\n",
      "\t printf 25\n",
      "\t ExprList 12\n",
      "If 15\n",
      "\t == 19\n",
      "FuncCall 11\n",
      "\t printf 25\n",
      "\t ExprList 12\n",
      "End 7\n",
      "If 15\n",
      "\t == 19\n",
      "FuncCall 11\n",
      "\t printf 25\n",
      "\t ExprList 12\n",
      "End 7\n",
      "If 15\n",
      "\t i5 1105\n",
      "Compound 6\n",
      "FuncCall 11\n",
      "\t printf 25\n",
      "\t ExprList 12\n",
      "If 15\n",
      "\t i7 2554\n",
      "FuncCall 11\n",
      "\t printf 25\n",
      "\t ExprList 12\n",
      "End 7\n",
      "If 15\n",
      "\t i7 2554\n",
      "Compound 6\n",
      "FuncCall 11\n",
      "\t printf 25\n",
      "\t ExprList 12\n",
      "End 7\n",
      "FuncCall 11\n",
      "\t printf 25\n",
      "\t ExprList 12\n",
      "End 7\n"
     ]
    }
   ],
   "source": [
    "for b in blocks:\n",
    "    token = b.token\n",
    "    print(token, vocab[token].index)\n",
    "    for c in b.children:\n",
    "        token = c.token\n",
    "        print(\"\\t\", token, vocab[token].index)"
   ]
  },
  {
   "cell_type": "code",
   "execution_count": 38,
   "metadata": {},
   "outputs": [
    {
     "data": {
      "text/plain": [
       "[['FuncDef', ['Decl', ['FuncDecl', ['main', ['void']]]]],\n",
       " ['Compound'],\n",
       " ['Decl', ['a', ['int']]],\n",
       " ['Decl', ['i3', ['int']]],\n",
       " ['Decl', ['i5', ['int']]],\n",
       " ['Decl', ['i7', ['int']]],\n",
       " ['FuncCall', ['scanf'], ['ExprList', ['\"%d\"'], ['&', ['a']]]],\n",
       " ['=', ['i3'], ['0']],\n",
       " ['=', ['i5'], ['0']],\n",
       " ['=', ['i7'], ['0']],\n",
       " ['If', ['==', ['%', ['a'], ['3']], ['0']]],\n",
       " ['=', ['i3'], ['1']],\n",
       " ['If', ['==', ['%', ['a'], ['5']], ['0']]],\n",
       " ['=', ['i5'], ['1']],\n",
       " ['If', ['==', ['%', ['a'], ['7']], ['0']]],\n",
       " ['=', ['i7'], ['1']],\n",
       " ['If', ['==', ['i3'], ['1']]],\n",
       " ['Compound'],\n",
       " ['FuncCall', ['printf'], ['ExprList', ['\"3\"']]],\n",
       " ['If', ['==', ['i5'], ['1']]],\n",
       " ['Compound'],\n",
       " ['FuncCall', ['printf'], ['ExprList', ['\" 5\"']]],\n",
       " ['If', ['==', ['i7'], ['1']]],\n",
       " ['FuncCall', ['printf'], ['ExprList', ['\" 7\"']]],\n",
       " ['End'],\n",
       " ['If', ['==', ['i7'], ['1']]],\n",
       " ['FuncCall', ['printf'], ['ExprList', ['\" 7\"']]],\n",
       " ['End'],\n",
       " ['If', ['i5']],\n",
       " ['Compound'],\n",
       " ['FuncCall', ['printf'], ['ExprList', ['\"5\"']]],\n",
       " ['If', ['i7']],\n",
       " ['FuncCall', ['printf'], ['ExprList', ['\" 7\"']]],\n",
       " ['End'],\n",
       " ['If', ['i7']],\n",
       " ['Compound'],\n",
       " ['FuncCall', ['printf'], ['ExprList', ['\"7\"']]],\n",
       " ['End'],\n",
       " ['FuncCall', ['printf'], ['ExprList', ['\"n\"']]],\n",
       " ['End']]"
      ]
     },
     "execution_count": 38,
     "metadata": {},
     "output_type": "execute_result"
    }
   ],
   "source": [
    "def tree_to_token(node):\n",
    "    token = node.token\n",
    "    result = [token]\n",
    "    children = node.children\n",
    "    for child in children:\n",
    "        result.append(tree_to_token(child))\n",
    "    return result\n",
    "\n",
    "def trans2seq(r):\n",
    "    blocks = []\n",
    "    func(r, blocks)\n",
    "    tree = []\n",
    "    for b in blocks:\n",
    "        btree = tree_to_token(b)\n",
    "        tree.append(btree)\n",
    "    return tree\n",
    "\n",
    "trans2seq(ast)"
   ]
  },
  {
   "cell_type": "markdown",
   "metadata": {},
   "source": [
    "## Get the gradient w.r.t to word embedding"
   ]
  },
  {
   "cell_type": "code",
   "execution_count": 15,
   "metadata": {},
   "outputs": [],
   "source": [
    "test_data = pd.read_pickle('/home/david/projects/university/astnn/data/test/blocks.pkl')"
   ]
  },
  {
   "cell_type": "code",
   "execution_count": 49,
   "metadata": {},
   "outputs": [
    {
     "name": "stdout",
     "output_type": "stream",
     "text": [
      "[[32, [2, [30, [40, [4]]]]], [6], [2, [3055, [4]]], [2, [740, [4]]], [2, [740, [4]]], [2, [740, [4]]], [2, [257, [4]]], [2, [632, [4]]], [2, [835, [4]]], [59, [1150], [3055]], [3, [740], [57, [3055], [49]]], [3, [3055], [53, [3055], [49]]], [3, [740], [57, [3055], [127]]], [3, [3055], [53, [3055], [127]]], [3, [740], [57, [3055], [131]]], [3, [3055], [53, [3055], [131]]], [3, [257], [57, [3055], [60]]], [3, [3055], [53, [3055], [60]]], [3, [632], [57, [3055], [67]]], [3, [3055], [53, [3055], [67]]], [3, [835], [3055]], [28, [28, [51], [970]], [72]], [28, [28, [51], [1605]], [72]], [28, [28, [51], [1639]], [72]], [28, [28, [51], [722]], [72]], [28, [28, [51], [1539]], [72]], [28, [28, [51], [814]], [72]], [39, [5]], [7]]\n"
     ]
    },
    {
     "ename": "TypeError",
     "evalue": "cannot do positional indexing on Int64Index with these indexers [[[[32, [2, [30, [40, [4]]]]], [6], [2, [3055, [4]]], [2, [740, [4]]], [2, [740, [4]]], [2, [740, [4]]], [2, [257, [4]]], [2, [632, [4]]], [2, [835, [4]]], [59, [1150], [3055]], [3, [740], [57, [3055], [49]]], [3, [3055], [53, [3055], [49]]], [3, [740], [57, [3055], [127]]], [3, [3055], [53, [3055], [127]]], [3, [740], [57, [3055], [131]]], [3, [3055], [53, [3055], [131]]], [3, [257], [57, [3055], [60]]], [3, [3055], [53, [3055], [60]]], [3, [632], [57, [3055], [67]]], [3, [3055], [53, [3055], [67]]], [3, [835], [3055]], [28, [28, [51], [970]], [72]], [28, [28, [51], [1605]], [72]], [28, [28, [51], [1639]], [72]], [28, [28, [51], [722]], [72]], [28, [28, [51], [1539]], [72]], [28, [28, [51], [814]], [72]], [39, [5]], [7]]]] of type list",
     "output_type": "error",
     "traceback": [
      "\u001b[0;31m---------------------------------------------------------------------------\u001b[0m",
      "\u001b[0;31mTypeError\u001b[0m                                 Traceback (most recent call last)",
      "\u001b[0;32m<ipython-input-49-db68ef643f63>\u001b[0m in \u001b[0;36m<module>\u001b[0;34m\u001b[0m\n\u001b[1;32m      1\u001b[0m \u001b[0mprint\u001b[0m\u001b[0;34m(\u001b[0m\u001b[0mtest_data\u001b[0m\u001b[0;34m[\u001b[0m\u001b[0;34m'code'\u001b[0m\u001b[0;34m]\u001b[0m\u001b[0;34m[\u001b[0m\u001b[0;36m0\u001b[0m\u001b[0;34m]\u001b[0m\u001b[0;34m)\u001b[0m\u001b[0;34m\u001b[0m\u001b[0;34m\u001b[0m\u001b[0m\n\u001b[0;32m----> 2\u001b[0;31m \u001b[0mtest_data\u001b[0m\u001b[0;34m.\u001b[0m\u001b[0mhead\u001b[0m\u001b[0;34m(\u001b[0m\u001b[0;34m[\u001b[0m\u001b[0mtest_data\u001b[0m\u001b[0;34m[\u001b[0m\u001b[0;34m'code'\u001b[0m\u001b[0;34m]\u001b[0m\u001b[0;34m[\u001b[0m\u001b[0;36m0\u001b[0m\u001b[0;34m]\u001b[0m\u001b[0;34m]\u001b[0m\u001b[0;34m)\u001b[0m\u001b[0;34m\u001b[0m\u001b[0;34m\u001b[0m\u001b[0m\n\u001b[0m",
      "\u001b[0;32m~/projects/university/astnn/venv/lib/python3.8/site-packages/pandas/core/generic.py\u001b[0m in \u001b[0;36mhead\u001b[0;34m(self, n)\u001b[0m\n\u001b[1;32m   4701\u001b[0m         \u001b[0;36m5\u001b[0m     \u001b[0mparrot\u001b[0m\u001b[0;34m\u001b[0m\u001b[0;34m\u001b[0m\u001b[0m\n\u001b[1;32m   4702\u001b[0m         \"\"\"\n\u001b[0;32m-> 4703\u001b[0;31m         \u001b[0;32mreturn\u001b[0m \u001b[0mself\u001b[0m\u001b[0;34m.\u001b[0m\u001b[0miloc\u001b[0m\u001b[0;34m[\u001b[0m\u001b[0;34m:\u001b[0m\u001b[0mn\u001b[0m\u001b[0;34m]\u001b[0m\u001b[0;34m\u001b[0m\u001b[0;34m\u001b[0m\u001b[0m\n\u001b[0m\u001b[1;32m   4704\u001b[0m \u001b[0;34m\u001b[0m\u001b[0m\n\u001b[1;32m   4705\u001b[0m     \u001b[0;32mdef\u001b[0m \u001b[0mtail\u001b[0m\u001b[0;34m(\u001b[0m\u001b[0mself\u001b[0m\u001b[0;34m:\u001b[0m \u001b[0mFrameOrSeries\u001b[0m\u001b[0;34m,\u001b[0m \u001b[0mn\u001b[0m\u001b[0;34m:\u001b[0m \u001b[0mint\u001b[0m \u001b[0;34m=\u001b[0m \u001b[0;36m5\u001b[0m\u001b[0;34m)\u001b[0m \u001b[0;34m->\u001b[0m \u001b[0mFrameOrSeries\u001b[0m\u001b[0;34m:\u001b[0m\u001b[0;34m\u001b[0m\u001b[0;34m\u001b[0m\u001b[0m\n",
      "\u001b[0;32m~/projects/university/astnn/venv/lib/python3.8/site-packages/pandas/core/indexing.py\u001b[0m in \u001b[0;36m__getitem__\u001b[0;34m(self, key)\u001b[0m\n\u001b[1;32m    877\u001b[0m \u001b[0;34m\u001b[0m\u001b[0m\n\u001b[1;32m    878\u001b[0m             \u001b[0mmaybe_callable\u001b[0m \u001b[0;34m=\u001b[0m \u001b[0mcom\u001b[0m\u001b[0;34m.\u001b[0m\u001b[0mapply_if_callable\u001b[0m\u001b[0;34m(\u001b[0m\u001b[0mkey\u001b[0m\u001b[0;34m,\u001b[0m \u001b[0mself\u001b[0m\u001b[0;34m.\u001b[0m\u001b[0mobj\u001b[0m\u001b[0;34m)\u001b[0m\u001b[0;34m\u001b[0m\u001b[0;34m\u001b[0m\u001b[0m\n\u001b[0;32m--> 879\u001b[0;31m             \u001b[0;32mreturn\u001b[0m \u001b[0mself\u001b[0m\u001b[0;34m.\u001b[0m\u001b[0m_getitem_axis\u001b[0m\u001b[0;34m(\u001b[0m\u001b[0mmaybe_callable\u001b[0m\u001b[0;34m,\u001b[0m \u001b[0maxis\u001b[0m\u001b[0;34m=\u001b[0m\u001b[0maxis\u001b[0m\u001b[0;34m)\u001b[0m\u001b[0;34m\u001b[0m\u001b[0;34m\u001b[0m\u001b[0m\n\u001b[0m\u001b[1;32m    880\u001b[0m \u001b[0;34m\u001b[0m\u001b[0m\n\u001b[1;32m    881\u001b[0m     \u001b[0;32mdef\u001b[0m \u001b[0m_is_scalar_access\u001b[0m\u001b[0;34m(\u001b[0m\u001b[0mself\u001b[0m\u001b[0;34m,\u001b[0m \u001b[0mkey\u001b[0m\u001b[0;34m:\u001b[0m \u001b[0mTuple\u001b[0m\u001b[0;34m)\u001b[0m\u001b[0;34m:\u001b[0m\u001b[0;34m\u001b[0m\u001b[0;34m\u001b[0m\u001b[0m\n",
      "\u001b[0;32m~/projects/university/astnn/venv/lib/python3.8/site-packages/pandas/core/indexing.py\u001b[0m in \u001b[0;36m_getitem_axis\u001b[0;34m(self, key, axis)\u001b[0m\n\u001b[1;32m   1474\u001b[0m     \u001b[0;32mdef\u001b[0m \u001b[0m_getitem_axis\u001b[0m\u001b[0;34m(\u001b[0m\u001b[0mself\u001b[0m\u001b[0;34m,\u001b[0m \u001b[0mkey\u001b[0m\u001b[0;34m,\u001b[0m \u001b[0maxis\u001b[0m\u001b[0;34m:\u001b[0m \u001b[0mint\u001b[0m\u001b[0;34m)\u001b[0m\u001b[0;34m:\u001b[0m\u001b[0;34m\u001b[0m\u001b[0;34m\u001b[0m\u001b[0m\n\u001b[1;32m   1475\u001b[0m         \u001b[0;32mif\u001b[0m \u001b[0misinstance\u001b[0m\u001b[0;34m(\u001b[0m\u001b[0mkey\u001b[0m\u001b[0;34m,\u001b[0m \u001b[0mslice\u001b[0m\u001b[0;34m)\u001b[0m\u001b[0;34m:\u001b[0m\u001b[0;34m\u001b[0m\u001b[0;34m\u001b[0m\u001b[0m\n\u001b[0;32m-> 1476\u001b[0;31m             \u001b[0;32mreturn\u001b[0m \u001b[0mself\u001b[0m\u001b[0;34m.\u001b[0m\u001b[0m_get_slice_axis\u001b[0m\u001b[0;34m(\u001b[0m\u001b[0mkey\u001b[0m\u001b[0;34m,\u001b[0m \u001b[0maxis\u001b[0m\u001b[0;34m=\u001b[0m\u001b[0maxis\u001b[0m\u001b[0;34m)\u001b[0m\u001b[0;34m\u001b[0m\u001b[0;34m\u001b[0m\u001b[0m\n\u001b[0m\u001b[1;32m   1477\u001b[0m \u001b[0;34m\u001b[0m\u001b[0m\n\u001b[1;32m   1478\u001b[0m         \u001b[0;32mif\u001b[0m \u001b[0misinstance\u001b[0m\u001b[0;34m(\u001b[0m\u001b[0mkey\u001b[0m\u001b[0;34m,\u001b[0m \u001b[0mlist\u001b[0m\u001b[0;34m)\u001b[0m\u001b[0;34m:\u001b[0m\u001b[0;34m\u001b[0m\u001b[0;34m\u001b[0m\u001b[0m\n",
      "\u001b[0;32m~/projects/university/astnn/venv/lib/python3.8/site-packages/pandas/core/indexing.py\u001b[0m in \u001b[0;36m_get_slice_axis\u001b[0;34m(self, slice_obj, axis)\u001b[0m\n\u001b[1;32m   1506\u001b[0m \u001b[0;34m\u001b[0m\u001b[0m\n\u001b[1;32m   1507\u001b[0m         \u001b[0mlabels\u001b[0m \u001b[0;34m=\u001b[0m \u001b[0mobj\u001b[0m\u001b[0;34m.\u001b[0m\u001b[0m_get_axis\u001b[0m\u001b[0;34m(\u001b[0m\u001b[0maxis\u001b[0m\u001b[0;34m)\u001b[0m\u001b[0;34m\u001b[0m\u001b[0;34m\u001b[0m\u001b[0m\n\u001b[0;32m-> 1508\u001b[0;31m         \u001b[0mlabels\u001b[0m\u001b[0;34m.\u001b[0m\u001b[0m_validate_positional_slice\u001b[0m\u001b[0;34m(\u001b[0m\u001b[0mslice_obj\u001b[0m\u001b[0;34m)\u001b[0m\u001b[0;34m\u001b[0m\u001b[0;34m\u001b[0m\u001b[0m\n\u001b[0m\u001b[1;32m   1509\u001b[0m         \u001b[0;32mreturn\u001b[0m \u001b[0mself\u001b[0m\u001b[0;34m.\u001b[0m\u001b[0mobj\u001b[0m\u001b[0;34m.\u001b[0m\u001b[0m_slice\u001b[0m\u001b[0;34m(\u001b[0m\u001b[0mslice_obj\u001b[0m\u001b[0;34m,\u001b[0m \u001b[0maxis\u001b[0m\u001b[0;34m=\u001b[0m\u001b[0maxis\u001b[0m\u001b[0;34m)\u001b[0m\u001b[0;34m\u001b[0m\u001b[0;34m\u001b[0m\u001b[0m\n\u001b[1;32m   1510\u001b[0m \u001b[0;34m\u001b[0m\u001b[0m\n",
      "\u001b[0;32m~/projects/university/astnn/venv/lib/python3.8/site-packages/pandas/core/indexes/base.py\u001b[0m in \u001b[0;36m_validate_positional_slice\u001b[0;34m(self, key)\u001b[0m\n\u001b[1;32m   3113\u001b[0m         \"\"\"\n\u001b[1;32m   3114\u001b[0m         \u001b[0mself\u001b[0m\u001b[0;34m.\u001b[0m\u001b[0m_validate_indexer\u001b[0m\u001b[0;34m(\u001b[0m\u001b[0;34m\"positional\"\u001b[0m\u001b[0;34m,\u001b[0m \u001b[0mkey\u001b[0m\u001b[0;34m.\u001b[0m\u001b[0mstart\u001b[0m\u001b[0;34m,\u001b[0m \u001b[0;34m\"iloc\"\u001b[0m\u001b[0;34m)\u001b[0m\u001b[0;34m\u001b[0m\u001b[0;34m\u001b[0m\u001b[0m\n\u001b[0;32m-> 3115\u001b[0;31m         \u001b[0mself\u001b[0m\u001b[0;34m.\u001b[0m\u001b[0m_validate_indexer\u001b[0m\u001b[0;34m(\u001b[0m\u001b[0;34m\"positional\"\u001b[0m\u001b[0;34m,\u001b[0m \u001b[0mkey\u001b[0m\u001b[0;34m.\u001b[0m\u001b[0mstop\u001b[0m\u001b[0;34m,\u001b[0m \u001b[0;34m\"iloc\"\u001b[0m\u001b[0;34m)\u001b[0m\u001b[0;34m\u001b[0m\u001b[0;34m\u001b[0m\u001b[0m\n\u001b[0m\u001b[1;32m   3116\u001b[0m         \u001b[0mself\u001b[0m\u001b[0;34m.\u001b[0m\u001b[0m_validate_indexer\u001b[0m\u001b[0;34m(\u001b[0m\u001b[0;34m\"positional\"\u001b[0m\u001b[0;34m,\u001b[0m \u001b[0mkey\u001b[0m\u001b[0;34m.\u001b[0m\u001b[0mstep\u001b[0m\u001b[0;34m,\u001b[0m \u001b[0;34m\"iloc\"\u001b[0m\u001b[0;34m)\u001b[0m\u001b[0;34m\u001b[0m\u001b[0;34m\u001b[0m\u001b[0m\n\u001b[1;32m   3117\u001b[0m \u001b[0;34m\u001b[0m\u001b[0m\n",
      "\u001b[0;32m~/projects/university/astnn/venv/lib/python3.8/site-packages/pandas/core/indexes/base.py\u001b[0m in \u001b[0;36m_validate_indexer\u001b[0;34m(self, form, key, kind)\u001b[0m\n\u001b[1;32m   4989\u001b[0m             \u001b[0;32mpass\u001b[0m\u001b[0;34m\u001b[0m\u001b[0;34m\u001b[0m\u001b[0m\n\u001b[1;32m   4990\u001b[0m         \u001b[0;32melse\u001b[0m\u001b[0;34m:\u001b[0m\u001b[0;34m\u001b[0m\u001b[0;34m\u001b[0m\u001b[0m\n\u001b[0;32m-> 4991\u001b[0;31m             \u001b[0mself\u001b[0m\u001b[0;34m.\u001b[0m\u001b[0m_invalid_indexer\u001b[0m\u001b[0;34m(\u001b[0m\u001b[0mform\u001b[0m\u001b[0;34m,\u001b[0m \u001b[0mkey\u001b[0m\u001b[0;34m)\u001b[0m\u001b[0;34m\u001b[0m\u001b[0;34m\u001b[0m\u001b[0m\n\u001b[0m\u001b[1;32m   4992\u001b[0m \u001b[0;34m\u001b[0m\u001b[0m\n\u001b[1;32m   4993\u001b[0m     \u001b[0;32mdef\u001b[0m \u001b[0m_maybe_cast_slice_bound\u001b[0m\u001b[0;34m(\u001b[0m\u001b[0mself\u001b[0m\u001b[0;34m,\u001b[0m \u001b[0mlabel\u001b[0m\u001b[0;34m,\u001b[0m \u001b[0mside\u001b[0m\u001b[0;34m:\u001b[0m \u001b[0mstr_t\u001b[0m\u001b[0;34m,\u001b[0m \u001b[0mkind\u001b[0m\u001b[0;34m)\u001b[0m\u001b[0;34m:\u001b[0m\u001b[0;34m\u001b[0m\u001b[0;34m\u001b[0m\u001b[0m\n",
      "\u001b[0;32m~/projects/university/astnn/venv/lib/python3.8/site-packages/pandas/core/indexes/base.py\u001b[0m in \u001b[0;36m_invalid_indexer\u001b[0;34m(self, form, key)\u001b[0m\n\u001b[1;32m   3259\u001b[0m         \u001b[0mConsistent\u001b[0m \u001b[0minvalid\u001b[0m \u001b[0mindexer\u001b[0m \u001b[0mmessage\u001b[0m\u001b[0;34m.\u001b[0m\u001b[0;34m\u001b[0m\u001b[0;34m\u001b[0m\u001b[0m\n\u001b[1;32m   3260\u001b[0m         \"\"\"\n\u001b[0;32m-> 3261\u001b[0;31m         raise TypeError(\n\u001b[0m\u001b[1;32m   3262\u001b[0m             \u001b[0;34mf\"cannot do {form} indexing on {type(self).__name__} with these \"\u001b[0m\u001b[0;34m\u001b[0m\u001b[0;34m\u001b[0m\u001b[0m\n\u001b[1;32m   3263\u001b[0m             \u001b[0;34mf\"indexers [{key}] of type {type(key).__name__}\"\u001b[0m\u001b[0;34m\u001b[0m\u001b[0;34m\u001b[0m\u001b[0m\n",
      "\u001b[0;31mTypeError\u001b[0m: cannot do positional indexing on Int64Index with these indexers [[[[32, [2, [30, [40, [4]]]]], [6], [2, [3055, [4]]], [2, [740, [4]]], [2, [740, [4]]], [2, [740, [4]]], [2, [257, [4]]], [2, [632, [4]]], [2, [835, [4]]], [59, [1150], [3055]], [3, [740], [57, [3055], [49]]], [3, [3055], [53, [3055], [49]]], [3, [740], [57, [3055], [127]]], [3, [3055], [53, [3055], [127]]], [3, [740], [57, [3055], [131]]], [3, [3055], [53, [3055], [131]]], [3, [257], [57, [3055], [60]]], [3, [3055], [53, [3055], [60]]], [3, [632], [57, [3055], [67]]], [3, [3055], [53, [3055], [67]]], [3, [835], [3055]], [28, [28, [51], [970]], [72]], [28, [28, [51], [1605]], [72]], [28, [28, [51], [1639]], [72]], [28, [28, [51], [722]], [72]], [28, [28, [51], [1539]], [72]], [28, [28, [51], [814]], [72]], [39, [5]], [7]]]] of type list"
     ]
    }
   ],
   "source": [
    "# print(test_data['code'][0])\n",
    "test_data.head([test_data['code'][0]])"
   ]
  },
  {
   "cell_type": "code",
   "execution_count": 42,
   "metadata": {},
   "outputs": [
    {
     "name": "stderr",
     "output_type": "stream",
     "text": [
      "<ipython-input-42-14bc3aa4690b>:3: VisibleDeprecationWarning: Creating an ndarray from ragged nested sequences (which is a list-or-tuple of lists-or-tuples-or ndarrays with different lengths or shapes) is deprecated. If you meant to do this, you must specify 'dtype=object' when creating the ndarray\n",
      "  array = np.array(test_data['code'][0])\n"
     ]
    },
    {
     "data": {
      "text/plain": [
       "array([list([32, [2, [30, [40, [4]]]]]), list([6]),\n",
       "       list([2, [3055, [4]]]), list([2, [740, [4]]]),\n",
       "       list([2, [740, [4]]]), list([2, [740, [4]]]),\n",
       "       list([2, [257, [4]]]), list([2, [632, [4]]]),\n",
       "       list([2, [835, [4]]]), list([59, [1150], [3055]]),\n",
       "       list([3, [740], [57, [3055], [49]]]),\n",
       "       list([3, [3055], [53, [3055], [49]]]),\n",
       "       list([3, [740], [57, [3055], [127]]]),\n",
       "       list([3, [3055], [53, [3055], [127]]]),\n",
       "       list([3, [740], [57, [3055], [131]]]),\n",
       "       list([3, [3055], [53, [3055], [131]]]),\n",
       "       list([3, [257], [57, [3055], [60]]]),\n",
       "       list([3, [3055], [53, [3055], [60]]]),\n",
       "       list([3, [632], [57, [3055], [67]]]),\n",
       "       list([3, [3055], [53, [3055], [67]]]), list([3, [835], [3055]]),\n",
       "       list([28, [28, [51], [970]], [72]]),\n",
       "       list([28, [28, [51], [1605]], [72]]),\n",
       "       list([28, [28, [51], [1639]], [72]]),\n",
       "       list([28, [28, [51], [722]], [72]]),\n",
       "       list([28, [28, [51], [1539]], [72]]),\n",
       "       list([28, [28, [51], [814]], [72]]), list([39, [5]]), list([7])],\n",
       "      dtype=object)"
      ]
     },
     "execution_count": 42,
     "metadata": {},
     "output_type": "execute_result"
    }
   ],
   "source": [
    "import numpy as np \n",
    "import torch \n",
    "array = np.array(test_data['code'][0])\n",
    "array\n",
    "# output_data = torch.from_numpy(array)"
   ]
  },
  {
   "cell_type": "code",
   "execution_count": null,
   "metadata": {},
   "outputs": [],
   "source": [
    "loss = loss_function(output_data, Variable(train_labels))\n",
    "loss.backward()"
   ]
  },
  {
   "cell_type": "code",
   "execution_count": 37,
   "metadata": {},
   "outputs": [
    {
     "data": {
      "text/plain": [
       "tensor([[ 1.2612e-44,  0.0000e+00,  2.4593e-37,  4.5785e-41,  1.3260e-37,\n",
       "          0.0000e+00,         nan,         nan,  0.0000e+00,  0.0000e+00],\n",
       "        [        nan,         nan, -8.0709e+31,  4.5783e-41,  1.4013e-45,\n",
       "          4.0274e-11,  1.0089e-43,  0.0000e+00,  9.8091e-45,  0.0000e+00],\n",
       "        [ 2.4593e-37,  4.5785e-41,  1.3260e-37,  0.0000e+00,  0.0000e+00,\n",
       "          0.0000e+00,  1.4013e-45,  0.0000e+00,  1.4013e-45,  0.0000e+00],\n",
       "        [-8.0709e+31,  4.5783e-41,  1.4013e-45,  2.5609e-12,  2.0179e-43,\n",
       "          0.0000e+00,  4.2039e-45,  0.0000e+00,  2.4593e-37,  4.5785e-41],\n",
       "        [ 1.3260e-37,  0.0000e+00,  0.0000e+00,  0.0000e+00,  1.4013e-45,\n",
       "          0.0000e+00,  1.4013e-45,  0.0000e+00,  1.4013e-44,  0.0000e+00],\n",
       "        [ 1.4013e-45,  0.0000e+00,  3.0268e-43,  0.0000e+00,  1.2612e-44,\n",
       "          0.0000e+00,  2.4593e-37,  4.5785e-41,  1.3260e-37,  0.0000e+00],\n",
       "        [ 0.0000e+00,  0.0000e+00,  5.6052e-45,  0.0000e+00,  1.4013e-45,\n",
       "          0.0000e+00,  0.0000e+00,  0.0000e+00,  1.4013e-45,  2.6551e-06],\n",
       "        [ 4.0357e-43,  0.0000e+00,  1.2612e-44,  0.0000e+00,  2.4593e-37,\n",
       "          4.5785e-41,  1.3260e-37,  0.0000e+00,  3.2230e-44,  0.0000e+00],\n",
       "        [ 5.6052e-45,  0.0000e+00,  1.4013e-45,  0.0000e+00,  0.0000e+00,\n",
       "          0.0000e+00,  1.4013e-45,  5.8253e-10,  5.0447e-43,  0.0000e+00],\n",
       "        [ 1.2612e-44,  0.0000e+00,  2.4593e-37,  4.5785e-41,  1.3261e-37,\n",
       "          0.0000e+00,  0.0000e+00,  0.0000e+00,  0.0000e+00,  0.0000e+00]])"
      ]
     },
     "execution_count": 37,
     "metadata": {},
     "output_type": "execute_result"
    }
   ],
   "source": [
    "torch.autograd.Variable(torch.Tensor(10,10))"
   ]
  },
  {
   "cell_type": "markdown",
   "metadata": {},
   "source": [
    "reproduce prev results\n",
    "\n",
    "# Training Accuracy\n",
    "\n",
    "## No modifications\n",
    "\n",
    "- Testing results(Acc): 0.9804826458994328\n",
    "\n",
    "## Dead Code Additions\n",
    "\n",
    "- 2 additions: Testing results(Acc): 0.9753869820209595\n",
    "- 5 additions: Testing results(Acc): 0.9682722815113931\n",
    "\n",
    "\n",
    "## Variable Renaming\n",
    "\n",
    "- Testing results(Acc): 0.9478896259975003\n",
    "\n",
    "## Combination\n",
    "\n",
    "- Variable renaming, 5 dead code additions: Testing results(Acc): 0.9473127583886165\n",
    "- Variable renaming, 10 dead code additions: Testing results(Acc): 0.946928179982694"
   ]
  },
  {
   "cell_type": "markdown",
   "metadata": {},
   "source": [
    "# Efficiency Notes\n",
    "\n",
    "## Variable renaming\n",
    "- Test set (10401 code samples): ~1m 8s"
   ]
  },
  {
   "cell_type": "code",
   "execution_count": null,
   "metadata": {},
   "outputs": [],
   "source": []
  }
 ],
 "metadata": {
  "kernelspec": {
   "display_name": "Python 3",
   "language": "python",
   "name": "python3"
  },
  "language_info": {
   "codemirror_mode": {
    "name": "ipython",
    "version": 3
   },
   "file_extension": ".py",
   "mimetype": "text/x-python",
   "name": "python",
   "nbconvert_exporter": "python",
   "pygments_lexer": "ipython3",
   "version": "3.8.2"
  }
 },
 "nbformat": 4,
 "nbformat_minor": 4
}
