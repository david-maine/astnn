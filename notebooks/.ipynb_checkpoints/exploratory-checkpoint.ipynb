{
 "cells": [
  {
   "cell_type": "code",
   "execution_count": 1,
   "metadata": {},
   "outputs": [],
   "source": [
    "import pandas as pd"
   ]
  },
  {
   "cell_type": "code",
   "execution_count": 6,
   "metadata": {},
   "outputs": [
    {
     "data": {
      "text/html": [
       "<div>\n",
       "<style scoped>\n",
       "    .dataframe tbody tr th:only-of-type {\n",
       "        vertical-align: middle;\n",
       "    }\n",
       "\n",
       "    .dataframe tbody tr th {\n",
       "        vertical-align: top;\n",
       "    }\n",
       "\n",
       "    .dataframe thead th {\n",
       "        text-align: right;\n",
       "    }\n",
       "</style>\n",
       "<table border=\"1\" class=\"dataframe\">\n",
       "  <thead>\n",
       "    <tr style=\"text-align: right;\">\n",
       "      <th></th>\n",
       "      <th>0</th>\n",
       "      <th>1</th>\n",
       "      <th>2</th>\n",
       "    </tr>\n",
       "  </thead>\n",
       "  <tbody>\n",
       "    <tr>\n",
       "      <th>0</th>\n",
       "      <td>0</td>\n",
       "      <td>int main()\\n{\\n\\tint a;\\n\\tint bai,wushi,ershi...</td>\n",
       "      <td>97</td>\n",
       "    </tr>\n",
       "    <tr>\n",
       "      <th>1</th>\n",
       "      <td>1</td>\n",
       "      <td>int main()\\n{\\n    int m,x100,x50,x20,x10,x5,x...</td>\n",
       "      <td>97</td>\n",
       "    </tr>\n",
       "    <tr>\n",
       "      <th>2</th>\n",
       "      <td>2</td>\n",
       "      <td>int main()\\n{\\n    int n,i,shuzu[111],count1=0...</td>\n",
       "      <td>97</td>\n",
       "    </tr>\n",
       "    <tr>\n",
       "      <th>3</th>\n",
       "      <td>3</td>\n",
       "      <td>int main()\\n{\\n\\tint n,a1=0,a2=0,a3=0,a4=0,a5=...</td>\n",
       "      <td>97</td>\n",
       "    </tr>\n",
       "    <tr>\n",
       "      <th>4</th>\n",
       "      <td>4</td>\n",
       "      <td>int main()\\n{\\n\\tint n,a,b,c,d,e,f;\\n\\ta=0;b=0...</td>\n",
       "      <td>97</td>\n",
       "    </tr>\n",
       "  </tbody>\n",
       "</table>\n",
       "</div>"
      ],
      "text/plain": [
       "   0                                                  1   2\n",
       "0  0  int main()\\n{\\n\\tint a;\\n\\tint bai,wushi,ershi...  97\n",
       "1  1  int main()\\n{\\n    int m,x100,x50,x20,x10,x5,x...  97\n",
       "2  2  int main()\\n{\\n    int n,i,shuzu[111],count1=0...  97\n",
       "3  3  int main()\\n{\\n\\tint n,a1=0,a2=0,a3=0,a4=0,a5=...  97\n",
       "4  4  int main()\\n{\\n\\tint n,a,b,c,d,e,f;\\n\\ta=0;b=0...  97"
      ]
     },
     "execution_count": 6,
     "metadata": {},
     "output_type": "execute_result"
    }
   ],
   "source": [
    "program_df = pd.read_pickle(\"/home/david/projects/university/astnn/data/programs.pkl\")\n",
    "program_df.head()"
   ]
  },
  {
   "cell_type": "code",
   "execution_count": 11,
   "metadata": {},
   "outputs": [
    {
     "name": "stdout",
     "output_type": "stream",
     "text": [
      "int main()\n",
      "{\n",
      "    int n,i,shuzu[111],count1=0,count3=0,count2=0,count4=0,count5=0,count6=0;\n",
      "    scanf(\"%d\",&n);\n",
      "    while(n>=100){\n",
      "                  n=n-100;\n",
      "                  count1++;\n",
      "                  }\n",
      "                      while(n>=50){\n",
      "                  n=n-50;\n",
      "                  count2++;\n",
      "                  }\n",
      "                      while(n>=20){\n",
      "                  n=n-20;\n",
      "                  count3++;\n",
      "                  }\n",
      "                      while(n>=10){\n",
      "                  n=n-10;\n",
      "                  count4++;\n",
      "                  }    while(n>=5){\n",
      "                  n=n-5;\n",
      "                  count5++;\n",
      "                  }\n",
      "                      while(n>=1){\n",
      "                  n=n-1;\n",
      "                  count6++;\n",
      "                  }\n",
      "               printf(\"%d\\n%d\\n%d\\n%d\\n%d\\n%d\",count1,count2,count3,count4,count5,count6);\n",
      "               return 0;\n",
      "               }\n",
      "                  \n",
      "\n"
     ]
    }
   ],
   "source": [
    "print(program_df[1][2])"
   ]
  },
  {
   "cell_type": "code",
   "execution_count": null,
   "metadata": {},
   "outputs": [],
   "source": [
    "test_df = pd.read_pickle(\"/home/david/projects/university/astnn/data/test/test_.pkl\")\n",
    "dev_df = pd.read_pickle(\"/home/david/projects/university/astnn/data/dev/dev_.pkl\")\n",
    "train_df = pd.read_pickle(\"/home/david/projects/university/astnn/data/train/train_.pkl\")"
   ]
  },
  {
   "cell_type": "code",
   "execution_count": null,
   "metadata": {},
   "outputs": [],
   "source": [
    "print(test_df.shape)\n",
    "print(dev_df.shape)\n",
    "print(train_df.shape)"
   ]
  },
  {
   "cell_type": "code",
   "execution_count": null,
   "metadata": {},
   "outputs": [],
   "source": []
  }
 ],
 "metadata": {
  "kernelspec": {
   "display_name": "Python 3",
   "language": "python",
   "name": "python3"
  },
  "language_info": {
   "codemirror_mode": {
    "name": "ipython",
    "version": 3
   },
   "file_extension": ".py",
   "mimetype": "text/x-python",
   "name": "python",
   "nbconvert_exporter": "python",
   "pygments_lexer": "ipython3",
   "version": "3.8.5"
  }
 },
 "nbformat": 4,
 "nbformat_minor": 4
}
