{
 "cells": [
  {
   "cell_type": "code",
   "execution_count": 1,
   "metadata": {},
   "outputs": [],
   "source": [
    "import os\n",
    "import sys\n",
    "module_path = os.path.abspath(os.path.join('..'))\n",
    "if module_path not in sys.path:\n",
    "    sys.path.append(module_path)\n",
    "    \n",
    "import pandas as pd\n",
    "import random\n",
    "import torch\n",
    "import time\n",
    "import numpy as np\n",
    "from gensim.models.word2vec import Word2Vec\n",
    "from model import BatchProgramClassifier\n",
    "from torch.autograd import Variable\n",
    "from torch.utils.data import DataLoader\n",
    "\n",
    "import torch.nn as nn\n",
    "import torch.nn.functional as F\n",
    "import torch\n",
    "from torch.autograd import Variable\n",
    "\n",
    "import re\n",
    "\n",
    "from pycparser.c_ast import TypeDecl, ArrayDecl\n",
    "from pycparser import c_ast"
   ]
  },
  {
   "cell_type": "code",
   "execution_count": 2,
   "metadata": {},
   "outputs": [
    {
     "data": {
      "text/plain": [
       "<All keys matched successfully>"
      ]
     },
     "execution_count": 2,
     "metadata": {},
     "output_type": "execute_result"
    }
   ],
   "source": [
    "root = '/home/david/projects/university/astnn/data/'\n",
    "\n",
    "word2vec = Word2Vec.load(root+\"train/embedding/node_w2v_128\").wv\n",
    "embeddings = np.zeros((word2vec.vectors.shape[0] + 1, word2vec.vectors.shape[1]), dtype=\"float32\")\n",
    "embeddings[:word2vec.vectors.shape[0]] = word2vec.vectors\n",
    "\n",
    "HIDDEN_DIM = 100\n",
    "ENCODE_DIM = 128\n",
    "LABELS = 104\n",
    "EPOCHS = 15\n",
    "BATCH_SIZE = 1\n",
    "USE_GPU = False\n",
    "MAX_TOKENS = word2vec.vectors.shape[0]\n",
    "EMBEDDING_DIM = word2vec.vectors.shape[1]\n",
    "\n",
    "model = BatchProgramClassifier(EMBEDDING_DIM,HIDDEN_DIM,MAX_TOKENS+1,ENCODE_DIM,LABELS,BATCH_SIZE,\n",
    "                               USE_GPU, embeddings)\n",
    "model.load_state_dict(torch.load(\"/home/david/projects/university/astnn/model.pt\"))"
   ]
  },
  {
   "cell_type": "markdown",
   "metadata": {},
   "source": [
    "# Load Data"
   ]
  },
  {
   "cell_type": "code",
   "execution_count": 3,
   "metadata": {},
   "outputs": [],
   "source": [
    "word2vec = Word2Vec.load('/home/david/projects/university/astnn/data/train/embedding/node_w2v_128').wv\n",
    "vocab = word2vec.vocab\n",
    "\n",
    "ast_data = pd.read_pickle(root+'test/test_.pkl')\n",
    "block_data = pd.read_pickle(root+'test/blocks.pkl')"
   ]
  },
  {
   "cell_type": "markdown",
   "metadata": {},
   "source": [
    "# Allowed var names"
   ]
  },
  {
   "cell_type": "code",
   "execution_count": 4,
   "metadata": {},
   "outputs": [],
   "source": [
    "leaf_embed = nn.Sequential(\n",
    "    model._modules['encoder']._modules['embedding'],\n",
    "    model._modules['encoder']._modules['W_c']\n",
    ")"
   ]
  },
  {
   "cell_type": "code",
   "execution_count": 5,
   "metadata": {
    "scrolled": true
   },
   "outputs": [
    {
     "data": {
      "text/plain": [
       "False"
      ]
     },
     "execution_count": 5,
     "metadata": {},
     "output_type": "execute_result"
    }
   ],
   "source": [
    "# words we wont allow as variable names\n",
    "reserved_words = [\n",
    "    'auto',\n",
    "    'break',\n",
    "    'case',\n",
    "    'char',\n",
    "    'const',\n",
    "    'continue',\n",
    "    'default',\n",
    "    'do',\n",
    "    'int',\n",
    "    'long',\n",
    "    'register',\n",
    "    'return',\n",
    "    'short',\n",
    "    'sizeof',\n",
    "    'static',\n",
    "    'struct',\n",
    "    'switch',\n",
    "    'typedef',\n",
    "    'union',\n",
    "    'unsigned',\n",
    "    'void',\n",
    "    'volatile',\n",
    "    'while',\n",
    "    'double',\n",
    "    'else',\n",
    "    'enum',\n",
    "    'extern',\n",
    "    'float',\n",
    "    'for',\n",
    "    'goto',\n",
    "    'if',\n",
    "    'printf',\n",
    "    'scanf',\n",
    "    'cos',\n",
    "    'malloc'\n",
    "]\n",
    "\n",
    "\n",
    "def allowed_variable(var):\n",
    "    pattern = re.compile(\"([a-z]|[A-Z]|_)+([a-z]|[A-Z]|[0-9]|_)*$\")\n",
    "    if (var not in reserved_words) and pattern.match(var):\n",
    "        return True\n",
    "    else:\n",
    "        return False\n",
    "\n",
    "allowed_variable('scanf')"
   ]
  },
  {
   "cell_type": "code",
   "execution_count": 6,
   "metadata": {},
   "outputs": [],
   "source": [
    "embedding_map = {}\n",
    "\n",
    "for index in range(len(vocab)):\n",
    "    if allowed_variable(word2vec.index2word[index]):\n",
    "        embedding_map[index] = leaf_embed(torch.tensor(index)).detach().numpy()"
   ]
  },
  {
   "cell_type": "markdown",
   "metadata": {},
   "source": [
    "# Var replace functions"
   ]
  },
  {
   "cell_type": "code",
   "execution_count": 7,
   "metadata": {},
   "outputs": [],
   "source": [
    "def replace_index(node, old_i, new_i):\n",
    "    i = node[0]\n",
    "    if i == old_i:\n",
    "        result = [new_i]\n",
    "    else:\n",
    "        result = [i]\n",
    "    children = node[1:]\n",
    "    for child in children:\n",
    "        result.append(replace_index(child, old_i, new_i))\n",
    "    return result\n",
    "\n",
    "def replace_var(x, old_i, new_i):\n",
    "    mod_blocks = []\n",
    "    for block in x:\n",
    "        mod_blocks.append(replace_index(block, old_i, new_i))\n",
    "\n",
    "    return mod_blocks"
   ]
  },
  {
   "cell_type": "markdown",
   "metadata": {},
   "source": [
    "# Closest Var functions"
   ]
  },
  {
   "cell_type": "code",
   "execution_count": 8,
   "metadata": {},
   "outputs": [],
   "source": [
    "def l2_norm(a, b):\n",
    "    return np.linalg.norm(a-b)\n",
    "\n",
    "def cos_sim(a, b):\n",
    "    return np.inner(a, b) / (np.linalg.norm(a) * np.linalg.norm(b))\n",
    "\n",
    "def closest_index(embedding, embedding_map, metric):\n",
    "    embedding = embedding.detach().numpy()\n",
    "    closest_i = list(embedding_map.keys())[0]\n",
    "    closest_dist = metric(embedding_map[closest_i], embedding)\n",
    "    for i, e in embedding_map.items():\n",
    "        d = metric(embedding_map[i], embedding)\n",
    "        if d < closest_dist:\n",
    "            closest_dist = d\n",
    "            closest_i = i\n",
    "    return closest_i\n",
    "\n",
    "def normalize(v):\n",
    "    norm = np.linalg.norm(v)\n",
    "    if norm == 0:\n",
    "        return v\n",
    "    return v / norm"
   ]
  },
  {
   "cell_type": "markdown",
   "metadata": {},
   "source": [
    "# Grad locating functions"
   ]
  },
  {
   "cell_type": "code",
   "execution_count": 9,
   "metadata": {},
   "outputs": [],
   "source": [
    "def get_embedding(indices, node_list):\n",
    "    '''\n",
    "    get the embeddings at the index positions in postorder traversal.\n",
    "    '''\n",
    "    res = []\n",
    "    c = 0\n",
    "    for i in range(node_list.size(0)):\n",
    "        if not np.all(node_list[i].detach().numpy() == 0):\n",
    "            if c in indices:\n",
    "                res.append(node_list[i])\n",
    "            c += 1\n",
    "    return res\n",
    "\n",
    "def post_order_loc(node, var, res, counter):\n",
    "    '''\n",
    "    \n",
    "    '''\n",
    "    index = node[0]\n",
    "    children = node[1:]\n",
    "    for child in children:\n",
    "        res, counter = post_order_loc(child, var, res, counter)\n",
    "    if var == index and (not children):\n",
    "        res.append(counter) \n",
    "#         print(counter, word2vec.index2word[index])\n",
    "    counter += 1\n",
    "    return res, counter\n",
    "\n",
    "def get_grad(x, var_index, node_list):\n",
    "    grads = []\n",
    "    for i, block in enumerate(x):\n",
    "        indices, _ = post_order_loc(block, var_index, [], 0)\n",
    "        grads += get_embedding(indices, node_list.grad[:, i, :])\n",
    "        try:\n",
    "            node_embedding = get_embedding(indices, node_list[:, i, :])[0]\n",
    "        except:\n",
    "            pass\n",
    "        \n",
    "    if len(grads) < 1:\n",
    "        return None, None\n",
    "    grad = torch.stack(grads).sum(dim=0)\n",
    "    return grad, node_embedding"
   ]
  },
  {
   "cell_type": "markdown",
   "metadata": {},
   "source": [
    "# Var name finder"
   ]
  },
  {
   "cell_type": "code",
   "execution_count": 10,
   "metadata": {},
   "outputs": [],
   "source": [
    "\n",
    "class declarationFinder(c_ast.NodeVisitor):\n",
    "    def __init__(self):\n",
    "        self.names = set()\n",
    "    \n",
    "    def visit_Decl(self, node):\n",
    "        if type(node.type) in [TypeDecl, ArrayDecl] :\n",
    "            self.names.add(node.name)\n",
    "\n",
    "def get_var_names(ast):\n",
    "    declaration_finder = declarationFinder()\n",
    "    declaration_finder.visit(ast)\n",
    "    return declaration_finder.names\n",
    "    \n",
    "# get_var_names(x)"
   ]
  },
  {
   "cell_type": "markdown",
   "metadata": {},
   "source": [
    "# FGSM\n",
    "\n",
    "with vars ordered and early exit"
   ]
  },
  {
   "cell_type": "code",
   "execution_count": 11,
   "metadata": {},
   "outputs": [],
   "source": [
    "# def gradient_method(x, n_list, var, epsilon, metric):\n",
    "\n",
    "#     orig_index = vocab[var].index if var in vocab else MAX_TOKEN\n",
    "\n",
    "#     grad, node_embedding = get_grad(x, orig_index, n_list)\n",
    "#     if grad is None:\n",
    "# #         print(\"no leaf occurences\")\n",
    "#         return None\n",
    "\n",
    "#     v = node_embedding.detach().numpy()\n",
    "#     g = torch.sign(grad).detach().numpy()\n",
    "    \n",
    "\n",
    "#     v = v + epsilon * g\n",
    "#     # get the closest emebedding from our map\n",
    "#     i = closest_index(v, sampled_embedding_map, metric)\n",
    "# #         print(\"orig name:\", word2vec.index2word[orig_index], \"; new name:\", word2vec.index2word[i])\n",
    "#     if i != orig_index:\n",
    "#         return replace_var(x, orig_index, i)\n",
    "#     else:\n",
    "#         return x"
   ]
  },
  {
   "cell_type": "code",
   "execution_count": 12,
   "metadata": {},
   "outputs": [],
   "source": [
    "MAX_TOKEN = word2vec.vectors.shape[0]"
   ]
  },
  {
   "cell_type": "code",
   "execution_count": 57,
   "metadata": {},
   "outputs": [],
   "source": [
    "import time\n",
    "import datetime\n",
    "\n",
    "\n",
    "      \n",
    "\n",
    "def evaluate(epsilon, limit = None, sort_vars = True):\n",
    "    \n",
    "    def dfs(var_array, embedding, depth, max_depth, breadth):\n",
    "        position = 0\n",
    "        for h, grad, node_embedding in var_array[:breadth]:\n",
    "\n",
    "            position += 1\n",
    "            \n",
    "#             print(depth, \":\", position)\n",
    "            \n",
    "            v = node_embedding\n",
    "            g = torch.sign(grad)\n",
    "\n",
    "            v = v + epsilon * g\n",
    "            # get the closest emebedding from our map\n",
    "            i = closest_index(v, sampled_embedding_map, l2_norm)\n",
    "            if i != orig_index:\n",
    "                new_x_l2 = replace_var(x, orig_index, i)\n",
    "\n",
    "                o = model([new_x_l2])\n",
    "                _, predicted_l2 = torch.max(o.data, 1)\n",
    "\n",
    "                if orig_pred != predicted_l2.item():\n",
    "                    return True\n",
    "                elif depth < max_depth:\n",
    "                    depth += 1\n",
    "                    if dfs(var_array[position:], new_x_l2, depth, max_depth, breadth):\n",
    "                        return True\n",
    "\n",
    "        return False\n",
    "\n",
    "    ast_count = 0\n",
    "    var_count = 0\n",
    "\n",
    "    ast_total = 0\n",
    "    var_total = 0\n",
    "\n",
    "    start = time.time()\n",
    "    for code_id in block_data['id'].tolist():\n",
    "    #     print(code_id)\n",
    "        x, ast = block_data['code'][code_id], ast_data['code'][code_id]\n",
    "\n",
    "        _, orig_pred = torch.max(model([x]).data, 1)\n",
    "        orig_pred = orig_pred.item()\n",
    "\n",
    "        # get the grad\n",
    "        loss_function = torch.nn.CrossEntropyLoss()\n",
    "        labels = torch.LongTensor([orig_pred])\n",
    "        output = model([x])\n",
    "        loss = loss_function(output, Variable(labels))\n",
    "        loss.backward()\n",
    "        n_list = model._modules['encoder'].node_list\n",
    "\n",
    "        var_names = get_var_names(ast)\n",
    "        success = False\n",
    "        \n",
    "        var_weighted = []        \n",
    "        for var in list(var_names):\n",
    "            \n",
    "            orig_index = vocab[var].index if var in vocab else MAX_TOKEN\n",
    "            grad, node_embedding = get_grad(x, orig_index, n_list)\n",
    "            if grad is not None:\n",
    "                h = abs((grad @ torch.sign(grad)).item())\n",
    "                var_weighted.append( (h, grad, node_embedding) )\n",
    "            \n",
    "        if sort_vars:\n",
    "            var_weighted = sorted(var_weighted, key=lambda x: x[0], reverse = True)\n",
    "        \n",
    "        success = dfs(var_weighted, x, 0, 1, 200)\n",
    "#         position = 0\n",
    "#         for h, grad, node_embedding in var_weighted:\n",
    "#             success = dfs(var_weighted[position:], x, 1, 2, 2)\n",
    "#             position += 1\n",
    "                    \n",
    "\n",
    "        if success:\n",
    "            ast_count += 1\n",
    "        ast_total += 1\n",
    "\n",
    "\n",
    "        if ast_total % 100 == 99:\n",
    "            eval_time = time.time() - start\n",
    "            eval_time = datetime.timedelta(seconds=eval_time)\n",
    "            print(ast_total, \";\", eval_time, \";\", 1-(ast_count / ast_total))\n",
    "    \n",
    "        if limit and limit < ast_total:\n",
    "            break\n",
    "    return (1-(ast_count / ast_total))\n"
   ]
  },
  {
   "cell_type": "code",
   "execution_count": 58,
   "metadata": {},
   "outputs": [],
   "source": [
    "# sample_rate = 0.2\n",
    "# sample_count = int(len(embedding_map) * sample_rate)\n",
    "# sampled_embedding_map = {key: embedding_map[key] for key in random.sample(embedding_map.keys(), sample_count)}\n",
    "\n",
    "sampled_embedding_map = embedding_map"
   ]
  },
  {
   "cell_type": "code",
   "execution_count": 59,
   "metadata": {
    "scrolled": true
   },
   "outputs": [
    {
     "name": "stdout",
     "output_type": "stream",
     "text": [
      "99 ; 0:01:28.329244 ; 0.6565656565656566\n",
      "199 ; 0:02:47.617379 ; 0.6532663316582914\n"
     ]
    },
    {
     "data": {
      "text/plain": [
       "0.6567164179104478"
      ]
     },
     "execution_count": 59,
     "metadata": {},
     "output_type": "execute_result"
    }
   ],
   "source": [
    "evaluate(10, 200)"
   ]
  },
  {
   "cell_type": "code",
   "execution_count": null,
   "metadata": {},
   "outputs": [],
   "source": []
  },
  {
   "cell_type": "code",
   "execution_count": 63,
   "metadata": {},
   "outputs": [
    {
     "name": "stdout",
     "output_type": "stream",
     "text": [
      "499 ; 0:04:00.305242 ; 0.312625250501002 ; 0.0018744142455482662\n",
      "999 ; 0:07:55.910463 ; 0.28928928928928926 ; 0.001549666821633349\n",
      "1499 ; 0:12:04.823769 ; 0.2768512341561041 ; 0.000307723869114781\n",
      "1999 ; 0:16:23.300302 ; 0.2861430715357679 ; 0.00038162112654556554\n",
      "2499 ; 0:20:23.635585 ; 0.2789115646258503 ; 0.0006702821278410822\n",
      "2999 ; 0:24:47.032227 ; 0.27742580860286764 ; 0.00015255530129672007\n",
      "3499 ; 0:28:43.148788 ; 0.280365818805373 ; 0.0003502933706979595\n",
      "3999 ; 0:32:58.659615 ; 0.28107026756689174 ; 0.00022941918709134707\n",
      "4499 ; 0:36:51.727335 ; 0.2871749277617248 ; 0.00017046810541747638\n",
      "4999 ; 0:41:12.731489 ; 0.28685737147429485 ; 0.00027516203986792224\n",
      "5499 ; 0:45:21.219873 ; 0.2864157119476268 ; 0.0002779167361458507\n",
      "5999 ; 0:49:32.404608 ; 0.28688114685780963 ; 0.00017856231824906892\n",
      "6499 ; 0:53:40.974759 ; 0.28619787659639945 ; 0.00011767751653369107\n",
      "6999 ; 0:57:54.167692 ; 0.28504072010287185 ; 0.00015286179110344375\n",
      "7499 ; 1:02:08.715865 ; 0.28417122282971063 ; 0.00016300582745833165\n",
      "7999 ; 1:06:03.428217 ; 0.2846605825728216 ; 0.00011473152822395595\n",
      "8499 ; 1:10:05.628948 ; 0.28344511118955174 ; 0.00010812369350537015\n",
      "8999 ; 1:13:56.885803 ; 0.28380931214579397 ; 0.00010224948875255624\n",
      "9499 ; 1:18:15.711674 ; 0.28245078429308346 ; 0.00012896777417742742\n",
      "9999 ; 1:22:12.143971 ; 0.28232823282328234 ; 0.0002301178203240059\n"
     ]
    },
    {
     "data": {
      "text/plain": [
       "(0.2821844053456398, 0.00013260840737302744)"
      ]
     },
     "execution_count": 63,
     "metadata": {},
     "output_type": "execute_result"
    }
   ],
   "source": [
    "success_stats = []\n",
    "evaluate(10)"
   ]
  },
  {
   "cell_type": "code",
   "execution_count": 64,
   "metadata": {},
   "outputs": [],
   "source": [
    "success_df = pd.DataFrame(success_stats, columns=[\"success\", \"heuristic\", \"position\"])"
   ]
  },
  {
   "cell_type": "code",
   "execution_count": 65,
   "metadata": {},
   "outputs": [
    {
     "data": {
      "text/html": [
       "<div>\n",
       "<style scoped>\n",
       "    .dataframe tbody tr th:only-of-type {\n",
       "        vertical-align: middle;\n",
       "    }\n",
       "\n",
       "    .dataframe tbody tr th {\n",
       "        vertical-align: top;\n",
       "    }\n",
       "\n",
       "    .dataframe thead th {\n",
       "        text-align: right;\n",
       "    }\n",
       "</style>\n",
       "<table border=\"1\" class=\"dataframe\">\n",
       "  <thead>\n",
       "    <tr style=\"text-align: right;\">\n",
       "      <th></th>\n",
       "      <th>success</th>\n",
       "      <th>heuristic</th>\n",
       "      <th>position</th>\n",
       "    </tr>\n",
       "  </thead>\n",
       "  <tbody>\n",
       "    <tr>\n",
       "      <th>0</th>\n",
       "      <td>False</td>\n",
       "      <td>0.016910</td>\n",
       "      <td>0</td>\n",
       "    </tr>\n",
       "    <tr>\n",
       "      <th>1</th>\n",
       "      <td>False</td>\n",
       "      <td>0.008668</td>\n",
       "      <td>1</td>\n",
       "    </tr>\n",
       "    <tr>\n",
       "      <th>2</th>\n",
       "      <td>False</td>\n",
       "      <td>0.008204</td>\n",
       "      <td>2</td>\n",
       "    </tr>\n",
       "    <tr>\n",
       "      <th>3</th>\n",
       "      <td>False</td>\n",
       "      <td>0.002410</td>\n",
       "      <td>3</td>\n",
       "    </tr>\n",
       "    <tr>\n",
       "      <th>4</th>\n",
       "      <td>False</td>\n",
       "      <td>0.001941</td>\n",
       "      <td>4</td>\n",
       "    </tr>\n",
       "    <tr>\n",
       "      <th>...</th>\n",
       "      <td>...</td>\n",
       "      <td>...</td>\n",
       "      <td>...</td>\n",
       "    </tr>\n",
       "    <tr>\n",
       "      <th>67864</th>\n",
       "      <td>False</td>\n",
       "      <td>1.607269</td>\n",
       "      <td>2</td>\n",
       "    </tr>\n",
       "    <tr>\n",
       "      <th>67865</th>\n",
       "      <td>True</td>\n",
       "      <td>1.213506</td>\n",
       "      <td>4</td>\n",
       "    </tr>\n",
       "    <tr>\n",
       "      <th>67866</th>\n",
       "      <td>False</td>\n",
       "      <td>0.761030</td>\n",
       "      <td>5</td>\n",
       "    </tr>\n",
       "    <tr>\n",
       "      <th>67867</th>\n",
       "      <td>False</td>\n",
       "      <td>0.483132</td>\n",
       "      <td>6</td>\n",
       "    </tr>\n",
       "    <tr>\n",
       "      <th>67868</th>\n",
       "      <td>True</td>\n",
       "      <td>0.441766</td>\n",
       "      <td>8</td>\n",
       "    </tr>\n",
       "  </tbody>\n",
       "</table>\n",
       "<p>67869 rows × 3 columns</p>\n",
       "</div>"
      ],
      "text/plain": [
       "       success  heuristic  position\n",
       "0        False   0.016910         0\n",
       "1        False   0.008668         1\n",
       "2        False   0.008204         2\n",
       "3        False   0.002410         3\n",
       "4        False   0.001941         4\n",
       "...        ...        ...       ...\n",
       "67864    False   1.607269         2\n",
       "67865     True   1.213506         4\n",
       "67866    False   0.761030         5\n",
       "67867    False   0.483132         6\n",
       "67868     True   0.441766         8\n",
       "\n",
       "[67869 rows x 3 columns]"
      ]
     },
     "execution_count": 65,
     "metadata": {},
     "output_type": "execute_result"
    }
   ],
   "source": [
    "success_df"
   ]
  },
  {
   "cell_type": "code",
   "execution_count": 66,
   "metadata": {},
   "outputs": [
    {
     "data": {
      "text/plain": [
       "array([[<AxesSubplot:title={'center':'heuristic'}>]], dtype=object)"
      ]
     },
     "execution_count": 66,
     "metadata": {},
     "output_type": "execute_result"
    },
    {
     "data": {
      "image/png": "[encoded data removed]",
      "text/plain": [
       "<Figure size 432x288 with 1 Axes>"
      ]
     },
     "metadata": {
      "needs_background": "light"
     },
     "output_type": "display_data"
    }
   ],
   "source": [
    "success_df.hist(\"heuristic\")\n",
    "# success_df.hist(\"heuristic\", by=\"success\", sharex=True)"
   ]
  },
  {
   "cell_type": "code",
   "execution_count": 68,
   "metadata": {},
   "outputs": [
    {
     "data": {
      "text/html": [
       "<div>\n",
       "<style scoped>\n",
       "    .dataframe tbody tr th:only-of-type {\n",
       "        vertical-align: middle;\n",
       "    }\n",
       "\n",
       "    .dataframe tbody tr th {\n",
       "        vertical-align: top;\n",
       "    }\n",
       "\n",
       "    .dataframe thead th {\n",
       "        text-align: right;\n",
       "    }\n",
       "</style>\n",
       "<table border=\"1\" class=\"dataframe\">\n",
       "  <thead>\n",
       "    <tr style=\"text-align: right;\">\n",
       "      <th></th>\n",
       "      <th>success</th>\n",
       "      <th>heuristic</th>\n",
       "      <th>position</th>\n",
       "    </tr>\n",
       "    <tr>\n",
       "      <th>heuristic</th>\n",
       "      <th></th>\n",
       "      <th></th>\n",
       "      <th></th>\n",
       "    </tr>\n",
       "  </thead>\n",
       "  <tbody>\n",
       "    <tr>\n",
       "      <th>(-0.0602, 6.019]</th>\n",
       "      <td>66443</td>\n",
       "      <td>66443</td>\n",
       "      <td>66443</td>\n",
       "    </tr>\n",
       "    <tr>\n",
       "      <th>(6.019, 12.038]</th>\n",
       "      <td>1067</td>\n",
       "      <td>1067</td>\n",
       "      <td>1067</td>\n",
       "    </tr>\n",
       "    <tr>\n",
       "      <th>(12.038, 18.057]</th>\n",
       "      <td>251</td>\n",
       "      <td>251</td>\n",
       "      <td>251</td>\n",
       "    </tr>\n",
       "    <tr>\n",
       "      <th>(18.057, 24.077]</th>\n",
       "      <td>67</td>\n",
       "      <td>67</td>\n",
       "      <td>67</td>\n",
       "    </tr>\n",
       "    <tr>\n",
       "      <th>(24.077, 30.096]</th>\n",
       "      <td>27</td>\n",
       "      <td>27</td>\n",
       "      <td>27</td>\n",
       "    </tr>\n",
       "    <tr>\n",
       "      <th>(30.096, 36.115]</th>\n",
       "      <td>8</td>\n",
       "      <td>8</td>\n",
       "      <td>8</td>\n",
       "    </tr>\n",
       "    <tr>\n",
       "      <th>(36.115, 42.134]</th>\n",
       "      <td>2</td>\n",
       "      <td>2</td>\n",
       "      <td>2</td>\n",
       "    </tr>\n",
       "    <tr>\n",
       "      <th>(42.134, 48.153]</th>\n",
       "      <td>3</td>\n",
       "      <td>3</td>\n",
       "      <td>3</td>\n",
       "    </tr>\n",
       "    <tr>\n",
       "      <th>(48.153, 54.172]</th>\n",
       "      <td>0</td>\n",
       "      <td>0</td>\n",
       "      <td>0</td>\n",
       "    </tr>\n",
       "    <tr>\n",
       "      <th>(54.172, 60.191]</th>\n",
       "      <td>1</td>\n",
       "      <td>1</td>\n",
       "      <td>1</td>\n",
       "    </tr>\n",
       "  </tbody>\n",
       "</table>\n",
       "</div>"
      ],
      "text/plain": [
       "                  success  heuristic  position\n",
       "heuristic                                     \n",
       "(-0.0602, 6.019]    66443      66443     66443\n",
       "(6.019, 12.038]      1067       1067      1067\n",
       "(12.038, 18.057]      251        251       251\n",
       "(18.057, 24.077]       67         67        67\n",
       "(24.077, 30.096]       27         27        27\n",
       "(30.096, 36.115]        8          8         8\n",
       "(36.115, 42.134]        2          2         2\n",
       "(42.134, 48.153]        3          3         3\n",
       "(48.153, 54.172]        0          0         0\n",
       "(54.172, 60.191]        1          1         1"
      ]
     },
     "execution_count": 68,
     "metadata": {},
     "output_type": "execute_result"
    }
   ],
   "source": [
    "success_df.groupby(pd.cut(success_df[\"heuristic\"], bins=10)).count()"
   ]
  },
  {
   "cell_type": "code",
   "execution_count": 72,
   "metadata": {},
   "outputs": [
    {
     "name": "stdout",
     "output_type": "stream",
     "text": [
      "                   success  heuristic  position\n",
      "heuristic                                      \n",
      "(-0.0602, 6.019]  0.104074   0.327191  3.809401\n",
      "(6.019, 12.038]   0.679475   8.381958  2.872540\n",
      "(12.038, 18.057]  0.776892  14.425771  2.143426\n",
      "(18.057, 24.077]  0.761194  20.556353  1.253731\n",
      "(24.077, 30.096]  0.814815  26.347666  1.259259\n",
      "(30.096, 36.115]  1.000000  34.074998  1.000000\n",
      "(36.115, 42.134]  1.000000  36.915886  3.000000\n",
      "(42.134, 48.153]  1.000000  43.565839  1.000000\n",
      "(48.153, 54.172]       NaN        NaN       NaN\n",
      "(54.172, 60.191]  1.000000  60.191269  1.000000\n"
     ]
    },
    {
     "data": {
      "text/plain": [
       "<AxesSubplot:xlabel='heuristic'>"
      ]
     },
     "execution_count": 72,
     "metadata": {},
     "output_type": "execute_result"
    },
    {
     "data": {
      "image/png": "[encoded data removed]",
      "text/plain": [
       "<Figure size 432x288 with 1 Axes>"
      ]
     },
     "metadata": {
      "needs_background": "light"
     },
     "output_type": "display_data"
    }
   ],
   "source": [
    "binned = success_df.groupby(pd.cut(success_df[\"heuristic\"], bins=10)).mean()\n",
    "print(binned)\n",
    "binned.plot.bar(\"heuristic\", \"success\")"
   ]
  },
  {
   "cell_type": "code",
   "execution_count": 71,
   "metadata": {},
   "outputs": [
    {
     "name": "stdout",
     "output_type": "stream",
     "text": [
      "                    success  heuristic  position\n",
      "heuristic                                       \n",
      "(-0.00998, 0.499]  0.059285   0.058100  3.787101\n",
      "(0.499, 0.998]     0.243902   0.714855  3.801646\n",
      "(0.998, 1.497]     0.319319   1.222475  4.077169\n",
      "(1.497, 1.997]     0.388046   1.729759  4.012489\n",
      "(1.997, 2.496]     0.423913   2.235981  4.256039\n",
      "(2.496, 2.995]     0.475329   2.724269  4.203947\n",
      "(2.995, 3.494]     0.506692   3.230043  4.070746\n",
      "(3.494, 3.993]     0.471322   3.734476  3.842893\n",
      "(3.993, 4.492]     0.572816   4.232680  3.760518\n",
      "(4.492, 4.991]     0.558719   4.738774  3.704626\n",
      "(4.991, 5.49]      0.589212   5.226289  3.211618\n",
      "(5.49, 5.99]       0.566327   5.715488  3.750000\n",
      "(5.99, 6.489]      0.617647   6.223424  3.570588\n",
      "(6.489, 6.988]     0.629921   6.734098  2.913386\n",
      "(6.988, 7.487]     0.692308   7.221438  3.358974\n",
      "(7.487, 7.986]     0.702479   7.736778  3.206612\n",
      "(7.986, 8.485]     0.775281   8.247984  2.943820\n",
      "(8.485, 8.984]     0.692308   8.703043  2.476923\n",
      "(8.984, 9.483]     0.690476   9.221609  2.559524\n",
      "(9.483, 9.983]     0.740260   9.730522  2.168831\n"
     ]
    },
    {
     "data": {
      "text/plain": [
       "<AxesSubplot:xlabel='heuristic'>"
      ]
     },
     "execution_count": 71,
     "metadata": {},
     "output_type": "execute_result"
    },
    {
     "data": {
      "image/png": "[encoded data removed]",
      "text/plain": [
       "<Figure size 432x288 with 1 Axes>"
      ]
     },
     "metadata": {
      "needs_background": "light"
     },
     "output_type": "display_data"
    }
   ],
   "source": [
    "filtered = success_df[success_df[\"heuristic\"]<10]\n",
    "binned = filtered.groupby(pd.cut(filtered[\"heuristic\"], bins=20)).mean()\n",
    "print(binned)\n",
    "binned.plot.bar(\"heuristic\", \"success\")"
   ]
  },
  {
   "cell_type": "code",
   "execution_count": 45,
   "metadata": {
    "scrolled": true
   },
   "outputs": [
    {
     "data": {
      "text/html": [
       "<div>\n",
       "<style scoped>\n",
       "    .dataframe tbody tr th:only-of-type {\n",
       "        vertical-align: middle;\n",
       "    }\n",
       "\n",
       "    .dataframe tbody tr th {\n",
       "        vertical-align: top;\n",
       "    }\n",
       "\n",
       "    .dataframe thead th {\n",
       "        text-align: right;\n",
       "    }\n",
       "</style>\n",
       "<table border=\"1\" class=\"dataframe\">\n",
       "  <thead>\n",
       "    <tr style=\"text-align: right;\">\n",
       "      <th></th>\n",
       "      <th>success</th>\n",
       "      <th>heuristic</th>\n",
       "    </tr>\n",
       "    <tr>\n",
       "      <th>position</th>\n",
       "      <th></th>\n",
       "      <th></th>\n",
       "    </tr>\n",
       "  </thead>\n",
       "  <tbody>\n",
       "    <tr>\n",
       "      <th>0</th>\n",
       "      <td>0.000000</td>\n",
       "      <td>0.618689</td>\n",
       "    </tr>\n",
       "    <tr>\n",
       "      <th>1</th>\n",
       "      <td>0.173820</td>\n",
       "      <td>1.216964</td>\n",
       "    </tr>\n",
       "    <tr>\n",
       "      <th>2</th>\n",
       "      <td>0.057348</td>\n",
       "      <td>0.455509</td>\n",
       "    </tr>\n",
       "    <tr>\n",
       "      <th>3</th>\n",
       "      <td>0.134571</td>\n",
       "      <td>0.741115</td>\n",
       "    </tr>\n",
       "    <tr>\n",
       "      <th>4</th>\n",
       "      <td>0.076190</td>\n",
       "      <td>0.311906</td>\n",
       "    </tr>\n",
       "    <tr>\n",
       "      <th>5</th>\n",
       "      <td>0.157975</td>\n",
       "      <td>0.544603</td>\n",
       "    </tr>\n",
       "    <tr>\n",
       "      <th>6</th>\n",
       "      <td>0.110220</td>\n",
       "      <td>0.311196</td>\n",
       "    </tr>\n",
       "    <tr>\n",
       "      <th>7</th>\n",
       "      <td>0.170732</td>\n",
       "      <td>0.555716</td>\n",
       "    </tr>\n",
       "    <tr>\n",
       "      <th>8</th>\n",
       "      <td>0.157676</td>\n",
       "      <td>0.322255</td>\n",
       "    </tr>\n",
       "    <tr>\n",
       "      <th>9</th>\n",
       "      <td>0.250000</td>\n",
       "      <td>0.636130</td>\n",
       "    </tr>\n",
       "    <tr>\n",
       "      <th>10</th>\n",
       "      <td>0.261261</td>\n",
       "      <td>0.462422</td>\n",
       "    </tr>\n",
       "    <tr>\n",
       "      <th>11</th>\n",
       "      <td>0.333333</td>\n",
       "      <td>0.808477</td>\n",
       "    </tr>\n",
       "    <tr>\n",
       "      <th>12</th>\n",
       "      <td>0.275000</td>\n",
       "      <td>0.625353</td>\n",
       "    </tr>\n",
       "    <tr>\n",
       "      <th>13</th>\n",
       "      <td>0.470588</td>\n",
       "      <td>1.165908</td>\n",
       "    </tr>\n",
       "    <tr>\n",
       "      <th>14</th>\n",
       "      <td>0.291667</td>\n",
       "      <td>0.914880</td>\n",
       "    </tr>\n",
       "    <tr>\n",
       "      <th>15</th>\n",
       "      <td>0.470588</td>\n",
       "      <td>1.416889</td>\n",
       "    </tr>\n",
       "    <tr>\n",
       "      <th>16</th>\n",
       "      <td>0.285714</td>\n",
       "      <td>0.746244</td>\n",
       "    </tr>\n",
       "    <tr>\n",
       "      <th>17</th>\n",
       "      <td>0.714286</td>\n",
       "      <td>1.177821</td>\n",
       "    </tr>\n",
       "    <tr>\n",
       "      <th>18</th>\n",
       "      <td>0.500000</td>\n",
       "      <td>1.252921</td>\n",
       "    </tr>\n",
       "    <tr>\n",
       "      <th>19</th>\n",
       "      <td>0.500000</td>\n",
       "      <td>0.340499</td>\n",
       "    </tr>\n",
       "    <tr>\n",
       "      <th>20</th>\n",
       "      <td>0.666667</td>\n",
       "      <td>1.149017</td>\n",
       "    </tr>\n",
       "    <tr>\n",
       "      <th>21</th>\n",
       "      <td>0.000000</td>\n",
       "      <td>0.082460</td>\n",
       "    </tr>\n",
       "    <tr>\n",
       "      <th>22</th>\n",
       "      <td>1.000000</td>\n",
       "      <td>1.981681</td>\n",
       "    </tr>\n",
       "    <tr>\n",
       "      <th>23</th>\n",
       "      <td>0.500000</td>\n",
       "      <td>0.657543</td>\n",
       "    </tr>\n",
       "  </tbody>\n",
       "</table>\n",
       "</div>"
      ],
      "text/plain": [
       "           success  heuristic\n",
       "position                     \n",
       "0         0.000000   0.618689\n",
       "1         0.173820   1.216964\n",
       "2         0.057348   0.455509\n",
       "3         0.134571   0.741115\n",
       "4         0.076190   0.311906\n",
       "5         0.157975   0.544603\n",
       "6         0.110220   0.311196\n",
       "7         0.170732   0.555716\n",
       "8         0.157676   0.322255\n",
       "9         0.250000   0.636130\n",
       "10        0.261261   0.462422\n",
       "11        0.333333   0.808477\n",
       "12        0.275000   0.625353\n",
       "13        0.470588   1.165908\n",
       "14        0.291667   0.914880\n",
       "15        0.470588   1.416889\n",
       "16        0.285714   0.746244\n",
       "17        0.714286   1.177821\n",
       "18        0.500000   1.252921\n",
       "19        0.500000   0.340499\n",
       "20        0.666667   1.149017\n",
       "21        0.000000   0.082460\n",
       "22        1.000000   1.981681\n",
       "23        0.500000   0.657543"
      ]
     },
     "execution_count": 45,
     "metadata": {},
     "output_type": "execute_result"
    }
   ],
   "source": [
    "success_df.groupby(success_df[\"position\"]).mean()"
   ]
  },
  {
   "cell_type": "code",
   "execution_count": 29,
   "metadata": {},
   "outputs": [
    {
     "data": {
      "text/plain": [
       "0       (-0.0255, 2.547]\n",
       "1       (-0.0255, 2.547]\n",
       "2       (-0.0255, 2.547]\n",
       "3       (-0.0255, 2.547]\n",
       "4       (-0.0255, 2.547]\n",
       "              ...       \n",
       "1325    (-0.0255, 2.547]\n",
       "1326    (-0.0255, 2.547]\n",
       "1327    (-0.0255, 2.547]\n",
       "1328    (-0.0255, 2.547]\n",
       "1329    (-0.0255, 2.547]\n",
       "Name: heuristic, Length: 1330, dtype: category\n",
       "Categories (10, interval[float64]): [(-0.0255, 2.547] < (2.547, 5.094] < (5.094, 7.641] < (7.641, 10.187] ... (15.281, 17.828] < (17.828, 20.375] < (20.375, 22.922] < (22.922, 25.468]]"
      ]
     },
     "execution_count": 29,
     "metadata": {},
     "output_type": "execute_result"
    }
   ],
   "source": [
    "pd.cut(success_df[\"heuristic\"], bins=10)"
   ]
  },
  {
   "cell_type": "code",
   "execution_count": null,
   "metadata": {},
   "outputs": [],
   "source": []
  }
 ],
 "metadata": {
  "kernelspec": {
   "display_name": "Python 3",
   "language": "python",
   "name": "python3"
  },
  "language_info": {
   "codemirror_mode": {
    "name": "ipython",
    "version": 3
   },
   "file_extension": ".py",
   "mimetype": "text/x-python",
   "name": "python",
   "nbconvert_exporter": "python",
   "pygments_lexer": "ipython3",
   "version": "3.8.5"
  }
 },
 "nbformat": 4,
 "nbformat_minor": 4
}
