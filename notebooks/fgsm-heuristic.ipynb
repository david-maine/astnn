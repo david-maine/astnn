{
 "cells": [
  {
   "cell_type": "code",
   "execution_count": 1,
   "metadata": {},
   "outputs": [],
   "source": [
    "import os\n",
    "import sys\n",
    "module_path = os.path.abspath(os.path.join('..'))\n",
    "if module_path not in sys.path:\n",
    "    sys.path.append(module_path)\n",
    "    \n",
    "import pandas as pd\n",
    "import random\n",
    "import torch\n",
    "import time\n",
    "import numpy as np\n",
    "from gensim.models.word2vec import Word2Vec\n",
    "from model import BatchProgramClassifier\n",
    "from torch.autograd import Variable\n",
    "from torch.utils.data import DataLoader\n",
    "\n",
    "import torch.nn as nn\n",
    "import torch.nn.functional as F\n",
    "import torch\n",
    "from torch.autograd import Variable\n",
    "\n",
    "import re\n",
    "\n",
    "from pycparser.c_ast import TypeDecl, ArrayDecl\n",
    "from pycparser import c_ast"
   ]
  },
  {
   "cell_type": "code",
   "execution_count": 2,
   "metadata": {},
   "outputs": [
    {
     "data": {
      "text/plain": [
       "<All keys matched successfully>"
      ]
     },
     "execution_count": 2,
     "metadata": {},
     "output_type": "execute_result"
    }
   ],
   "source": [
    "root = '/home/david/projects/university/astnn/data/'\n",
    "\n",
    "word2vec = Word2Vec.load(root+\"train/embedding/node_w2v_128\").wv\n",
    "embeddings = np.zeros((word2vec.vectors.shape[0] + 1, word2vec.vectors.shape[1]), dtype=\"float32\")\n",
    "embeddings[:word2vec.vectors.shape[0]] = word2vec.vectors\n",
    "\n",
    "HIDDEN_DIM = 100\n",
    "ENCODE_DIM = 128\n",
    "LABELS = 104\n",
    "EPOCHS = 15\n",
    "BATCH_SIZE = 1\n",
    "USE_GPU = False\n",
    "MAX_TOKENS = word2vec.vectors.shape[0]\n",
    "EMBEDDING_DIM = word2vec.vectors.shape[1]\n",
    "\n",
    "model = BatchProgramClassifier(EMBEDDING_DIM,HIDDEN_DIM,MAX_TOKENS+1,ENCODE_DIM,LABELS,BATCH_SIZE,\n",
    "                               USE_GPU, embeddings)\n",
    "model.load_state_dict(torch.load(\"/home/david/projects/university/astnn/model.pt\"))"
   ]
  },
  {
   "cell_type": "markdown",
   "metadata": {},
   "source": [
    "# Load Data"
   ]
  },
  {
   "cell_type": "code",
   "execution_count": 3,
   "metadata": {},
   "outputs": [],
   "source": [
    "word2vec = Word2Vec.load('/home/david/projects/university/astnn/data/train/embedding/node_w2v_128').wv\n",
    "vocab = word2vec.vocab\n",
    "\n",
    "ast_data = pd.read_pickle(root+'test/test_.pkl')\n",
    "block_data = pd.read_pickle(root+'test/blocks.pkl')"
   ]
  },
  {
   "cell_type": "markdown",
   "metadata": {},
   "source": [
    "# Allowed var names"
   ]
  },
  {
   "cell_type": "code",
   "execution_count": 4,
   "metadata": {},
   "outputs": [],
   "source": [
    "leaf_embed = nn.Sequential(\n",
    "    model._modules['encoder']._modules['embedding'],\n",
    "    model._modules['encoder']._modules['W_c']\n",
    ")"
   ]
  },
  {
   "cell_type": "code",
   "execution_count": 5,
   "metadata": {
    "scrolled": true
   },
   "outputs": [
    {
     "data": {
      "text/plain": [
       "False"
      ]
     },
     "execution_count": 5,
     "metadata": {},
     "output_type": "execute_result"
    }
   ],
   "source": [
    "# words we wont allow as variable names\n",
    "reserved_words = [\n",
    "    'auto',\n",
    "    'break',\n",
    "    'case',\n",
    "    'char',\n",
    "    'const',\n",
    "    'continue',\n",
    "    'default',\n",
    "    'do',\n",
    "    'int',\n",
    "    'long',\n",
    "    'register',\n",
    "    'return',\n",
    "    'short',\n",
    "    'sizeof',\n",
    "    'static',\n",
    "    'struct',\n",
    "    'switch',\n",
    "    'typedef',\n",
    "    'union',\n",
    "    'unsigned',\n",
    "    'void',\n",
    "    'volatile',\n",
    "    'while',\n",
    "    'double',\n",
    "    'else',\n",
    "    'enum',\n",
    "    'extern',\n",
    "    'float',\n",
    "    'for',\n",
    "    'goto',\n",
    "    'if',\n",
    "    'printf',\n",
    "    'scanf',\n",
    "    'cos',\n",
    "    'malloc'\n",
    "]\n",
    "\n",
    "\n",
    "def allowed_variable(var):\n",
    "    pattern = re.compile(\"([a-z]|[A-Z]|_)+([a-z]|[A-Z]|[0-9]|_)*$\")\n",
    "    if (var not in reserved_words) and pattern.match(var):\n",
    "        return True\n",
    "    else:\n",
    "        return False\n",
    "\n",
    "allowed_variable('scanf')"
   ]
  },
  {
   "cell_type": "code",
   "execution_count": 6,
   "metadata": {},
   "outputs": [],
   "source": [
    "embedding_map = {}\n",
    "\n",
    "for index in range(len(vocab)):\n",
    "    if allowed_variable(word2vec.index2word[index]):\n",
    "        embedding_map[index] = leaf_embed(torch.tensor(index)).detach().numpy()"
   ]
  },
  {
   "cell_type": "markdown",
   "metadata": {},
   "source": [
    "# Var replace functions"
   ]
  },
  {
   "cell_type": "code",
   "execution_count": 7,
   "metadata": {},
   "outputs": [],
   "source": [
    "def replace_index(node, old_i, new_i):\n",
    "    i = node[0]\n",
    "    if i == old_i:\n",
    "        result = [new_i]\n",
    "    else:\n",
    "        result = [i]\n",
    "    children = node[1:]\n",
    "    for child in children:\n",
    "        result.append(replace_index(child, old_i, new_i))\n",
    "    return result\n",
    "\n",
    "def replace_var(x, old_i, new_i):\n",
    "    mod_blocks = []\n",
    "    for block in x:\n",
    "        mod_blocks.append(replace_index(block, old_i, new_i))\n",
    "\n",
    "    return mod_blocks"
   ]
  },
  {
   "cell_type": "markdown",
   "metadata": {},
   "source": [
    "# Closest Var functions"
   ]
  },
  {
   "cell_type": "code",
   "execution_count": 8,
   "metadata": {},
   "outputs": [],
   "source": [
    "def l2_norm(a, b):\n",
    "    return np.linalg.norm(a-b)\n",
    "\n",
    "def cos_sim(a, b):\n",
    "    return np.inner(a, b) / (np.linalg.norm(a) * np.linalg.norm(b))\n",
    "\n",
    "def closest_index(embedding, embedding_map, metric):\n",
    "    embedding = embedding.detach().numpy()\n",
    "    closest_i = list(embedding_map.keys())[0]\n",
    "    closest_dist = metric(embedding_map[closest_i], embedding)\n",
    "    for i, e in embedding_map.items():\n",
    "        d = metric(embedding_map[i], embedding)\n",
    "        if d < closest_dist:\n",
    "            closest_dist = d\n",
    "            closest_i = i\n",
    "    return closest_i\n",
    "\n",
    "def normalize(v):\n",
    "    norm = np.linalg.norm(v)\n",
    "    if norm == 0:\n",
    "        return v\n",
    "    return v / norm"
   ]
  },
  {
   "cell_type": "markdown",
   "metadata": {},
   "source": [
    "# Grad locating functions"
   ]
  },
  {
   "cell_type": "code",
   "execution_count": 9,
   "metadata": {},
   "outputs": [],
   "source": [
    "def get_embedding(indices, node_list):\n",
    "    '''\n",
    "    get the embeddings at the index positions in postorder traversal.\n",
    "    '''\n",
    "    res = []\n",
    "    c = 0\n",
    "    for i in range(node_list.size(0)):\n",
    "        if not np.all(node_list[i].detach().numpy() == 0):\n",
    "            if c in indices:\n",
    "                res.append(node_list[i])\n",
    "            c += 1\n",
    "    return res\n",
    "\n",
    "def post_order_loc(node, var, res, counter):\n",
    "    '''\n",
    "    \n",
    "    '''\n",
    "    index = node[0]\n",
    "    children = node[1:]\n",
    "    for child in children:\n",
    "        res, counter = post_order_loc(child, var, res, counter)\n",
    "    if var == index and (not children):\n",
    "        res.append(counter) \n",
    "#         print(counter, word2vec.index2word[index])\n",
    "    counter += 1\n",
    "    return res, counter\n",
    "\n",
    "def get_grad(x, var_index, node_list):\n",
    "    grads = []\n",
    "    for i, block in enumerate(x):\n",
    "        indices, _ = post_order_loc(block, var_index, [], 0)\n",
    "        grads += get_embedding(indices, node_list.grad[:, i, :])\n",
    "        try:\n",
    "            node_embedding = get_embedding(indices, node_list[:, i, :])[0]\n",
    "        except:\n",
    "            pass\n",
    "        \n",
    "    if len(grads) < 1:\n",
    "        return None, None\n",
    "    grad = torch.stack(grads).sum(dim=0)\n",
    "    return grad, node_embedding"
   ]
  },
  {
   "cell_type": "markdown",
   "metadata": {},
   "source": [
    "# Var name finder"
   ]
  },
  {
   "cell_type": "code",
   "execution_count": 10,
   "metadata": {},
   "outputs": [],
   "source": [
    "\n",
    "class declarationFinder(c_ast.NodeVisitor):\n",
    "    def __init__(self):\n",
    "        self.names = set()\n",
    "    \n",
    "    def visit_Decl(self, node):\n",
    "        if type(node.type) in [TypeDecl, ArrayDecl] :\n",
    "            self.names.add(node.name)\n",
    "\n",
    "def get_var_names(ast):\n",
    "    declaration_finder = declarationFinder()\n",
    "    declaration_finder.visit(ast)\n",
    "    return declaration_finder.names\n",
    "    \n",
    "# get_var_names(x)"
   ]
  },
  {
   "cell_type": "markdown",
   "metadata": {},
   "source": [
    "# FGSM\n",
    "\n",
    "with vars ordered and early exit"
   ]
  },
  {
   "cell_type": "code",
   "execution_count": 11,
   "metadata": {},
   "outputs": [],
   "source": [
    "# def gradient_method(x, n_list, var, epsilon, metric):\n",
    "\n",
    "#     orig_index = vocab[var].index if var in vocab else MAX_TOKEN\n",
    "\n",
    "#     grad, node_embedding = get_grad(x, orig_index, n_list)\n",
    "#     if grad is None:\n",
    "# #         print(\"no leaf occurences\")\n",
    "#         return None\n",
    "\n",
    "#     v = node_embedding.detach().numpy()\n",
    "#     g = torch.sign(grad).detach().numpy()\n",
    "    \n",
    "\n",
    "#     v = v + epsilon * g\n",
    "#     # get the closest emebedding from our map\n",
    "#     i = closest_index(v, sampled_embedding_map, metric)\n",
    "# #         print(\"orig name:\", word2vec.index2word[orig_index], \"; new name:\", word2vec.index2word[i])\n",
    "#     if i != orig_index:\n",
    "#         return replace_var(x, orig_index, i)\n",
    "#     else:\n",
    "#         return x"
   ]
  },
  {
   "cell_type": "code",
   "execution_count": 12,
   "metadata": {},
   "outputs": [],
   "source": [
    "MAX_TOKEN = word2vec.vectors.shape[0]"
   ]
  },
  {
   "cell_type": "code",
   "execution_count": 26,
   "metadata": {},
   "outputs": [],
   "source": [
    "import time\n",
    "import datetime\n",
    "\n",
    "success_stats = []\n",
    "\n",
    "def evaluate(epsilon, limit = None, sort_vars = True):\n",
    "    ast_count = 0\n",
    "    var_count = 0\n",
    "\n",
    "    ast_total = 0\n",
    "    var_total = 0\n",
    "\n",
    "    start = time.time()\n",
    "    for code_id in block_data['id'].tolist():\n",
    "    #     print(code_id)\n",
    "        x, ast = block_data['code'][code_id], ast_data['code'][code_id]\n",
    "\n",
    "        _, orig_pred = torch.max(model([x]).data, 1)\n",
    "        orig_pred = orig_pred.item()\n",
    "\n",
    "        # get the grad\n",
    "        loss_function = torch.nn.CrossEntropyLoss()\n",
    "        labels = torch.LongTensor([orig_pred])\n",
    "        output = model([x])\n",
    "        loss = loss_function(output, Variable(labels))\n",
    "        loss.backward()\n",
    "        n_list = model._modules['encoder'].node_list\n",
    "\n",
    "        var_names = get_var_names(ast)\n",
    "        success = False\n",
    "        \n",
    "        var_weighted = []\n",
    "        for var in list(var_names):\n",
    "            \n",
    "            orig_index = vocab[var].index if var in vocab else MAX_TOKEN\n",
    "            grad, node_embedding = get_grad(x, orig_index, n_list)\n",
    "            if grad is not None:\n",
    "                # l1\n",
    "                h = abs((grad @ torch.sign(grad)).item())\n",
    "                # l2\n",
    "                var_weighted.append( (h, grad, node_embedding) )\n",
    "            \n",
    "        if sort_vars:\n",
    "            var_weighted = sorted(var_weighted, key=lambda x: x[0], reverse = True)\n",
    "        \n",
    "        var_count=0\n",
    "        \n",
    "        depth = 2\n",
    "        var_index = 0\n",
    "                    \n",
    "        \n",
    "        for h, grad, node_embedding in var_weighted:\n",
    "            \n",
    "            v = node_embedding\n",
    "            g = torch.sign(grad)\n",
    "\n",
    "            v = v + epsilon * g\n",
    "            # get the closest emebedding from our map\n",
    "            i = closest_index(v, sampled_embedding_map, l2_norm)\n",
    "            if i != orig_index:\n",
    "                new_x_l2 = replace_var(x, orig_index, i)\n",
    "            else:\n",
    "                new_x_l2 = x\n",
    "            \n",
    "            if new_x_l2:\n",
    "                o = model([new_x_l2])\n",
    "                _, predicted_l2 = torch.max(o.data, 1)\n",
    "\n",
    "    #             print(orig_pred, predicted_l2.item())\n",
    "                var_total += 1\n",
    "                if orig_pred != predicted_l2.item():\n",
    "                    var_count += 1\n",
    "                    success = True\n",
    "                    success_stats.append((False, h, var_count))\n",
    "                else:\n",
    "                    success_stats.append((True, h, var_count))\n",
    "                    \n",
    "            var_count += 1\n",
    "                    \n",
    "\n",
    "        if success:\n",
    "            ast_count += 1\n",
    "        ast_total += 1\n",
    "\n",
    "\n",
    "        if ast_total % 500 == 499:\n",
    "            eval_time = time.time() - start\n",
    "            eval_time = datetime.timedelta(seconds=eval_time)\n",
    "            print(ast_total, \";\", eval_time, \";\", ast_count / ast_total, \";\", var_count / var_total)\n",
    "    \n",
    "        if limit and limit < ast_total:\n",
    "            break\n",
    "    return (ast_count / ast_total, var_count / var_total)\n"
   ]
  },
  {
   "cell_type": "code",
   "execution_count": 27,
   "metadata": {},
   "outputs": [],
   "source": [
    "# sample_rate = 0.2\n",
    "# sample_count = int(len(embedding_map) * sample_rate)\n",
    "# sampled_embedding_map = {key: embedding_map[key] for key in random.sample(embedding_map.keys(), sample_count)}\n",
    "\n",
    "sampled_embedding_map = embedding_map"
   ]
  },
  {
   "cell_type": "code",
   "execution_count": 28,
   "metadata": {},
   "outputs": [
    {
     "name": "stdout",
     "output_type": "stream",
     "text": [
      "499 ; 0:03:47.109363 ; 0.2985971943887776 ; 0.002499218994064355\n",
      "999 ; 0:07:32.133515 ; 0.2902902902902903 ; 0.001549666821633349\n",
      "1499 ; 0:11:31.158948 ; 0.2781854569713142 ; 0.000307723869114781\n",
      "1999 ; 0:15:37.358090 ; 0.2861430715357679 ; 0.00038162112654556554\n",
      "2499 ; 0:19:22.698368 ; 0.2805122048819528 ; 0.0006702821278410822\n",
      "2999 ; 0:23:35.367039 ; 0.2784261420473491 ; 0.00020340706839562674\n",
      "3499 ; 0:27:19.991438 ; 0.27807945127179196 ; 0.0004378667133724494\n",
      "3999 ; 0:31:25.168175 ; 0.27556889222305575 ; 0.0001911826559094559\n",
      "4499 ; 0:35:07.867343 ; 0.2800622360524561 ; 0.00017046810541747638\n",
      "4999 ; 0:39:25.619583 ; 0.28005601120224044 ; 0.00024458847988259754\n",
      "5499 ; 0:43:22.313887 ; 0.28132387706855794 ; 0.0002779167361458507\n",
      "5999 ; 0:47:27.385960 ; 0.28271378563093846 ; 0.00017856231824906892\n",
      "6499 ; 0:51:32.340820 ; 0.28250500076934915 ; 0.00011767751653369107\n",
      "6999 ; 0:55:48.407651 ; 0.2797542506072296 ; 0.00015286179110344375\n",
      "7499 ; 1:00:31.310111 ; 0.28230430724096545 ; 0.00016300582745833165\n",
      "7999 ; 1:04:51.273808 ; 0.28328541067633456 ; 0.00011473152822395595\n",
      "8499 ; 1:09:06.818527 ; 0.28403341569596424 ; 0.0001261443090895985\n",
      "8999 ; 1:13:28.365743 ; 0.2850316701855762 ; 0.00010224948875255624\n",
      "9499 ; 1:17:50.480014 ; 0.2852931887567112 ; 0.00012896777417742742\n",
      "9999 ; 1:21:52.710376 ; 0.28492849284928495 ; 0.0002454590083456063\n"
     ]
    },
    {
     "data": {
      "text/plain": [
       "(0.28429958657821364, 0.00014734267485891938)"
      ]
     },
     "execution_count": 28,
     "metadata": {},
     "output_type": "execute_result"
    }
   ],
   "source": [
    "success_stats = []\n",
    "evaluate(40)"
   ]
  },
  {
   "cell_type": "code",
   "execution_count": 60,
   "metadata": {},
   "outputs": [],
   "source": [
    "success_df = pd.DataFrame(success_stats, columns=[\"robustness\", \"heuristic\", \"position\"])"
   ]
  },
  {
   "cell_type": "code",
   "execution_count": 61,
   "metadata": {},
   "outputs": [
    {
     "data": {
      "text/html": [
       "<div>\n",
       "<style scoped>\n",
       "    .dataframe tbody tr th:only-of-type {\n",
       "        vertical-align: middle;\n",
       "    }\n",
       "\n",
       "    .dataframe tbody tr th {\n",
       "        vertical-align: top;\n",
       "    }\n",
       "\n",
       "    .dataframe thead th {\n",
       "        text-align: right;\n",
       "    }\n",
       "</style>\n",
       "<table border=\"1\" class=\"dataframe\">\n",
       "  <thead>\n",
       "    <tr style=\"text-align: right;\">\n",
       "      <th></th>\n",
       "      <th>robustness</th>\n",
       "      <th>heuristic</th>\n",
       "      <th>position</th>\n",
       "    </tr>\n",
       "  </thead>\n",
       "  <tbody>\n",
       "    <tr>\n",
       "      <th>0</th>\n",
       "      <td>True</td>\n",
       "      <td>0.016910</td>\n",
       "      <td>0</td>\n",
       "    </tr>\n",
       "    <tr>\n",
       "      <th>1</th>\n",
       "      <td>True</td>\n",
       "      <td>0.008668</td>\n",
       "      <td>1</td>\n",
       "    </tr>\n",
       "    <tr>\n",
       "      <th>2</th>\n",
       "      <td>True</td>\n",
       "      <td>0.008204</td>\n",
       "      <td>2</td>\n",
       "    </tr>\n",
       "    <tr>\n",
       "      <th>3</th>\n",
       "      <td>True</td>\n",
       "      <td>0.002410</td>\n",
       "      <td>3</td>\n",
       "    </tr>\n",
       "    <tr>\n",
       "      <th>4</th>\n",
       "      <td>True</td>\n",
       "      <td>0.001941</td>\n",
       "      <td>4</td>\n",
       "    </tr>\n",
       "    <tr>\n",
       "      <th>...</th>\n",
       "      <td>...</td>\n",
       "      <td>...</td>\n",
       "      <td>...</td>\n",
       "    </tr>\n",
       "    <tr>\n",
       "      <th>67864</th>\n",
       "      <td>True</td>\n",
       "      <td>1.607269</td>\n",
       "      <td>2</td>\n",
       "    </tr>\n",
       "    <tr>\n",
       "      <th>67865</th>\n",
       "      <td>False</td>\n",
       "      <td>1.213506</td>\n",
       "      <td>4</td>\n",
       "    </tr>\n",
       "    <tr>\n",
       "      <th>67866</th>\n",
       "      <td>True</td>\n",
       "      <td>0.761030</td>\n",
       "      <td>5</td>\n",
       "    </tr>\n",
       "    <tr>\n",
       "      <th>67867</th>\n",
       "      <td>False</td>\n",
       "      <td>0.483132</td>\n",
       "      <td>7</td>\n",
       "    </tr>\n",
       "    <tr>\n",
       "      <th>67868</th>\n",
       "      <td>False</td>\n",
       "      <td>0.441766</td>\n",
       "      <td>9</td>\n",
       "    </tr>\n",
       "  </tbody>\n",
       "</table>\n",
       "<p>67869 rows × 3 columns</p>\n",
       "</div>"
      ],
      "text/plain": [
       "       robustness  heuristic  position\n",
       "0            True   0.016910         0\n",
       "1            True   0.008668         1\n",
       "2            True   0.008204         2\n",
       "3            True   0.002410         3\n",
       "4            True   0.001941         4\n",
       "...           ...        ...       ...\n",
       "67864        True   1.607269         2\n",
       "67865       False   1.213506         4\n",
       "67866        True   0.761030         5\n",
       "67867       False   0.483132         7\n",
       "67868       False   0.441766         9\n",
       "\n",
       "[67869 rows x 3 columns]"
      ]
     },
     "execution_count": 61,
     "metadata": {},
     "output_type": "execute_result"
    }
   ],
   "source": [
    "success_df"
   ]
  },
  {
   "cell_type": "code",
   "execution_count": 62,
   "metadata": {},
   "outputs": [
    {
     "data": {
      "text/plain": [
       "array([[<AxesSubplot:title={'center':'heuristic'}>]], dtype=object)"
      ]
     },
     "execution_count": 62,
     "metadata": {},
     "output_type": "execute_result"
    },
    {
     "data": {
      "image/png": "[encoded data removed]",
      "text/plain": [
       "<Figure size 432x288 with 1 Axes>"
      ]
     },
     "metadata": {
      "needs_background": "light"
     },
     "output_type": "display_data"
    }
   ],
   "source": [
    "success_df.hist(\"heuristic\")\n",
    "# success_df.hist(\"heuristic\", by=\"success\", sharex=True)"
   ]
  },
  {
   "cell_type": "code",
   "execution_count": 63,
   "metadata": {},
   "outputs": [
    {
     "data": {
      "text/html": [
       "<div>\n",
       "<style scoped>\n",
       "    .dataframe tbody tr th:only-of-type {\n",
       "        vertical-align: middle;\n",
       "    }\n",
       "\n",
       "    .dataframe tbody tr th {\n",
       "        vertical-align: top;\n",
       "    }\n",
       "\n",
       "    .dataframe thead th {\n",
       "        text-align: right;\n",
       "    }\n",
       "</style>\n",
       "<table border=\"1\" class=\"dataframe\">\n",
       "  <thead>\n",
       "    <tr style=\"text-align: right;\">\n",
       "      <th></th>\n",
       "      <th>robustness</th>\n",
       "      <th>heuristic</th>\n",
       "      <th>position</th>\n",
       "    </tr>\n",
       "    <tr>\n",
       "      <th>heuristic</th>\n",
       "      <th></th>\n",
       "      <th></th>\n",
       "      <th></th>\n",
       "    </tr>\n",
       "  </thead>\n",
       "  <tbody>\n",
       "    <tr>\n",
       "      <th>(-0.0602, 6.019]</th>\n",
       "      <td>66443</td>\n",
       "      <td>66443</td>\n",
       "      <td>66443</td>\n",
       "    </tr>\n",
       "    <tr>\n",
       "      <th>(6.019, 12.038]</th>\n",
       "      <td>1067</td>\n",
       "      <td>1067</td>\n",
       "      <td>1067</td>\n",
       "    </tr>\n",
       "    <tr>\n",
       "      <th>(12.038, 18.057]</th>\n",
       "      <td>251</td>\n",
       "      <td>251</td>\n",
       "      <td>251</td>\n",
       "    </tr>\n",
       "    <tr>\n",
       "      <th>(18.057, 24.077]</th>\n",
       "      <td>67</td>\n",
       "      <td>67</td>\n",
       "      <td>67</td>\n",
       "    </tr>\n",
       "    <tr>\n",
       "      <th>(24.077, 30.096]</th>\n",
       "      <td>27</td>\n",
       "      <td>27</td>\n",
       "      <td>27</td>\n",
       "    </tr>\n",
       "    <tr>\n",
       "      <th>(30.096, 36.115]</th>\n",
       "      <td>8</td>\n",
       "      <td>8</td>\n",
       "      <td>8</td>\n",
       "    </tr>\n",
       "    <tr>\n",
       "      <th>(36.115, 42.134]</th>\n",
       "      <td>2</td>\n",
       "      <td>2</td>\n",
       "      <td>2</td>\n",
       "    </tr>\n",
       "    <tr>\n",
       "      <th>(42.134, 48.153]</th>\n",
       "      <td>3</td>\n",
       "      <td>3</td>\n",
       "      <td>3</td>\n",
       "    </tr>\n",
       "    <tr>\n",
       "      <th>(48.153, 54.172]</th>\n",
       "      <td>0</td>\n",
       "      <td>0</td>\n",
       "      <td>0</td>\n",
       "    </tr>\n",
       "    <tr>\n",
       "      <th>(54.172, 60.191]</th>\n",
       "      <td>1</td>\n",
       "      <td>1</td>\n",
       "      <td>1</td>\n",
       "    </tr>\n",
       "  </tbody>\n",
       "</table>\n",
       "</div>"
      ],
      "text/plain": [
       "                  robustness  heuristic  position\n",
       "heuristic                                        \n",
       "(-0.0602, 6.019]       66443      66443     66443\n",
       "(6.019, 12.038]         1067       1067      1067\n",
       "(12.038, 18.057]         251        251       251\n",
       "(18.057, 24.077]          67         67        67\n",
       "(24.077, 30.096]          27         27        27\n",
       "(30.096, 36.115]           8          8         8\n",
       "(36.115, 42.134]           2          2         2\n",
       "(42.134, 48.153]           3          3         3\n",
       "(48.153, 54.172]           0          0         0\n",
       "(54.172, 60.191]           1          1         1"
      ]
     },
     "execution_count": 63,
     "metadata": {},
     "output_type": "execute_result"
    }
   ],
   "source": [
    "success_df.groupby(pd.cut(success_df[\"heuristic\"], bins=10)).count()"
   ]
  },
  {
   "cell_type": "code",
   "execution_count": 70,
   "metadata": {},
   "outputs": [
    {
     "name": "stdout",
     "output_type": "stream",
     "text": [
      "                   robustness  heuristic  position\n",
      "heuristic                                         \n",
      "(-0.00998, 0.998]       60045      60045     60045\n",
      "(0.998, 1.997]           3000       3000      3000\n",
      "(1.997, 2.995]           1436       1436      1436\n",
      "(2.995, 3.993]            924        924       924\n",
      "(3.993, 4.991]            590        590       590\n",
      "(4.991, 5.99]             437        437       437\n",
      "(5.99, 6.988]             297        297       297\n",
      "(6.988, 7.986]            238        238       238\n",
      "(7.986, 8.984]            154        154       154\n",
      "(8.984, 9.983]            161        161       161\n"
     ]
    },
    {
     "data": {
      "text/plain": [
       "<AxesSubplot:title={'center':'Robustness by Heuristic'}, xlabel='heuristic'>"
      ]
     },
     "execution_count": 70,
     "metadata": {},
     "output_type": "execute_result"
    },
    {
     "data": {
      "image/png": "[encoded data removed]",
      "text/plain": [
       "<Figure size 432x288 with 1 Axes>"
      ]
     },
     "metadata": {
      "needs_background": "light"
     },
     "output_type": "display_data"
    }
   ],
   "source": [
    "filtered = success_df[success_df[\"heuristic\"]<10]\n",
    "binned = filtered.groupby(pd.cut(filtered[\"heuristic\"], bins=10))\n",
    "print(binned.count())\n",
    "binned.mean().plot.line(\"heuristic\", \"robustness\", title=\"Robustness by Heuristic\")"
   ]
  },
  {
   "cell_type": "code",
   "execution_count": 68,
   "metadata": {},
   "outputs": [
    {
     "name": "stdout",
     "output_type": "stream",
     "text": [
      "                  robustness  heuristic  position\n",
      "heuristic                                        \n",
      "(-0.0198, 0.992]       60012      60012     60012\n",
      "(0.992, 1.984]          3005       3005      3005\n",
      "(1.984, 2.976]          1441       1441      1441\n",
      "(2.976, 3.968]           932        932       932\n",
      "(3.968, 4.959]           588        588       588\n",
      "(4.959, 5.951]           448        448       448\n",
      "(5.951, 6.943]           290        290       290\n",
      "(6.943, 7.935]           237        237       237\n",
      "(7.935, 8.927]           161        161       161\n",
      "(8.927, 9.919]           160        160       160\n",
      "(9.919, 10.911]          133        133       133\n",
      "(10.911, 11.903]          91         91        91\n",
      "(11.903, 12.894]          78         78        78\n",
      "(12.894, 13.886]          47         47        47\n",
      "(13.886, 14.878]          43         43        43\n",
      "(14.878, 15.87]           39         39        39\n",
      "(15.87, 16.862]           25         25        25\n",
      "(16.862, 17.854]          30         30        30\n",
      "(17.854, 18.846]          15         15        15\n",
      "(18.846, 19.838]          18         18        18\n"
     ]
    },
    {
     "data": {
      "text/plain": [
       "<AxesSubplot:title={'center':'Robustness by Heuristic'}, xlabel='heuristic'>"
      ]
     },
     "execution_count": 68,
     "metadata": {},
     "output_type": "execute_result"
    },
    {
     "data": {
      "image/png": "[encoded data removed]",
      "text/plain": [
       "<Figure size 432x288 with 1 Axes>"
      ]
     },
     "metadata": {
      "needs_background": "light"
     },
     "output_type": "display_data"
    }
   ],
   "source": [
    "filtered = success_df[success_df[\"heuristic\"]<20]\n",
    "binned = filtered.groupby(pd.cut(filtered[\"heuristic\"], bins=20))\n",
    "print(binned.count())\n",
    "binned.mean().plot.line(\"heuristic\", \"robustness\", title=\"Robustness by Heuristic\")"
   ]
  },
  {
   "cell_type": "code",
   "execution_count": 74,
   "metadata": {},
   "outputs": [
    {
     "name": "stdout",
     "output_type": "stream",
     "text": [
      "                  robustness  heuristic  position\n",
      "heuristic                                        \n",
      "(-0.0295, 0.983]       59966      59966     59966\n",
      "(0.983, 1.965]          3011       3011      3011\n",
      "(1.965, 2.948]          1458       1458      1458\n",
      "(2.948, 3.93]            924        924       924\n",
      "(3.93, 4.913]            597        597       597\n",
      "(4.913, 5.895]           449        449       449\n",
      "(5.895, 6.878]           295        295       295\n",
      "(6.878, 7.86]            236        236       236\n",
      "(7.86, 8.843]            170        170       170\n",
      "(8.843, 9.825]           155        155       155\n",
      "(9.825, 10.808]          132        132       132\n",
      "(10.808, 11.79]           93         93        93\n",
      "(11.79, 12.773]           84         84        84\n",
      "(12.773, 13.755]          47         47        47\n",
      "(13.755, 14.738]          38         38        38\n",
      "(14.738, 15.72]           48         48        48\n",
      "(15.72, 16.703]           25         25        25\n",
      "(16.703, 17.685]          26         26        26\n",
      "(17.685, 18.668]          17         17        17\n",
      "(18.668, 19.65]           18         18        18\n",
      "(19.65, 20.633]           11         11        11\n",
      "(20.633, 21.615]           7          7         7\n",
      "(21.615, 22.598]          11         11        11\n",
      "(22.598, 23.58]            6          6         6\n",
      "(23.58, 24.563]            6          6         6\n",
      "(24.563, 25.545]           9          9         9\n",
      "(25.545, 26.528]           5          5         5\n",
      "(26.528, 27.51]            4          4         4\n",
      "(27.51, 28.493]            2          2         2\n",
      "(28.493, 29.475]           5          5         5\n"
     ]
    },
    {
     "data": {
      "text/plain": [
       "<AxesSubplot:title={'center':'Robustness by Heuristic'}, xlabel='heuristic'>"
      ]
     },
     "execution_count": 74,
     "metadata": {},
     "output_type": "execute_result"
    },
    {
     "data": {
      "image/png": "[encoded data removed]",
      "text/plain": [
       "<Figure size 432x288 with 1 Axes>"
      ]
     },
     "metadata": {
      "needs_background": "light"
     },
     "output_type": "display_data"
    }
   ],
   "source": [
    "filtered = success_df[success_df[\"heuristic\"]<30]\n",
    "binned = filtered.groupby(pd.cut(filtered[\"heuristic\"], bins=30))\n",
    "print(binned.count())\n",
    "binned.mean().plot.line(\"heuristic\", \"robustness\", title=\"Robustness by Heuristic\")"
   ]
  },
  {
   "cell_type": "code",
   "execution_count": 75,
   "metadata": {},
   "outputs": [
    {
     "name": "stdout",
     "output_type": "stream",
     "text": [
      "                  robustness  heuristic  position\n",
      "heuristic                                        \n",
      "(-0.0374, 0.935]       59742      59742     59742\n",
      "(0.935, 1.869]          3052       3052      3052\n",
      "(1.869, 2.804]          1483       1483      1483\n",
      "(2.804, 3.739]           938        938       938\n",
      "(3.739, 4.673]           597        597       597\n",
      "(4.673, 5.608]           478        478       478\n",
      "(5.608, 6.543]           333        333       333\n",
      "(6.543, 7.477]           220        220       220\n",
      "(7.477, 8.412]           205        205       205\n",
      "(8.412, 9.347]           134        134       134\n",
      "(9.347, 10.281]          135        135       135\n",
      "(10.281, 11.216]         119        119       119\n",
      "(11.216, 12.151]          80         80        80\n",
      "(12.151, 13.085]          69         69        69\n",
      "(13.085, 14.02]           41         41        41\n",
      "(14.02, 14.955]           42         42        42\n",
      "(14.955, 15.889]          37         37        37\n",
      "(15.889, 16.824]          24         24        24\n",
      "(16.824, 17.759]          29         29        29\n",
      "(17.759, 18.693]          13         13        13\n",
      "(18.693, 19.628]          17         17        17\n",
      "(19.628, 20.562]          11         11        11\n",
      "(20.562, 21.497]           5          5         5\n",
      "(21.497, 22.432]          13         13        13\n",
      "(22.432, 23.366]           6          6         6\n",
      "(23.366, 24.301]           7          7         7\n",
      "(24.301, 25.236]           8          8         8\n",
      "(25.236, 26.17]            5          5         5\n",
      "(26.17, 27.105]            3          3         3\n",
      "(27.105, 28.04]            3          3         3\n",
      "(28.04, 28.974]            3          3         3\n",
      "(28.974, 29.909]           3          3         3\n",
      "(29.909, 30.844]           0          0         0\n",
      "(30.844, 31.778]           0          0         0\n",
      "(31.778, 32.713]           1          1         1\n",
      "(32.713, 33.648]           2          2         2\n",
      "(33.648, 34.582]           2          2         2\n",
      "(34.582, 35.517]           2          2         2\n",
      "(35.517, 36.452]           2          2         2\n",
      "(36.452, 37.386]           1          1         1\n"
     ]
    },
    {
     "data": {
      "text/plain": [
       "<AxesSubplot:title={'center':'Robustness by Heuristic'}, xlabel='heuristic'>"
      ]
     },
     "execution_count": 75,
     "metadata": {},
     "output_type": "execute_result"
    },
    {
     "data": {
      "image/png": "[encoded data removed]",
      "text/plain": [
       "<Figure size 432x288 with 1 Axes>"
      ]
     },
     "metadata": {
      "needs_background": "light"
     },
     "output_type": "display_data"
    }
   ],
   "source": [
    "filtered = success_df[success_df[\"heuristic\"]<40]\n",
    "binned = filtered.groupby(pd.cut(filtered[\"heuristic\"], bins=40))\n",
    "print(binned.count())\n",
    "binned.mean().plot.line(\"heuristic\", \"robustness\", title=\"Robustness by Heuristic\")"
   ]
  },
  {
   "cell_type": "code",
   "execution_count": 58,
   "metadata": {},
   "outputs": [
    {
     "data": {
      "text/html": [
       "<div>\n",
       "<style scoped>\n",
       "    .dataframe tbody tr th:only-of-type {\n",
       "        vertical-align: middle;\n",
       "    }\n",
       "\n",
       "    .dataframe tbody tr th {\n",
       "        vertical-align: top;\n",
       "    }\n",
       "\n",
       "    .dataframe thead th {\n",
       "        text-align: right;\n",
       "    }\n",
       "</style>\n",
       "<table border=\"1\" class=\"dataframe\">\n",
       "  <thead>\n",
       "    <tr style=\"text-align: right;\">\n",
       "      <th></th>\n",
       "      <th>robust</th>\n",
       "      <th>heuristic</th>\n",
       "      <th>position</th>\n",
       "    </tr>\n",
       "    <tr>\n",
       "      <th>heuristic</th>\n",
       "      <th></th>\n",
       "      <th></th>\n",
       "      <th></th>\n",
       "    </tr>\n",
       "  </thead>\n",
       "  <tbody>\n",
       "    <tr>\n",
       "      <th>(-0.00998, 0.998]</th>\n",
       "      <td>60045</td>\n",
       "      <td>60045</td>\n",
       "      <td>60045</td>\n",
       "    </tr>\n",
       "    <tr>\n",
       "      <th>(0.998, 1.997]</th>\n",
       "      <td>3000</td>\n",
       "      <td>3000</td>\n",
       "      <td>3000</td>\n",
       "    </tr>\n",
       "    <tr>\n",
       "      <th>(1.997, 2.995]</th>\n",
       "      <td>1436</td>\n",
       "      <td>1436</td>\n",
       "      <td>1436</td>\n",
       "    </tr>\n",
       "    <tr>\n",
       "      <th>(2.995, 3.993]</th>\n",
       "      <td>924</td>\n",
       "      <td>924</td>\n",
       "      <td>924</td>\n",
       "    </tr>\n",
       "    <tr>\n",
       "      <th>(3.993, 4.991]</th>\n",
       "      <td>590</td>\n",
       "      <td>590</td>\n",
       "      <td>590</td>\n",
       "    </tr>\n",
       "    <tr>\n",
       "      <th>(4.991, 5.99]</th>\n",
       "      <td>437</td>\n",
       "      <td>437</td>\n",
       "      <td>437</td>\n",
       "    </tr>\n",
       "    <tr>\n",
       "      <th>(5.99, 6.988]</th>\n",
       "      <td>297</td>\n",
       "      <td>297</td>\n",
       "      <td>297</td>\n",
       "    </tr>\n",
       "    <tr>\n",
       "      <th>(6.988, 7.986]</th>\n",
       "      <td>238</td>\n",
       "      <td>238</td>\n",
       "      <td>238</td>\n",
       "    </tr>\n",
       "    <tr>\n",
       "      <th>(7.986, 8.984]</th>\n",
       "      <td>154</td>\n",
       "      <td>154</td>\n",
       "      <td>154</td>\n",
       "    </tr>\n",
       "    <tr>\n",
       "      <th>(8.984, 9.983]</th>\n",
       "      <td>161</td>\n",
       "      <td>161</td>\n",
       "      <td>161</td>\n",
       "    </tr>\n",
       "  </tbody>\n",
       "</table>\n",
       "</div>"
      ],
      "text/plain": [
       "                   robust  heuristic  position\n",
       "heuristic                                     \n",
       "(-0.00998, 0.998]   60045      60045     60045\n",
       "(0.998, 1.997]       3000       3000      3000\n",
       "(1.997, 2.995]       1436       1436      1436\n",
       "(2.995, 3.993]        924        924       924\n",
       "(3.993, 4.991]        590        590       590\n",
       "(4.991, 5.99]         437        437       437\n",
       "(5.99, 6.988]         297        297       297\n",
       "(6.988, 7.986]        238        238       238\n",
       "(7.986, 8.984]        154        154       154\n",
       "(8.984, 9.983]        161        161       161"
      ]
     },
     "execution_count": 58,
     "metadata": {},
     "output_type": "execute_result"
    }
   ],
   "source": [
    "binned.count()"
   ]
  },
  {
   "cell_type": "code",
   "execution_count": 45,
   "metadata": {
    "scrolled": true
   },
   "outputs": [
    {
     "data": {
      "text/html": [
       "<div>\n",
       "<style scoped>\n",
       "    .dataframe tbody tr th:only-of-type {\n",
       "        vertical-align: middle;\n",
       "    }\n",
       "\n",
       "    .dataframe tbody tr th {\n",
       "        vertical-align: top;\n",
       "    }\n",
       "\n",
       "    .dataframe thead th {\n",
       "        text-align: right;\n",
       "    }\n",
       "</style>\n",
       "<table border=\"1\" class=\"dataframe\">\n",
       "  <thead>\n",
       "    <tr style=\"text-align: right;\">\n",
       "      <th></th>\n",
       "      <th>success</th>\n",
       "      <th>heuristic</th>\n",
       "    </tr>\n",
       "    <tr>\n",
       "      <th>position</th>\n",
       "      <th></th>\n",
       "      <th></th>\n",
       "    </tr>\n",
       "  </thead>\n",
       "  <tbody>\n",
       "    <tr>\n",
       "      <th>0</th>\n",
       "      <td>0.000000</td>\n",
       "      <td>0.618689</td>\n",
       "    </tr>\n",
       "    <tr>\n",
       "      <th>1</th>\n",
       "      <td>0.173820</td>\n",
       "      <td>1.216964</td>\n",
       "    </tr>\n",
       "    <tr>\n",
       "      <th>2</th>\n",
       "      <td>0.057348</td>\n",
       "      <td>0.455509</td>\n",
       "    </tr>\n",
       "    <tr>\n",
       "      <th>3</th>\n",
       "      <td>0.134571</td>\n",
       "      <td>0.741115</td>\n",
       "    </tr>\n",
       "    <tr>\n",
       "      <th>4</th>\n",
       "      <td>0.076190</td>\n",
       "      <td>0.311906</td>\n",
       "    </tr>\n",
       "    <tr>\n",
       "      <th>5</th>\n",
       "      <td>0.157975</td>\n",
       "      <td>0.544603</td>\n",
       "    </tr>\n",
       "    <tr>\n",
       "      <th>6</th>\n",
       "      <td>0.110220</td>\n",
       "      <td>0.311196</td>\n",
       "    </tr>\n",
       "    <tr>\n",
       "      <th>7</th>\n",
       "      <td>0.170732</td>\n",
       "      <td>0.555716</td>\n",
       "    </tr>\n",
       "    <tr>\n",
       "      <th>8</th>\n",
       "      <td>0.157676</td>\n",
       "      <td>0.322255</td>\n",
       "    </tr>\n",
       "    <tr>\n",
       "      <th>9</th>\n",
       "      <td>0.250000</td>\n",
       "      <td>0.636130</td>\n",
       "    </tr>\n",
       "    <tr>\n",
       "      <th>10</th>\n",
       "      <td>0.261261</td>\n",
       "      <td>0.462422</td>\n",
       "    </tr>\n",
       "    <tr>\n",
       "      <th>11</th>\n",
       "      <td>0.333333</td>\n",
       "      <td>0.808477</td>\n",
       "    </tr>\n",
       "    <tr>\n",
       "      <th>12</th>\n",
       "      <td>0.275000</td>\n",
       "      <td>0.625353</td>\n",
       "    </tr>\n",
       "    <tr>\n",
       "      <th>13</th>\n",
       "      <td>0.470588</td>\n",
       "      <td>1.165908</td>\n",
       "    </tr>\n",
       "    <tr>\n",
       "      <th>14</th>\n",
       "      <td>0.291667</td>\n",
       "      <td>0.914880</td>\n",
       "    </tr>\n",
       "    <tr>\n",
       "      <th>15</th>\n",
       "      <td>0.470588</td>\n",
       "      <td>1.416889</td>\n",
       "    </tr>\n",
       "    <tr>\n",
       "      <th>16</th>\n",
       "      <td>0.285714</td>\n",
       "      <td>0.746244</td>\n",
       "    </tr>\n",
       "    <tr>\n",
       "      <th>17</th>\n",
       "      <td>0.714286</td>\n",
       "      <td>1.177821</td>\n",
       "    </tr>\n",
       "    <tr>\n",
       "      <th>18</th>\n",
       "      <td>0.500000</td>\n",
       "      <td>1.252921</td>\n",
       "    </tr>\n",
       "    <tr>\n",
       "      <th>19</th>\n",
       "      <td>0.500000</td>\n",
       "      <td>0.340499</td>\n",
       "    </tr>\n",
       "    <tr>\n",
       "      <th>20</th>\n",
       "      <td>0.666667</td>\n",
       "      <td>1.149017</td>\n",
       "    </tr>\n",
       "    <tr>\n",
       "      <th>21</th>\n",
       "      <td>0.000000</td>\n",
       "      <td>0.082460</td>\n",
       "    </tr>\n",
       "    <tr>\n",
       "      <th>22</th>\n",
       "      <td>1.000000</td>\n",
       "      <td>1.981681</td>\n",
       "    </tr>\n",
       "    <tr>\n",
       "      <th>23</th>\n",
       "      <td>0.500000</td>\n",
       "      <td>0.657543</td>\n",
       "    </tr>\n",
       "  </tbody>\n",
       "</table>\n",
       "</div>"
      ],
      "text/plain": [
       "           success  heuristic\n",
       "position                     \n",
       "0         0.000000   0.618689\n",
       "1         0.173820   1.216964\n",
       "2         0.057348   0.455509\n",
       "3         0.134571   0.741115\n",
       "4         0.076190   0.311906\n",
       "5         0.157975   0.544603\n",
       "6         0.110220   0.311196\n",
       "7         0.170732   0.555716\n",
       "8         0.157676   0.322255\n",
       "9         0.250000   0.636130\n",
       "10        0.261261   0.462422\n",
       "11        0.333333   0.808477\n",
       "12        0.275000   0.625353\n",
       "13        0.470588   1.165908\n",
       "14        0.291667   0.914880\n",
       "15        0.470588   1.416889\n",
       "16        0.285714   0.746244\n",
       "17        0.714286   1.177821\n",
       "18        0.500000   1.252921\n",
       "19        0.500000   0.340499\n",
       "20        0.666667   1.149017\n",
       "21        0.000000   0.082460\n",
       "22        1.000000   1.981681\n",
       "23        0.500000   0.657543"
      ]
     },
     "execution_count": 45,
     "metadata": {},
     "output_type": "execute_result"
    }
   ],
   "source": [
    "success_df.groupby(success_df[\"position\"]).mean()"
   ]
  },
  {
   "cell_type": "code",
   "execution_count": 29,
   "metadata": {},
   "outputs": [
    {
     "data": {
      "text/plain": [
       "0       (-0.0255, 2.547]\n",
       "1       (-0.0255, 2.547]\n",
       "2       (-0.0255, 2.547]\n",
       "3       (-0.0255, 2.547]\n",
       "4       (-0.0255, 2.547]\n",
       "              ...       \n",
       "1325    (-0.0255, 2.547]\n",
       "1326    (-0.0255, 2.547]\n",
       "1327    (-0.0255, 2.547]\n",
       "1328    (-0.0255, 2.547]\n",
       "1329    (-0.0255, 2.547]\n",
       "Name: heuristic, Length: 1330, dtype: category\n",
       "Categories (10, interval[float64]): [(-0.0255, 2.547] < (2.547, 5.094] < (5.094, 7.641] < (7.641, 10.187] ... (15.281, 17.828] < (17.828, 20.375] < (20.375, 22.922] < (22.922, 25.468]]"
      ]
     },
     "execution_count": 29,
     "metadata": {},
     "output_type": "execute_result"
    }
   ],
   "source": [
    "pd.cut(success_df[\"heuristic\"], bins=10)"
   ]
  },
  {
   "cell_type": "code",
   "execution_count": 1,
   "metadata": {},
   "outputs": [
    {
     "name": "stdout",
     "output_type": "stream",
     "text": [
      "(0.927, 0.002, 0.925, 0.929)\n",
      "(0.657, 0.017, 0.64, 0.674)\n",
      "(0.565, 0.026, 0.539, 0.59)\n",
      "(0.494, 0.032, 0.461, 0.526)\n",
      "(0.471, 0.04, 0.431, 0.511)\n",
      "(0.416, 0.046, 0.37, 0.463)\n",
      "(0.377, 0.055, 0.322, 0.432)\n",
      "(0.307, 0.059, 0.248, 0.365)\n",
      "(0.344, 0.075, 0.269, 0.419)\n",
      "(0.335, 0.073, 0.262, 0.408)\n"
     ]
    }
   ],
   "source": [
    "def ci(x, z, n):\n",
    "    r = z * ( (x * (1 - x)) / n)**0.5\n",
    "    return round(x, 3), round(r, 3), round(x-r, 3), round(x+r, 3)\n",
    "\n",
    "print(ci(0.927271, 1.96, 60045))\n",
    "print(ci(0.656667, 1.96, 3000))\n",
    "print(ci(0.564763, 1.96, 1436))\n",
    "print(ci(0.493506, 1.96, 924))\n",
    "print(ci(0.471186, 1.96, 590))\n",
    "print(ci(0.416476, 1.96, 437))\n",
    "print(ci(0.377104, 1.96, 297))\n",
    "print(ci(0.306723, 1.96, 238))\n",
    "print(ci(0.344156, 1.96, 154))\n",
    "print(ci(0.335404, 1.96, 161))"
   ]
  },
  {
   "cell_type": "code",
   "execution_count": null,
   "metadata": {},
   "outputs": [],
   "source": []
  }
 ],
 "metadata": {
  "kernelspec": {
   "display_name": "Python 3",
   "language": "python",
   "name": "python3"
  },
  "language_info": {
   "codemirror_mode": {
    "name": "ipython",
    "version": 3
   },
   "file_extension": ".py",
   "mimetype": "text/x-python",
   "name": "python",
   "nbconvert_exporter": "python",
   "pygments_lexer": "ipython3",
   "version": "3.8.5"
  }
 },
 "nbformat": 4,
 "nbformat_minor": 4
}
